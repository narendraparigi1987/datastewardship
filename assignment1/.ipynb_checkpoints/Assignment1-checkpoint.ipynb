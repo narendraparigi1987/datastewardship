{
 "cells": [
  {
   "cell_type": "markdown",
   "metadata": {},
   "source": [
    "# Assignment 1 - Data Stewardship\n",
    "\n",
    "## Deadline:  November 14, 23:59,  [y.he2@uva.nl](mailto:y.he2@uva.nl)\n",
    "## Upload your notebook file on Canvas\n",
    "\n",
    "## Notebook made by  \n",
    "\n",
    "|**Name** | **Student id** | **email**|\n",
    "|:- |:-|:-|\n",
    "|narendra parigi | 12089265 | naren.parigi@gmail.com|\n",
    "|tom brogtrop    | 12476544 | tobro@outlook.com |\n",
    "\n",
    " We (enlisted above) declare that:\n",
    "1. Our assignment will be our own work.\n",
    "2. We shall not make solutions to the assignment available to anyone else.\n",
    "3. We shall not engage in any other activities that will dishonestly improve my results or dishonestly improve or hurt the results of others.\n",
    "\n",
    "Note: your notebook should give no errors when executed as \"Run All\" cells"
   ]
  },
  {
   "cell_type": "code",
   "execution_count": 1,
   "metadata": {},
   "outputs": [],
   "source": [
    "import matplotlib.pyplot as plt\n",
    "import numpy as np\n",
    "import scipy.stats as stats\n",
    "import pandas as pd\n",
    "%matplotlib inline"
   ]
  },
  {
   "cell_type": "code",
   "execution_count": 2,
   "metadata": {},
   "outputs": [],
   "source": [
    "churn= pd.read_csv('churn3.txt')"
   ]
  },
  {
   "cell_type": "code",
   "execution_count": 3,
   "metadata": {},
   "outputs": [
    {
     "name": "stdout",
     "output_type": "stream",
     "text": [
      "<class 'pandas.core.frame.DataFrame'>\n",
      "RangeIndex: 3229 entries, 0 to 3228\n",
      "Data columns (total 21 columns):\n",
      "State             3229 non-null object\n",
      "Account Length    3229 non-null int64\n",
      "Area Code         3229 non-null int64\n",
      "Phone             3229 non-null object\n",
      "Int'l Plan        3229 non-null object\n",
      "VMail Plan        3229 non-null object\n",
      "VMail Message     3229 non-null int64\n",
      "Day Mins          3229 non-null float64\n",
      "Day Calls         3229 non-null int64\n",
      "Day Charge        3229 non-null float64\n",
      "Eve Mins          3229 non-null float64\n",
      "Eve Calls         3229 non-null int64\n",
      "Eve Charge        3229 non-null float64\n",
      "Night Mins        3219 non-null object\n",
      "Night Calls       3229 non-null int64\n",
      "Night Charge      3229 non-null float64\n",
      "Intl Mins         3229 non-null float64\n",
      "Intl Calls        3229 non-null int64\n",
      "Intl Charge       3229 non-null float64\n",
      "CustServ Calls    3229 non-null int64\n",
      "Churn?            3229 non-null object\n",
      "dtypes: float64(7), int64(8), object(6)\n",
      "memory usage: 529.8+ KB\n"
     ]
    }
   ],
   "source": [
    "churn.info()"
   ]
  },
  {
   "cell_type": "markdown",
   "metadata": {},
   "source": [
    "# Question 1\n",
    "Explore whether there are missing values for any of the variables. Determine the number of observations in the sample."
   ]
  },
  {
   "cell_type": "markdown",
   "metadata": {},
   "source": [
    "1a. number of observations in the sample"
   ]
  },
  {
   "cell_type": "code",
   "execution_count": 4,
   "metadata": {},
   "outputs": [
    {
     "name": "stdout",
     "output_type": "stream",
     "text": [
      "number of observations in the sample 3229\n"
     ]
    }
   ],
   "source": [
    "print (\"number of observations in the sample {0}\".format(churn.shape[0]))"
   ]
  },
  {
   "cell_type": "markdown",
   "metadata": {},
   "source": [
    "1b. missing values for any of the variables"
   ]
  },
  {
   "cell_type": "code",
   "execution_count": 5,
   "metadata": {},
   "outputs": [
    {
     "data": {
      "text/plain": [
       "Index(['Night Mins'], dtype='object')"
      ]
     },
     "execution_count": 5,
     "metadata": {},
     "output_type": "execute_result"
    }
   ],
   "source": [
    "churn.columns[churn.isnull().any() | churn.isna().any()]"
   ]
  },
  {
   "cell_type": "code",
   "execution_count": 6,
   "metadata": {},
   "outputs": [
    {
     "name": "stdout",
     "output_type": "stream",
     "text": [
      "% of NaN values in DataFrame churn\n"
     ]
    },
    {
     "data": {
      "text/plain": [
       "State             0.000000\n",
       "Account Length    0.000000\n",
       "Area Code         0.000000\n",
       "Phone             0.000000\n",
       "Int'l Plan        0.000000\n",
       "VMail Plan        0.000000\n",
       "VMail Message     0.000000\n",
       "Day Mins          0.000000\n",
       "Day Calls         0.000000\n",
       "Day Charge        0.000000\n",
       "Eve Mins          0.000000\n",
       "Eve Calls         0.000000\n",
       "Eve Charge        0.000000\n",
       "Night Mins        0.309693\n",
       "Night Calls       0.000000\n",
       "Night Charge      0.000000\n",
       "Intl Mins         0.000000\n",
       "Intl Calls        0.000000\n",
       "Intl Charge       0.000000\n",
       "CustServ Calls    0.000000\n",
       "Churn?            0.000000\n",
       "dtype: float64"
      ]
     },
     "execution_count": 6,
     "metadata": {},
     "output_type": "execute_result"
    }
   ],
   "source": [
    "print(\"% of NaN values in DataFrame churn\")\n",
    "((churn.isna() | churn.isnull()).sum()/churn.shape[0])*100"
   ]
  },
  {
   "cell_type": "markdown",
   "metadata": {},
   "source": [
    "So we conclude that only the column 'Night Mins' has missing values, 0.3% of the values is missing."
   ]
  },
  {
   "cell_type": "markdown",
   "metadata": {},
   "source": [
    "# Question 2\n",
    "Create a pivot table which shows the number of observations with 'State'-values vertical and 'Area Code'-values horizontal. See also: [pbpython.com/pandas-pivot-table-explained.html](http://pbpython.com/pandas-pivot-table-explained.html)"
   ]
  },
  {
   "cell_type": "code",
   "execution_count": 13,
   "metadata": {},
   "outputs": [
    {
     "data": {
      "text/html": [
       "<div>\n",
       "<style scoped>\n",
       "    .dataframe tbody tr th:only-of-type {\n",
       "        vertical-align: middle;\n",
       "    }\n",
       "\n",
       "    .dataframe tbody tr th {\n",
       "        vertical-align: top;\n",
       "    }\n",
       "\n",
       "    .dataframe thead th {\n",
       "        text-align: right;\n",
       "    }\n",
       "</style>\n",
       "<table border=\"1\" class=\"dataframe\">\n",
       "  <thead>\n",
       "    <tr style=\"text-align: right;\">\n",
       "      <th>Area Code</th>\n",
       "      <th>408</th>\n",
       "      <th>415</th>\n",
       "      <th>510</th>\n",
       "    </tr>\n",
       "    <tr>\n",
       "      <th>State</th>\n",
       "      <th></th>\n",
       "      <th></th>\n",
       "      <th></th>\n",
       "    </tr>\n",
       "  </thead>\n",
       "  <tbody>\n",
       "    <tr>\n",
       "      <th>AK</th>\n",
       "      <td>12</td>\n",
       "      <td>23</td>\n",
       "      <td>14</td>\n",
       "    </tr>\n",
       "    <tr>\n",
       "      <th>AL</th>\n",
       "      <td>25</td>\n",
       "      <td>40</td>\n",
       "      <td>14</td>\n",
       "    </tr>\n",
       "    <tr>\n",
       "      <th>AR</th>\n",
       "      <td>13</td>\n",
       "      <td>26</td>\n",
       "      <td>14</td>\n",
       "    </tr>\n",
       "    <tr>\n",
       "      <th>AZ</th>\n",
       "      <td>14</td>\n",
       "      <td>33</td>\n",
       "      <td>13</td>\n",
       "    </tr>\n",
       "    <tr>\n",
       "      <th>CA</th>\n",
       "      <td>7</td>\n",
       "      <td>16</td>\n",
       "      <td>10</td>\n",
       "    </tr>\n",
       "    <tr>\n",
       "      <th>CO</th>\n",
       "      <td>22</td>\n",
       "      <td>28</td>\n",
       "      <td>12</td>\n",
       "    </tr>\n",
       "    <tr>\n",
       "      <th>CT</th>\n",
       "      <td>22</td>\n",
       "      <td>39</td>\n",
       "      <td>13</td>\n",
       "    </tr>\n",
       "    <tr>\n",
       "      <th>DC</th>\n",
       "      <td>14</td>\n",
       "      <td>26</td>\n",
       "      <td>12</td>\n",
       "    </tr>\n",
       "    <tr>\n",
       "      <th>DE</th>\n",
       "      <td>12</td>\n",
       "      <td>31</td>\n",
       "      <td>17</td>\n",
       "    </tr>\n",
       "    <tr>\n",
       "      <th>FL</th>\n",
       "      <td>12</td>\n",
       "      <td>30</td>\n",
       "      <td>20</td>\n",
       "    </tr>\n",
       "    <tr>\n",
       "      <th>GA</th>\n",
       "      <td>14</td>\n",
       "      <td>19</td>\n",
       "      <td>18</td>\n",
       "    </tr>\n",
       "    <tr>\n",
       "      <th>HI</th>\n",
       "      <td>15</td>\n",
       "      <td>29</td>\n",
       "      <td>7</td>\n",
       "    </tr>\n",
       "    <tr>\n",
       "      <th>IA</th>\n",
       "      <td>6</td>\n",
       "      <td>19</td>\n",
       "      <td>15</td>\n",
       "    </tr>\n",
       "    <tr>\n",
       "      <th>ID</th>\n",
       "      <td>10</td>\n",
       "      <td>38</td>\n",
       "      <td>20</td>\n",
       "    </tr>\n",
       "    <tr>\n",
       "      <th>IL</th>\n",
       "      <td>15</td>\n",
       "      <td>27</td>\n",
       "      <td>15</td>\n",
       "    </tr>\n",
       "    <tr>\n",
       "      <th>IN</th>\n",
       "      <td>15</td>\n",
       "      <td>32</td>\n",
       "      <td>20</td>\n",
       "    </tr>\n",
       "    <tr>\n",
       "      <th>KS</th>\n",
       "      <td>12</td>\n",
       "      <td>36</td>\n",
       "      <td>21</td>\n",
       "    </tr>\n",
       "    <tr>\n",
       "      <th>KY</th>\n",
       "      <td>14</td>\n",
       "      <td>31</td>\n",
       "      <td>12</td>\n",
       "    </tr>\n",
       "    <tr>\n",
       "      <th>LA</th>\n",
       "      <td>11</td>\n",
       "      <td>26</td>\n",
       "      <td>11</td>\n",
       "    </tr>\n",
       "    <tr>\n",
       "      <th>MA</th>\n",
       "      <td>24</td>\n",
       "      <td>27</td>\n",
       "      <td>11</td>\n",
       "    </tr>\n",
       "    <tr>\n",
       "      <th>MD</th>\n",
       "      <td>14</td>\n",
       "      <td>39</td>\n",
       "      <td>15</td>\n",
       "    </tr>\n",
       "    <tr>\n",
       "      <th>ME</th>\n",
       "      <td>15</td>\n",
       "      <td>24</td>\n",
       "      <td>22</td>\n",
       "    </tr>\n",
       "    <tr>\n",
       "      <th>MI</th>\n",
       "      <td>12</td>\n",
       "      <td>38</td>\n",
       "      <td>22</td>\n",
       "    </tr>\n",
       "    <tr>\n",
       "      <th>MN</th>\n",
       "      <td>19</td>\n",
       "      <td>38</td>\n",
       "      <td>22</td>\n",
       "    </tr>\n",
       "    <tr>\n",
       "      <th>MO</th>\n",
       "      <td>15</td>\n",
       "      <td>35</td>\n",
       "      <td>11</td>\n",
       "    </tr>\n",
       "    <tr>\n",
       "      <th>MS</th>\n",
       "      <td>14</td>\n",
       "      <td>31</td>\n",
       "      <td>19</td>\n",
       "    </tr>\n",
       "    <tr>\n",
       "      <th>MT</th>\n",
       "      <td>16</td>\n",
       "      <td>33</td>\n",
       "      <td>16</td>\n",
       "    </tr>\n",
       "    <tr>\n",
       "      <th>NC</th>\n",
       "      <td>24</td>\n",
       "      <td>28</td>\n",
       "      <td>15</td>\n",
       "    </tr>\n",
       "    <tr>\n",
       "      <th>ND</th>\n",
       "      <td>19</td>\n",
       "      <td>28</td>\n",
       "      <td>15</td>\n",
       "    </tr>\n",
       "    <tr>\n",
       "      <th>NE</th>\n",
       "      <td>13</td>\n",
       "      <td>33</td>\n",
       "      <td>14</td>\n",
       "    </tr>\n",
       "    <tr>\n",
       "      <th>NH</th>\n",
       "      <td>25</td>\n",
       "      <td>19</td>\n",
       "      <td>11</td>\n",
       "    </tr>\n",
       "    <tr>\n",
       "      <th>NJ</th>\n",
       "      <td>13</td>\n",
       "      <td>32</td>\n",
       "      <td>19</td>\n",
       "    </tr>\n",
       "    <tr>\n",
       "      <th>NM</th>\n",
       "      <td>16</td>\n",
       "      <td>35</td>\n",
       "      <td>10</td>\n",
       "    </tr>\n",
       "    <tr>\n",
       "      <th>NV</th>\n",
       "      <td>14</td>\n",
       "      <td>33</td>\n",
       "      <td>18</td>\n",
       "    </tr>\n",
       "    <tr>\n",
       "      <th>NY</th>\n",
       "      <td>18</td>\n",
       "      <td>46</td>\n",
       "      <td>17</td>\n",
       "    </tr>\n",
       "    <tr>\n",
       "      <th>OH</th>\n",
       "      <td>21</td>\n",
       "      <td>39</td>\n",
       "      <td>16</td>\n",
       "    </tr>\n",
       "    <tr>\n",
       "      <th>OK</th>\n",
       "      <td>15</td>\n",
       "      <td>26</td>\n",
       "      <td>17</td>\n",
       "    </tr>\n",
       "    <tr>\n",
       "      <th>OR</th>\n",
       "      <td>13</td>\n",
       "      <td>43</td>\n",
       "      <td>20</td>\n",
       "    </tr>\n",
       "    <tr>\n",
       "      <th>PA</th>\n",
       "      <td>14</td>\n",
       "      <td>19</td>\n",
       "      <td>12</td>\n",
       "    </tr>\n",
       "    <tr>\n",
       "      <th>RI</th>\n",
       "      <td>12</td>\n",
       "      <td>34</td>\n",
       "      <td>18</td>\n",
       "    </tr>\n",
       "    <tr>\n",
       "      <th>SC</th>\n",
       "      <td>13</td>\n",
       "      <td>29</td>\n",
       "      <td>17</td>\n",
       "    </tr>\n",
       "    <tr>\n",
       "      <th>SD</th>\n",
       "      <td>15</td>\n",
       "      <td>28</td>\n",
       "      <td>16</td>\n",
       "    </tr>\n",
       "    <tr>\n",
       "      <th>TN</th>\n",
       "      <td>11</td>\n",
       "      <td>30</td>\n",
       "      <td>12</td>\n",
       "    </tr>\n",
       "    <tr>\n",
       "      <th>TX</th>\n",
       "      <td>20</td>\n",
       "      <td>36</td>\n",
       "      <td>13</td>\n",
       "    </tr>\n",
       "    <tr>\n",
       "      <th>UT</th>\n",
       "      <td>11</td>\n",
       "      <td>36</td>\n",
       "      <td>23</td>\n",
       "    </tr>\n",
       "    <tr>\n",
       "      <th>VA</th>\n",
       "      <td>24</td>\n",
       "      <td>35</td>\n",
       "      <td>15</td>\n",
       "    </tr>\n",
       "    <tr>\n",
       "      <th>VT</th>\n",
       "      <td>17</td>\n",
       "      <td>35</td>\n",
       "      <td>18</td>\n",
       "    </tr>\n",
       "    <tr>\n",
       "      <th>WA</th>\n",
       "      <td>23</td>\n",
       "      <td>25</td>\n",
       "      <td>17</td>\n",
       "    </tr>\n",
       "    <tr>\n",
       "      <th>WI</th>\n",
       "      <td>22</td>\n",
       "      <td>34</td>\n",
       "      <td>20</td>\n",
       "    </tr>\n",
       "    <tr>\n",
       "      <th>WV</th>\n",
       "      <td>20</td>\n",
       "      <td>50</td>\n",
       "      <td>33</td>\n",
       "    </tr>\n",
       "    <tr>\n",
       "      <th>WY</th>\n",
       "      <td>16</td>\n",
       "      <td>38</td>\n",
       "      <td>19</td>\n",
       "    </tr>\n",
       "  </tbody>\n",
       "</table>\n",
       "</div>"
      ],
      "text/plain": [
       "Area Code  408  415  510\n",
       "State                   \n",
       "AK          12   23   14\n",
       "AL          25   40   14\n",
       "AR          13   26   14\n",
       "AZ          14   33   13\n",
       "CA           7   16   10\n",
       "CO          22   28   12\n",
       "CT          22   39   13\n",
       "DC          14   26   12\n",
       "DE          12   31   17\n",
       "FL          12   30   20\n",
       "GA          14   19   18\n",
       "HI          15   29    7\n",
       "IA           6   19   15\n",
       "ID          10   38   20\n",
       "IL          15   27   15\n",
       "IN          15   32   20\n",
       "KS          12   36   21\n",
       "KY          14   31   12\n",
       "LA          11   26   11\n",
       "MA          24   27   11\n",
       "MD          14   39   15\n",
       "ME          15   24   22\n",
       "MI          12   38   22\n",
       "MN          19   38   22\n",
       "MO          15   35   11\n",
       "MS          14   31   19\n",
       "MT          16   33   16\n",
       "NC          24   28   15\n",
       "ND          19   28   15\n",
       "NE          13   33   14\n",
       "NH          25   19   11\n",
       "NJ          13   32   19\n",
       "NM          16   35   10\n",
       "NV          14   33   18\n",
       "NY          18   46   17\n",
       "OH          21   39   16\n",
       "OK          15   26   17\n",
       "OR          13   43   20\n",
       "PA          14   19   12\n",
       "RI          12   34   18\n",
       "SC          13   29   17\n",
       "SD          15   28   16\n",
       "TN          11   30   12\n",
       "TX          20   36   13\n",
       "UT          11   36   23\n",
       "VA          24   35   15\n",
       "VT          17   35   18\n",
       "WA          23   25   17\n",
       "WI          22   34   20\n",
       "WV          20   50   33\n",
       "WY          16   38   19"
      ]
     },
     "execution_count": 13,
     "metadata": {},
     "output_type": "execute_result"
    }
   ],
   "source": [
    "pd.pivot_table(churn, values='Phone', index='State', columns='Area Code', aggfunc='count')"
   ]
  },
  {
   "cell_type": "markdown",
   "metadata": {},
   "source": [
    "# Question 3\n",
    "Use a histogram to determine visually whether there are any outliers among the number of *calls to customer service*, i.e. column $\\texttt{'CustServ Calls'}$."
   ]
  },
  {
   "cell_type": "code",
   "execution_count": 16,
   "metadata": {},
   "outputs": [
    {
     "data": {
      "text/plain": [
       "<matplotlib.axes._subplots.AxesSubplot at 0x2a6259e8470>"
      ]
     },
     "execution_count": 16,
     "metadata": {},
     "output_type": "execute_result"
    },
    {
     "data": {
      "image/png": "[encoded data removed]",
      "text/plain": [
       "<Figure size 432x288 with 1 Axes>"
      ]
     },
     "metadata": {
      "needs_background": "light"
     },
     "output_type": "display_data"
    }
   ],
   "source": [
    "churn['CustServ Calls'].hist(bins=10)"
   ]
  },
  {
   "cell_type": "markdown",
   "metadata": {},
   "source": [
    "Based on the histogram plot, we can state that the dataset (calls to customer service) is right skewed."
   ]
  },
  {
   "cell_type": "markdown",
   "metadata": {},
   "source": [
    "# Question 4\n",
    "Identify how many *customer service calls*, i.e. column $\\texttt{'CustServ Calls'}$, should be considered outliers, using:\n",
    "* a. The Z-score method, and\n",
    "* b. The IQR method."
   ]
  },
  {
   "cell_type": "code",
   "execution_count": 17,
   "metadata": {},
   "outputs": [
    {
     "data": {
      "text/plain": [
       "count    3229.000000\n",
       "mean        1.558377\n",
       "std         1.313386\n",
       "min         0.000000\n",
       "25%         1.000000\n",
       "50%         1.000000\n",
       "75%         2.000000\n",
       "max         9.000000\n",
       "Name: CustServ Calls, dtype: float64"
      ]
     },
     "execution_count": 17,
     "metadata": {},
     "output_type": "execute_result"
    }
   ],
   "source": [
    "churn['CustServ Calls'].describe()"
   ]
  },
  {
   "cell_type": "markdown",
   "metadata": {},
   "source": [
    "4a.number of outliers based on z-score\n",
    "\n",
    "To use z-score data need to be normally distributed.\n",
    "\n",
    "The empirical rule is, any z-score greater than 3 or less than -3 is considered to be an outlier."
   ]
  },
  {
   "cell_type": "code",
   "execution_count": 18,
   "metadata": {},
   "outputs": [],
   "source": [
    "def zscore(mean, std, datapoint):\n",
    "    \"\"\" derives z-score for a datapoint.\n",
    "    \"\"\"\n",
    "    return (datapoint - mean)/std \n",
    "    \n",
    "def outlier_z_score(df, column):\n",
    "    \"\"\"derives z-score for the column in dataframe. \n",
    "    \"\"\"\n",
    "    mean = df[column].mean()\n",
    "    std = df[column].std()\n",
    "    new_column = 'Z Score ' + column\n",
    "    df[new_column] = df[column].apply(lambda x: zscore(mean, std, x))\n",
    "    \n",
    "    return df "
   ]
  },
  {
   "cell_type": "code",
   "execution_count": 19,
   "metadata": {},
   "outputs": [],
   "source": [
    "churn = outlier_z_score(churn, 'CustServ Calls')"
   ]
  },
  {
   "cell_type": "code",
   "execution_count": 20,
   "metadata": {},
   "outputs": [
    {
     "name": "stdout",
     "output_type": "stream",
     "text": [
      "number of outliers based on z-score: 35\n"
     ]
    }
   ],
   "source": [
    "print('number of outliers based on z-score: {}'\n",
    "      .format(churn[['CustServ Calls']][abs(churn['Z Score CustServ Calls']) > 3].shape[0]))"
   ]
  },
  {
   "cell_type": "markdown",
   "metadata": {},
   "source": [
    "4b.number of outliers based on interquartile\n",
    "\n",
    "Outlier is any data point more than 1.5 interquartile ranges (IQRs) below the first quartile or above the third quartile."
   ]
  },
  {
   "cell_type": "code",
   "execution_count": 21,
   "metadata": {},
   "outputs": [],
   "source": [
    "def outlier_quantile(df, column):\n",
    "    \"\"\" flags outlier based on the interquartile range for the column in dataframe. \n",
    "    \"\"\"\n",
    "    q1 = df[column].quantile(0.25)\n",
    "    q3 = df[column].quantile(0.75)\n",
    "    iqr = q3-q1\n",
    "    low  = q1-1.5*iqr\n",
    "    high = q3+1.5*iqr\n",
    "    new_column = 'Outlier Flag ' + column\n",
    "    df[new_column] = df[column].apply(lambda x: 0 if ((x > low) & (x < high)) else 1)\n",
    "    return df"
   ]
  },
  {
   "cell_type": "code",
   "execution_count": 22,
   "metadata": {},
   "outputs": [],
   "source": [
    "churn = outlier_quantile(churn, 'CustServ Calls')"
   ]
  },
  {
   "cell_type": "code",
   "execution_count": 23,
   "metadata": {},
   "outputs": [
    {
     "name": "stdout",
     "output_type": "stream",
     "text": [
      "number of outliers based on interquartile range: 256\n"
     ]
    }
   ],
   "source": [
    "print('number of outliers based on interquartile range: {}'\n",
    "      .format(churn['CustServ Calls'][churn['Outlier Flag CustServ Calls'] == 1].shape[0]))"
   ]
  },
  {
   "cell_type": "markdown",
   "metadata": {},
   "source": [
    "# Question 5\n",
    "Estimate the skewness as follows:\n",
    "* a. Calculate the skewness of *day minutes*, i.e. column $\\texttt{'Day Mins'}$, based on $\\text{Skewness}=3\\frac{(\\text{mean}-\\text{median})}{\\text{standard deviation}}$.\n",
    "* b. Then calculate the skewness of the Z-score standardized *day minutes*. Comment.\n",
    "* c. Based on the skewness value, would you consider *day minutes* to be skewed or nearly\n",
    "perfectly symmetric?"
   ]
  },
  {
   "cell_type": "code",
   "execution_count": 29,
   "metadata": {},
   "outputs": [
    {
     "name": "stdout",
     "output_type": "stream",
     "text": [
      "Skewness of \"day minutes\": 0.015148565832415199\n"
     ]
    }
   ],
   "source": [
    "def skewness(df, column):\n",
    "    _mean = churn['Day Mins'].mean()\n",
    "    _median = churn['Day Mins'].median()\n",
    "    _stdev = churn['Day Mins'].std()\n",
    "    return 3 * (_mean - _median)/(_stdev)\n",
    "    \n",
    "print('Skewness of \"day minutes\": {}'.format(skewness(churn, 'Day Mins')))"
   ]
  },
  {
   "cell_type": "code",
   "execution_count": 30,
   "metadata": {},
   "outputs": [
    {
     "name": "stdout",
     "output_type": "stream",
     "text": [
      "Skewness of the z-score standardized \"day minutes\": 0.015148565832415199\n"
     ]
    }
   ],
   "source": [
    "# we re-use the earlier defined function for z-score\n",
    "\n",
    "churn = outlier_z_score(churn, 'Day Mins')\n",
    "print('Skewness of the z-score standardized \"day minutes\": {}'\n",
    "      .format(skewness(churn, 'Z Score Day Mins')))"
   ]
  },
  {
   "cell_type": "markdown",
   "metadata": {
    "collapsed": true
   },
   "source": [
    "Since the z-score transformation is a linear transformation the skewness of the transformed sample set does not change.\n",
    "\n",
    "The skewness score is small so the 'day minutes' data seems to be nearly perfectly symmetric. Visual inspection will corroborate our assumption"
   ]
  },
  {
   "cell_type": "code",
   "execution_count": 32,
   "metadata": {},
   "outputs": [
    {
     "data": {
      "text/plain": [
       "<matplotlib.axes._subplots.AxesSubplot at 0x2a625f2c470>"
      ]
     },
     "execution_count": 32,
     "metadata": {},
     "output_type": "execute_result"
    },
    {
     "data": {
      "image/png": "[encoded data removed]",
      "text/plain": [
       "<Figure size 432x288 with 1 Axes>"
      ]
     },
     "metadata": {
      "needs_background": "light"
     },
     "output_type": "display_data"
    }
   ],
   "source": [
    "churn['Day Mins'].hist(bins=25)"
   ]
  },
  {
   "cell_type": "markdown",
   "metadata": {},
   "source": [
    "The distribution seems to be nicely symmetric, although the flattened top of the distribution suggests that the dsitribution will not be a normal distribution."
   ]
  },
  {
   "cell_type": "markdown",
   "metadata": {},
   "source": [
    "# Question 6\n",
    "Work with *international minutes*, i.e. column $\\texttt{'Intl Mins'}$, as follows.\n",
    "* a. Construct a normal probability plot of *international minutes*. [Hint: use stats.probplot.]\n",
    "* b. What is stopping this variable from being normally distributed?\n",
    "* c. Construct a flag variable to deal with the situation in (b).\n",
    "* d. Construct a normal probability plot of the derived variable *nonzero international minutes*. Comment on the normality."
   ]
  },
  {
   "cell_type": "code",
   "execution_count": 33,
   "metadata": {},
   "outputs": [
    {
     "data": {
      "text/plain": [
       "((array([-3.52139654, -3.27893387, -3.14492092, ...,  3.14492092,\n",
       "          3.27893387,  3.52139654]),\n",
       "  array([ 0. ,  0. ,  0. , ..., 18.4, 18.9, 20. ])),\n",
       " (2.7897158858492794, 10.237844533911428, 0.9966910178659274))"
      ]
     },
     "execution_count": 33,
     "metadata": {},
     "output_type": "execute_result"
    },
    {
     "data": {
      "image/png": "[encoded data removed]",
      "text/plain": [
       "<Figure size 432x288 with 1 Axes>"
      ]
     },
     "metadata": {
      "needs_background": "light"
     },
     "output_type": "display_data"
    }
   ],
   "source": [
    "stats.probplot(churn['Intl Mins'], dist='norm', plot=plt)"
   ]
  },
  {
   "cell_type": "markdown",
   "metadata": {},
   "source": [
    "Since the number of international minutes can never be less than zero, a perfectly normal dsitribution can not be achieved. Thos minutes that would - under normal dsitribution - be 'less than zero' end up collected in a bucket at zero minutes. This is also visible in the histogram."
   ]
  },
  {
   "cell_type": "code",
   "execution_count": 35,
   "metadata": {},
   "outputs": [
    {
     "data": {
      "text/plain": [
       "<matplotlib.axes._subplots.AxesSubplot at 0x2a626443e48>"
      ]
     },
     "execution_count": 35,
     "metadata": {},
     "output_type": "execute_result"
    },
    {
     "data": {
      "image/png": "[encoded data removed]",
      "text/plain": [
       "<Figure size 432x288 with 1 Axes>"
      ]
     },
     "metadata": {
      "needs_background": "light"
     },
     "output_type": "display_data"
    }
   ],
   "source": [
    "churn['Intl Mins'].hist(bins=25)"
   ]
  },
  {
   "cell_type": "markdown",
   "metadata": {},
   "source": [
    "We can omit all data points where the number of minutes is zero."
   ]
  },
  {
   "cell_type": "code",
   "execution_count": 45,
   "metadata": {},
   "outputs": [
    {
     "name": "stdout",
     "output_type": "stream",
     "text": [
      "Number of samples with non-zero international minutes: 3211\n"
     ]
    }
   ],
   "source": [
    "nonzero_intl_minutes=churn[churn['Intl Mins']!=0.0]['Intl Mins']\n",
    "print(\"Number of samples with non-zero international minutes: {}\".\n",
    "     format(nonzero_intl_minutes.shape[0]))"
   ]
  },
  {
   "cell_type": "code",
   "execution_count": 48,
   "metadata": {},
   "outputs": [
    {
     "data": {
      "text/plain": [
       "((array([-3.51991427, -3.27735616, -3.14328531, ...,  3.14328531,\n",
       "          3.27735616,  3.51991427]),\n",
       "  array([ 1.1,  1.3,  2. , ..., 18.4, 18.9, 20. ])),\n",
       " (2.6984425678477995, 10.295235129243226, 0.9996804642745405))"
      ]
     },
     "execution_count": 48,
     "metadata": {},
     "output_type": "execute_result"
    },
    {
     "data": {
      "image/png": "[encoded data removed]",
      "text/plain": [
       "<Figure size 432x288 with 1 Axes>"
      ]
     },
     "metadata": {
      "needs_background": "light"
     },
     "output_type": "display_data"
    }
   ],
   "source": [
    "stats.probplot(nonzero_intl_minutes, dist='norm', plot=plt)"
   ]
  },
  {
   "cell_type": "markdown",
   "metadata": {},
   "source": [
    "The samples now appear to be vry close to a straight line on the probability plot. So we can conclude that the number of International Minutes is approximately normally dsitributed, provided that the number of International Minutes is more than 0."
   ]
  },
  {
   "cell_type": "code",
   "execution_count": null,
   "metadata": {},
   "outputs": [],
   "source": []
  }
 ],
 "metadata": {
  "kernelspec": {
   "display_name": "Python 3",
   "language": "python",
   "name": "python3"
  },
  "language_info": {
   "codemirror_mode": {
    "name": "ipython",
    "version": 3
   },
   "file_extension": ".py",
   "mimetype": "text/x-python",
   "name": "python",
   "nbconvert_exporter": "python",
   "pygments_lexer": "ipython3",
   "version": "3.7.3"
  }
 },
 "nbformat": 4,
 "nbformat_minor": 2
}
