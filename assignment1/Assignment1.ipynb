{
 "cells": [
  {
   "cell_type": "markdown",
   "metadata": {},
   "source": [
    "# Assignment 1 - Data Stewardship\n",
    "\n",
    "## Deadline:  November 14, 23:59,  [y.he2@uva.nl](mailto:y.he2@uva.nl)\n",
    "## Upload your notebook file on Canvas\n",
    "\n",
    "## Notebook made by  \n",
    "\n",
    "|**Name** | **Student id** | **email**|\n",
    "|:- |:-|:-|\n",
    "|. | | |\n",
    "|  | |. |\n",
    "\n",
    " We (enlisted above) declare that:\n",
    "1. Our assignment will be our own work.\n",
    "2. We shall not make solutions to the assignment available to anyone else.\n",
    "3. We shall not engage in any other activities that will dishonestly improve my results or dishonestly improve or hurt the results of others.\n",
    "\n",
    "Note: your notebook should give no errors when executed as \"Run All\" cells"
   ]
  },
  {
   "cell_type": "code",
   "execution_count": null,
   "metadata": {
    "collapsed": true
   },
   "outputs": [],
   "source": [
    "import matplotlib.pyplot as plt\n",
    "import numpy as np\n",
    "import scipy.stats as stats\n",
    "import pandas as pd\n",
    "%matplotlib inline"
   ]
  },
  {
   "cell_type": "code",
   "execution_count": null,
   "metadata": {
    "collapsed": true
   },
   "outputs": [],
   "source": [
    "churn= pd.read_csv('churn3.txt')"
   ]
  },
  {
   "cell_type": "markdown",
   "metadata": {},
   "source": [
    "# Question 1\n",
    "Explore whether there are missing values for any of the variables. Determine the number of observations in the sample."
   ]
  },
  {
   "cell_type": "code",
   "execution_count": null,
   "metadata": {
    "collapsed": true
   },
   "outputs": [],
   "source": []
  },
  {
   "cell_type": "markdown",
   "metadata": {},
   "source": [
    "# Question 2\n",
    "Create a pivot table which shows the number of observations with 'State'-values vertical and 'Area Code'-values horizontal. See also: [pbpython.com/pandas-pivot-table-explained.html](http://pbpython.com/pandas-pivot-table-explained.html)"
   ]
  },
  {
   "cell_type": "code",
   "execution_count": null,
   "metadata": {
    "collapsed": true
   },
   "outputs": [],
   "source": []
  },
  {
   "cell_type": "markdown",
   "metadata": {},
   "source": [
    "# Question 3\n",
    "Use a histogram to determine visually whether there are any outliers among the number of *calls to customer service*, i.e. column $\\texttt{'CustServ Calls'}$."
   ]
  },
  {
   "cell_type": "code",
   "execution_count": null,
   "metadata": {
    "collapsed": true
   },
   "outputs": [],
   "source": []
  },
  {
   "cell_type": "markdown",
   "metadata": {},
   "source": [
    "# Question 4\n",
    "Identify how many *customer service calls*, i.e. column $\\texttt{'CustServ Calls'}$, should be considered outliers, using:\n",
    "* a. The Z-score method, and\n",
    "* b. The IQR method."
   ]
  },
  {
   "cell_type": "code",
   "execution_count": null,
   "metadata": {
    "collapsed": true
   },
   "outputs": [],
   "source": []
  },
  {
   "cell_type": "markdown",
   "metadata": {},
   "source": [
    "# Question 5\n",
    "Estimate the skewness as follows:\n",
    "* a. Calculate the skewness of *day minutes*, i.e. column $\\texttt{'Day Mins'}$, based on $\\text{Skewness}=3\\frac{(\\text{mean}-\\text{median})}{\\text{standard deviation}}$.\n",
    "* b. Then calculate the skewness of the Z-score standardized *day minutes*. Comment.\n",
    "* c. Based on the skewness value, would you consider *day minutes* to be skewed or nearly\n",
    "perfectly symmetric?"
   ]
  },
  {
   "cell_type": "code",
   "execution_count": null,
   "metadata": {
    "collapsed": true
   },
   "outputs": [],
   "source": []
  },
  {
   "cell_type": "markdown",
   "metadata": {},
   "source": [
    "# Question 6\n",
    "Work with *international minutes*, i.e. column $\\texttt{'Intl Mins'}$, as follows.\n",
    "* a. Construct a normal probability plot of *international minutes*. [Hint: use stats.probplot.]\n",
    "* b. What is stopping this variable from being normally distributed?\n",
    "* c. Construct a flag variable to deal with the situation in (b).\n",
    "* d. Construct a normal probability plot of the derived variable *nonzero international minutes*. Comment on the normality."
   ]
  },
  {
   "cell_type": "code",
   "execution_count": null,
   "metadata": {
    "collapsed": true
   },
   "outputs": [],
   "source": []
  }
 ],
 "metadata": {
  "kernelspec": {
   "display_name": "Python 3",
   "language": "python",
   "name": "python3"
  },
  "language_info": {
   "codemirror_mode": {
    "name": "ipython",
    "version": 3
   },
   "file_extension": ".py",
   "mimetype": "text/x-python",
   "name": "python",
   "nbconvert_exporter": "python",
   "pygments_lexer": "ipython3",
   "version": "3.7.4"
  }
 },
 "nbformat": 4,
 "nbformat_minor": 2
}
