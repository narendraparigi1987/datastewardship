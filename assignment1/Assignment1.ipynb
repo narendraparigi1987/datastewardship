{
 "cells": [
  {
   "cell_type": "markdown",
   "metadata": {},
   "source": [
    "# Assignment 1 - Data Stewardship\n",
    "\n",
    "## Deadline:  November 14, 23:59,  [y.he2@uva.nl](mailto:y.he2@uva.nl)\n",
    "## Upload your notebook file on Canvas\n",
    "\n",
    "## Notebook made by  \n",
    "\n",
    "|**Name** | **Student id** | **email**|\n",
    "|:- |:-|:-|\n",
    "|narendra parigi | 12089265 | naren.parigi@gmail.com|\n",
    "|  | |. |\n",
    "\n",
    " We (enlisted above) declare that:\n",
    "1. Our assignment will be our own work.\n",
    "2. We shall not make solutions to the assignment available to anyone else.\n",
    "3. We shall not engage in any other activities that will dishonestly improve my results or dishonestly improve or hurt the results of others.\n",
    "\n",
    "Note: your notebook should give no errors when executed as \"Run All\" cells"
   ]
  },
  {
   "cell_type": "code",
   "execution_count": 60,
   "metadata": {},
   "outputs": [],
   "source": [
    "import matplotlib.pyplot as plt\n",
    "import numpy as np\n",
    "import scipy.stats as stats\n",
    "import pandas as pd\n",
    "%matplotlib inline"
   ]
  },
  {
   "cell_type": "code",
   "execution_count": 61,
   "metadata": {},
   "outputs": [],
   "source": [
    "churn= pd.read_csv('churn3.txt')"
   ]
  },
  {
   "cell_type": "code",
   "execution_count": 62,
   "metadata": {},
   "outputs": [
    {
     "name": "stdout",
     "output_type": "stream",
     "text": [
      "<class 'pandas.core.frame.DataFrame'>\n",
      "RangeIndex: 3229 entries, 0 to 3228\n",
      "Data columns (total 21 columns):\n",
      "State             3229 non-null object\n",
      "Account Length    3229 non-null int64\n",
      "Area Code         3229 non-null int64\n",
      "Phone             3229 non-null object\n",
      "Int'l Plan        3229 non-null object\n",
      "VMail Plan        3229 non-null object\n",
      "VMail Message     3229 non-null int64\n",
      "Day Mins          3229 non-null float64\n",
      "Day Calls         3229 non-null int64\n",
      "Day Charge        3229 non-null float64\n",
      "Eve Mins          3229 non-null float64\n",
      "Eve Calls         3229 non-null int64\n",
      "Eve Charge        3229 non-null float64\n",
      "Night Mins        3219 non-null object\n",
      "Night Calls       3229 non-null int64\n",
      "Night Charge      3229 non-null float64\n",
      "Intl Mins         3229 non-null float64\n",
      "Intl Calls        3229 non-null int64\n",
      "Intl Charge       3229 non-null float64\n",
      "CustServ Calls    3229 non-null int64\n",
      "Churn?            3229 non-null object\n",
      "dtypes: float64(7), int64(8), object(6)\n",
      "memory usage: 529.8+ KB\n"
     ]
    }
   ],
   "source": [
    "churn.info()"
   ]
  },
  {
   "cell_type": "markdown",
   "metadata": {},
   "source": [
    "# Question 1\n",
    "Explore whether there are missing values for any of the variables. Determine the number of observations in the sample."
   ]
  },
  {
   "cell_type": "markdown",
   "metadata": {},
   "source": [
    "1a. number of observations in the sample"
   ]
  },
  {
   "cell_type": "code",
   "execution_count": 63,
   "metadata": {},
   "outputs": [
    {
     "name": "stdout",
     "output_type": "stream",
     "text": [
      "number of observations in the sample 3229\n"
     ]
    }
   ],
   "source": [
    "print (\"number of observations in the sample {0}\".format(churn.shape[0]))"
   ]
  },
  {
   "cell_type": "markdown",
   "metadata": {},
   "source": [
    "1b. missing values for any of the variables"
   ]
  },
  {
   "cell_type": "code",
   "execution_count": 64,
   "metadata": {},
   "outputs": [
    {
     "data": {
      "text/plain": [
       "Index(['Night Mins'], dtype='object')"
      ]
     },
     "execution_count": 64,
     "metadata": {},
     "output_type": "execute_result"
    }
   ],
   "source": [
    "churn.columns[churn.isnull().any() | churn.isna().any()]"
   ]
  },
  {
   "cell_type": "code",
   "execution_count": 65,
   "metadata": {},
   "outputs": [
    {
     "name": "stdout",
     "output_type": "stream",
     "text": [
      "% of NaN values in DataFrame churn\n"
     ]
    },
    {
     "data": {
      "text/plain": [
       "State             0.000000\n",
       "Account Length    0.000000\n",
       "Area Code         0.000000\n",
       "Phone             0.000000\n",
       "Int'l Plan        0.000000\n",
       "VMail Plan        0.000000\n",
       "VMail Message     0.000000\n",
       "Day Mins          0.000000\n",
       "Day Calls         0.000000\n",
       "Day Charge        0.000000\n",
       "Eve Mins          0.000000\n",
       "Eve Calls         0.000000\n",
       "Eve Charge        0.000000\n",
       "Night Mins        0.309693\n",
       "Night Calls       0.000000\n",
       "Night Charge      0.000000\n",
       "Intl Mins         0.000000\n",
       "Intl Calls        0.000000\n",
       "Intl Charge       0.000000\n",
       "CustServ Calls    0.000000\n",
       "Churn?            0.000000\n",
       "dtype: float64"
      ]
     },
     "execution_count": 65,
     "metadata": {},
     "output_type": "execute_result"
    }
   ],
   "source": [
    "print(\"% of NaN values in DataFrame churn\")\n",
    "((churn.isna() | churn.isnull()).sum()/churn.shape[0])*100"
   ]
  },
  {
   "cell_type": "markdown",
   "metadata": {},
   "source": [
    "# Question 2\n",
    "Create a pivot table which shows the number of observations with 'State'-values vertical and 'Area Code'-values horizontal. See also: [pbpython.com/pandas-pivot-table-explained.html](http://pbpython.com/pandas-pivot-table-explained.html)"
   ]
  },
  {
   "cell_type": "code",
   "execution_count": 66,
   "metadata": {},
   "outputs": [
    {
     "data": {
      "text/html": [
       "<div>\n",
       "<style scoped>\n",
       "    .dataframe tbody tr th:only-of-type {\n",
       "        vertical-align: middle;\n",
       "    }\n",
       "\n",
       "    .dataframe tbody tr th {\n",
       "        vertical-align: top;\n",
       "    }\n",
       "\n",
       "    .dataframe thead th {\n",
       "        text-align: right;\n",
       "    }\n",
       "</style>\n",
       "<table border=\"1\" class=\"dataframe\">\n",
       "  <thead>\n",
       "    <tr style=\"text-align: right;\">\n",
       "      <th></th>\n",
       "      <th>Area Code</th>\n",
       "    </tr>\n",
       "    <tr>\n",
       "      <th>State</th>\n",
       "      <th></th>\n",
       "    </tr>\n",
       "  </thead>\n",
       "  <tbody>\n",
       "    <tr>\n",
       "      <th>AK</th>\n",
       "      <td>440.428571</td>\n",
       "    </tr>\n",
       "    <tr>\n",
       "      <th>AL</th>\n",
       "      <td>429.620253</td>\n",
       "    </tr>\n",
       "    <tr>\n",
       "      <th>AR</th>\n",
       "      <td>438.377358</td>\n",
       "    </tr>\n",
       "    <tr>\n",
       "      <th>AZ</th>\n",
       "      <td>433.950000</td>\n",
       "    </tr>\n",
       "    <tr>\n",
       "      <th>CA</th>\n",
       "      <td>442.303030</td>\n",
       "    </tr>\n",
       "    <tr>\n",
       "      <th>CO</th>\n",
       "      <td>430.903226</td>\n",
       "    </tr>\n",
       "    <tr>\n",
       "      <th>CT</th>\n",
       "      <td>429.608108</td>\n",
       "    </tr>\n",
       "    <tr>\n",
       "      <th>DC</th>\n",
       "      <td>435.038462</td>\n",
       "    </tr>\n",
       "    <tr>\n",
       "      <th>DE</th>\n",
       "      <td>440.516667</td>\n",
       "    </tr>\n",
       "    <tr>\n",
       "      <th>FL</th>\n",
       "      <td>444.290323</td>\n",
       "    </tr>\n",
       "    <tr>\n",
       "      <th>GA</th>\n",
       "      <td>446.607843</td>\n",
       "    </tr>\n",
       "    <tr>\n",
       "      <th>HI</th>\n",
       "      <td>425.980392</td>\n",
       "    </tr>\n",
       "    <tr>\n",
       "      <th>IA</th>\n",
       "      <td>449.575000</td>\n",
       "    </tr>\n",
       "    <tr>\n",
       "      <th>ID</th>\n",
       "      <td>441.911765</td>\n",
       "    </tr>\n",
       "    <tr>\n",
       "      <th>IL</th>\n",
       "      <td>438.157895</td>\n",
       "    </tr>\n",
       "    <tr>\n",
       "      <th>IN</th>\n",
       "      <td>441.791045</td>\n",
       "    </tr>\n",
       "    <tr>\n",
       "      <th>KS</th>\n",
       "      <td>442.695652</td>\n",
       "    </tr>\n",
       "    <tr>\n",
       "      <th>KY</th>\n",
       "      <td>433.280702</td>\n",
       "    </tr>\n",
       "    <tr>\n",
       "      <th>LA</th>\n",
       "      <td>435.166667</td>\n",
       "    </tr>\n",
       "    <tr>\n",
       "      <th>MA</th>\n",
       "      <td>429.145161</td>\n",
       "    </tr>\n",
       "    <tr>\n",
       "      <th>MD</th>\n",
       "      <td>434.514706</td>\n",
       "    </tr>\n",
       "    <tr>\n",
       "      <th>ME</th>\n",
       "      <td>447.540984</td>\n",
       "    </tr>\n",
       "    <tr>\n",
       "      <th>MI</th>\n",
       "      <td>442.861111</td>\n",
       "    </tr>\n",
       "    <tr>\n",
       "      <th>MN</th>\n",
       "      <td>439.772152</td>\n",
       "    </tr>\n",
       "    <tr>\n",
       "      <th>MO</th>\n",
       "      <td>430.409836</td>\n",
       "    </tr>\n",
       "    <tr>\n",
       "      <th>MS</th>\n",
       "      <td>441.671875</td>\n",
       "    </tr>\n",
       "    <tr>\n",
       "      <th>MT</th>\n",
       "      <td>436.661538</td>\n",
       "    </tr>\n",
       "    <tr>\n",
       "      <th>NC</th>\n",
       "      <td>433.761194</td>\n",
       "    </tr>\n",
       "    <tr>\n",
       "      <th>ND</th>\n",
       "      <td>435.838710</td>\n",
       "    </tr>\n",
       "    <tr>\n",
       "      <th>NE</th>\n",
       "      <td>435.650000</td>\n",
       "    </tr>\n",
       "    <tr>\n",
       "      <th>NH</th>\n",
       "      <td>430.818182</td>\n",
       "    </tr>\n",
       "    <tr>\n",
       "      <th>NJ</th>\n",
       "      <td>441.781250</td>\n",
       "    </tr>\n",
       "    <tr>\n",
       "      <th>NM</th>\n",
       "      <td>428.737705</td>\n",
       "    </tr>\n",
       "    <tr>\n",
       "      <th>NV</th>\n",
       "      <td>439.800000</td>\n",
       "    </tr>\n",
       "    <tr>\n",
       "      <th>NY</th>\n",
       "      <td>433.382716</td>\n",
       "    </tr>\n",
       "    <tr>\n",
       "      <th>OH</th>\n",
       "      <td>433.065789</td>\n",
       "    </tr>\n",
       "    <tr>\n",
       "      <th>OK</th>\n",
       "      <td>441.034483</td>\n",
       "    </tr>\n",
       "    <tr>\n",
       "      <th>OR</th>\n",
       "      <td>438.802632</td>\n",
       "    </tr>\n",
       "    <tr>\n",
       "      <th>PA</th>\n",
       "      <td>438.155556</td>\n",
       "    </tr>\n",
       "    <tr>\n",
       "      <th>RI</th>\n",
       "      <td>440.406250</td>\n",
       "    </tr>\n",
       "    <tr>\n",
       "      <th>SC</th>\n",
       "      <td>440.830508</td>\n",
       "    </tr>\n",
       "    <tr>\n",
       "      <th>SD</th>\n",
       "      <td>438.983051</td>\n",
       "    </tr>\n",
       "    <tr>\n",
       "      <th>TN</th>\n",
       "      <td>435.056604</td>\n",
       "    </tr>\n",
       "    <tr>\n",
       "      <th>TX</th>\n",
       "      <td>430.869565</td>\n",
       "    </tr>\n",
       "    <tr>\n",
       "      <th>UT</th>\n",
       "      <td>445.114286</td>\n",
       "    </tr>\n",
       "    <tr>\n",
       "      <th>VA</th>\n",
       "      <td>431.986486</td>\n",
       "    </tr>\n",
       "    <tr>\n",
       "      <th>VT</th>\n",
       "      <td>437.728571</td>\n",
       "    </tr>\n",
       "    <tr>\n",
       "      <th>WA</th>\n",
       "      <td>437.369231</td>\n",
       "    </tr>\n",
       "    <tr>\n",
       "      <th>WI</th>\n",
       "      <td>437.973684</td>\n",
       "    </tr>\n",
       "    <tr>\n",
       "      <th>WV</th>\n",
       "      <td>444.077670</td>\n",
       "    </tr>\n",
       "    <tr>\n",
       "      <th>WY</th>\n",
       "      <td>438.191781</td>\n",
       "    </tr>\n",
       "  </tbody>\n",
       "</table>\n",
       "</div>"
      ],
      "text/plain": [
       "        Area Code\n",
       "State            \n",
       "AK     440.428571\n",
       "AL     429.620253\n",
       "AR     438.377358\n",
       "AZ     433.950000\n",
       "CA     442.303030\n",
       "CO     430.903226\n",
       "CT     429.608108\n",
       "DC     435.038462\n",
       "DE     440.516667\n",
       "FL     444.290323\n",
       "GA     446.607843\n",
       "HI     425.980392\n",
       "IA     449.575000\n",
       "ID     441.911765\n",
       "IL     438.157895\n",
       "IN     441.791045\n",
       "KS     442.695652\n",
       "KY     433.280702\n",
       "LA     435.166667\n",
       "MA     429.145161\n",
       "MD     434.514706\n",
       "ME     447.540984\n",
       "MI     442.861111\n",
       "MN     439.772152\n",
       "MO     430.409836\n",
       "MS     441.671875\n",
       "MT     436.661538\n",
       "NC     433.761194\n",
       "ND     435.838710\n",
       "NE     435.650000\n",
       "NH     430.818182\n",
       "NJ     441.781250\n",
       "NM     428.737705\n",
       "NV     439.800000\n",
       "NY     433.382716\n",
       "OH     433.065789\n",
       "OK     441.034483\n",
       "OR     438.802632\n",
       "PA     438.155556\n",
       "RI     440.406250\n",
       "SC     440.830508\n",
       "SD     438.983051\n",
       "TN     435.056604\n",
       "TX     430.869565\n",
       "UT     445.114286\n",
       "VA     431.986486\n",
       "VT     437.728571\n",
       "WA     437.369231\n",
       "WI     437.973684\n",
       "WV     444.077670\n",
       "WY     438.191781"
      ]
     },
     "execution_count": 66,
     "metadata": {},
     "output_type": "execute_result"
    }
   ],
   "source": [
    "pd.pivot_table(churn[['State','Area Code']], index='State')"
   ]
  },
  {
   "cell_type": "markdown",
   "metadata": {},
   "source": [
    "# Question 3\n",
    "Use a histogram to determine visually whether there are any outliers among the number of *calls to customer service*, i.e. column $\\texttt{'CustServ Calls'}$."
   ]
  },
  {
   "cell_type": "code",
   "execution_count": 102,
   "metadata": {},
   "outputs": [
    {
     "data": {
      "text/plain": [
       "<matplotlib.axes._subplots.AxesSubplot at 0x1a1a569be0>"
      ]
     },
     "execution_count": 102,
     "metadata": {},
     "output_type": "execute_result"
    },
    {
     "data": {
      "image/png": "[encoded data removed]",
      "text/plain": [
       "<Figure size 432x288 with 1 Axes>"
      ]
     },
     "metadata": {
      "needs_background": "light"
     },
     "output_type": "display_data"
    }
   ],
   "source": [
    "churn['CustServ Calls'].hist(bins=10)"
   ]
  },
  {
   "cell_type": "markdown",
   "metadata": {},
   "source": [
    "Based on the histogram plot, we can state that the dataset (calls to customer service) is right skewed."
   ]
  },
  {
   "cell_type": "markdown",
   "metadata": {},
   "source": [
    "# Question 4\n",
    "Identify how many *customer service calls*, i.e. column $\\texttt{'CustServ Calls'}$, should be considered outliers, using:\n",
    "* a. The Z-score method, and\n",
    "* b. The IQR method."
   ]
  },
  {
   "cell_type": "code",
   "execution_count": 91,
   "metadata": {},
   "outputs": [
    {
     "data": {
      "text/plain": [
       "count    3229.000000\n",
       "mean        1.558377\n",
       "std         1.313386\n",
       "min         0.000000\n",
       "25%         1.000000\n",
       "50%         1.000000\n",
       "75%         2.000000\n",
       "max         9.000000\n",
       "Name: CustServ Calls, dtype: float64"
      ]
     },
     "execution_count": 91,
     "metadata": {},
     "output_type": "execute_result"
    }
   ],
   "source": [
    "churn['CustServ Calls'].describe()"
   ]
  },
  {
   "cell_type": "markdown",
   "metadata": {},
   "source": [
    "4a.number of outliers based on z-score\n",
    "\n",
    "To use z-score data need to be normally distributed.\n",
    "\n",
    "The empirical rule is, any z-score greater than 3 or less than -3 is considered to be an outlier."
   ]
  },
  {
   "cell_type": "code",
   "execution_count": 103,
   "metadata": {},
   "outputs": [],
   "source": [
    "def zscore(mean, std, datapoint):\n",
    "    \"\"\" derives z-score for a datapoint.\n",
    "    \"\"\"\n",
    "    return (datapoint - mean)/std \n",
    "    \n",
    "def outlier_z_score(df, column):\n",
    "    \"\"\"derives z-score for the column in dataframe. \n",
    "    \"\"\"\n",
    "    mean = df[column].mean()\n",
    "    std = df[column].std()\n",
    "    new_column = 'Z Score ' + column\n",
    "    df[new_column] = df[column].apply(lambda x: zscore(mean, std, x))\n",
    "    \n",
    "    return df "
   ]
  },
  {
   "cell_type": "code",
   "execution_count": 104,
   "metadata": {},
   "outputs": [],
   "source": [
    "churn = outlier_z_score(churn, 'CustServ Calls')"
   ]
  },
  {
   "cell_type": "code",
   "execution_count": 144,
   "metadata": {},
   "outputs": [
    {
     "name": "stdout",
     "output_type": "stream",
     "text": [
      "number of outliers based on z-score: 35\n"
     ]
    }
   ],
   "source": [
    "print('number of outliers based on z-score: {}'\n",
    "      .format(churn[['CustServ Calls']][abs(churn['Z Score CustServ Calls']) > 3].shape[0]))"
   ]
  },
  {
   "cell_type": "markdown",
   "metadata": {},
   "source": [
    "4b.number of outliers based on interquartile\n",
    "\n",
    "Outlier is any data point more than 1.5 interquartile ranges (IQRs) below the first quartile or above the third quartile."
   ]
  },
  {
   "cell_type": "code",
   "execution_count": 141,
   "metadata": {},
   "outputs": [],
   "source": [
    "def outlier_quantile(df, column):\n",
    "    \"\"\" flags outlier based on the interquartile range for the column in dataframe. \n",
    "    \"\"\"\n",
    "    q1 = df[column].quantile(0.25)\n",
    "    q3 = df[column].quantile(0.75)\n",
    "    iqr = q3-q1\n",
    "    low  = q1-1.5*iqr\n",
    "    high = q3+1.5*iqr\n",
    "    new_column = 'Outlier Flag ' + column\n",
    "    df[new_column] = df[column].apply(lambda x: 0 if ((x > low) & (x < high)) else 1)\n",
    "    return df"
   ]
  },
  {
   "cell_type": "code",
   "execution_count": 142,
   "metadata": {},
   "outputs": [],
   "source": [
    "churn = outlier_quantile(churn, 'CustServ Calls')"
   ]
  },
  {
   "cell_type": "code",
   "execution_count": 143,
   "metadata": {},
   "outputs": [
    {
     "name": "stdout",
     "output_type": "stream",
     "text": [
      "number of outliers based on interquartile range: 256\n"
     ]
    }
   ],
   "source": [
    "print('number of outliers based on interquartile range: {}'\n",
    "      .format(churn['CustServ Calls'][churn['Outlier Flag CustServ Calls'] == 1].shape[0]))"
   ]
  },
  {
   "cell_type": "markdown",
   "metadata": {},
   "source": [
    "# Question 5\n",
    "Estimate the skewness as follows:\n",
    "* a. Calculate the skewness of *day minutes*, i.e. column $\\texttt{'Day Mins'}$, based on $\\text{Skewness}=3\\frac{(\\text{mean}-\\text{median})}{\\text{standard deviation}}$.\n",
    "* b. Then calculate the skewness of the Z-score standardized *day minutes*. Comment.\n",
    "* c. Based on the skewness value, would you consider *day minutes* to be skewed or nearly\n",
    "perfectly symmetric?"
   ]
  },
  {
   "cell_type": "code",
   "execution_count": null,
   "metadata": {},
   "outputs": [],
   "source": []
  },
  {
   "cell_type": "code",
   "execution_count": null,
   "metadata": {},
   "outputs": [],
   "source": []
  },
  {
   "cell_type": "code",
   "execution_count": null,
   "metadata": {
    "collapsed": true
   },
   "outputs": [],
   "source": []
  },
  {
   "cell_type": "markdown",
   "metadata": {},
   "source": [
    "# Question 6\n",
    "Work with *international minutes*, i.e. column $\\texttt{'Intl Mins'}$, as follows.\n",
    "* a. Construct a normal probability plot of *international minutes*. [Hint: use stats.probplot.]\n",
    "* b. What is stopping this variable from being normally distributed?\n",
    "* c. Construct a flag variable to deal with the situation in (b).\n",
    "* d. Construct a normal probability plot of the derived variable *nonzero international minutes*. Comment on the normality."
   ]
  },
  {
   "cell_type": "code",
   "execution_count": null,
   "metadata": {
    "collapsed": true
   },
   "outputs": [],
   "source": []
  }
 ],
 "metadata": {
  "kernelspec": {
   "display_name": "Python 3",
   "language": "python",
   "name": "python3"
  },
  "language_info": {
   "codemirror_mode": {
    "name": "ipython",
    "version": 3
   },
   "file_extension": ".py",
   "mimetype": "text/x-python",
   "name": "python",
   "nbconvert_exporter": "python",
   "pygments_lexer": "ipython3",
   "version": "3.7.3"
  }
 },
 "nbformat": 4,
 "nbformat_minor": 2
}
