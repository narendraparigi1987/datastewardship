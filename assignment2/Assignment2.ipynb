{
 "cells": [
  {
   "cell_type": "markdown",
   "metadata": {},
   "source": [
    "## Assignment 2 - Data Stewardship\n",
    "\n",
    "## Deadline:  Nov 28, 23:59,  [y.he2@uva.nl](mailto:y.he2@uva.nl)\n",
    "\n",
    "## Upload your notebook file on Canvas\n",
    "\n",
    "## Notebook made by  \n",
    "\n",
    "|** Name** | **Student id** | **email**|\n",
    "|:- |:-|:-|\n",
    "|. | | |\n",
    "|  | |. |\n",
    "\n",
    " We (enlisted above) declare that:\n",
    "1. Our assignment will be our own work.\n",
    "2. We shall not make solutions to the assignment available to anyone else.\n",
    "3. We shall not engage in any other activities that will dishonestly improve my results or dishonestly improve or hurt the results of others.\n",
    "\n",
    "Note: \n",
    "- your notebook should give no errors when executed as \"Run All\" cells\n",
    "- ** Use markdown cell setting for comments/additional explanation **"
   ]
  },
  {
   "cell_type": "code",
   "execution_count": 1,
   "metadata": {},
   "outputs": [],
   "source": [
    "import matplotlib.pyplot as plt\n",
    "import numpy as np\n",
    "import scipy.stats as stats\n",
    "from pandas import Series, DataFrame\n",
    "import pandas as pd\n",
    "plt.rc('figure', figsize=(10, 6))\n",
    "%matplotlib inline\n",
    "from IPython.core.interactiveshell import InteractiveShell\n",
    "InteractiveShell.ast_node_interactivity = \"all\""
   ]
  },
  {
   "cell_type": "code",
   "execution_count": 2,
   "metadata": {},
   "outputs": [],
   "source": [
    "df=pd.read_csv('ClothingStore.csv')"
   ]
  },
  {
   "cell_type": "markdown",
   "metadata": {},
   "source": [
    "# <font color='blue'>Introduction</font>"
   ]
  },
  {
   "cell_type": "markdown",
   "metadata": {},
   "source": [
    "In this assignment, you are acting as analysts for a retail clothing store chain. \n",
    "\n",
    "The *ClothingStore* data set represents actual data provided by a clothing store chain in New England.\n",
    "\n",
    "Our data mining task is to classify which customers will respond to a direct-mail marketing promotion, based on information collected about the customers.\n",
    "\n",
    "You become more familiar with the data set using EDA, graphical and descriptive statistical methods for learning about data."
   ]
  },
  {
   "cell_type": "markdown",
   "metadata": {},
   "source": [
    "# <font color='blue'>Getting a feel for the data set</font>"
   ]
  },
  {
   "cell_type": "code",
   "execution_count": 3,
   "metadata": {},
   "outputs": [
    {
     "data": {
      "text/plain": [
       "0    0.834647\n",
       "1    0.165353\n",
       "Name: RESP, dtype: float64"
      ]
     },
     "execution_count": 3,
     "metadata": {},
     "output_type": "execute_result"
    }
   ],
   "source": [
    "df.RESP.value_counts(normalize=True)\n",
    "# dispaly the proportions of the unique values in RESP"
   ]
  },
  {
   "cell_type": "markdown",
   "metadata": {},
   "source": [
    "The target variable will be <font color='blue'>RESP</font>. As can be seen above, the overall proportion of responders to the direct-mail marketing promotion is 16.54%."
   ]
  },
  {
   "cell_type": "markdown",
   "metadata": {},
   "source": [
    "# Question 1\n",
    "One of the variable, <font color='blue'>CLUSTYPE</font>, contains the market segmentation category for each customer as defined by Nielsen Claritas.\n",
    "\n",
    "- (a) Generate a table that contains the top 5 cluster type with the highest frequencies (so most prevalent lifestyle cluster type).\n",
    "- (b) Match the cluster type in the file *Lifestyle.htm* and report the labels. \n",
    "\n",
    "    Hint: use ``pd.read_html('Lifestyle.htm')[0]`` to load the htm-file, and use ``DataFrame.set_index()`` method to set the DataFrame index using existing columns."
   ]
  },
  {
   "cell_type": "markdown",
   "metadata": {},
   "source": [
    "# <font color='blue'>Negative Amounts Spent?</font>"
   ]
  },
  {
   "cell_type": "markdown",
   "metadata": {},
   "source": [
    "# Question 2\n",
    "For many of the amounts-spent fields and the proportions-spent fields, some of the customers have negative values for the amount or proportion of money spent. How can this be? \n",
    "\n",
    "Now, the data were collected within a particular time period, which is unspecified, perhaps a month or a quarter. It is possible for a customer to have bought some clothing in a prior period, and returned the purchased clothing in the time period from which the data are collected. If this customer also did not make any major purchases during the time period of interest, then the net sales for this customer would be negative.\n",
    "\n",
    "- (a) For the variable <font color='blue'>PSSPEND</font> (amount spend at the PS franchise), determine the number customers with a negative amount spent.\n",
    "- (b) Generate a flag variable that recodes <font color='blue'>PSSPEND</font> in 'Neg','Pos' and 'Zero'.\n",
    "- (c) Using this flag variable generate a crosstab showing the response *rate* for the three spending  categories 'Neg','Pos' and 'Zero'.\n",
    "- (d) In the remainder of this assignment, we consider the absolute value of spending observations. Motivate why this is a reasonable choice given the results of 2(c)."
   ]
  },
  {
   "cell_type": "markdown",
   "metadata": {},
   "source": [
    "# <font color='blue'>Transformations to Achieve Normality or Symmetry</font>"
   ]
  },
  {
   "cell_type": "markdown",
   "metadata": {},
   "source": [
    "# Question 3\n",
    "Most of the numeric fields are right-skewed. For example, the column <font color='blue'>HI</font> contains a variable which takes large values for customers who purchase only a few different classes of clothes (e.g., blouses, legwear, pants), and small values for customers who purchase many different classes of clothes (hence giving an indication of the product uniformity).\n",
    "- (a) Generate a histogram of <font color='blue'>HI</font> using 50 bins. Do you see some spikes?\n",
    "\n",
    "Many data mining methods and models function best when the variables are normally distributed, or,\n",
    "at least when they are symmetric. The analyst may choose transformations such as the natural log (<tt>np.log</tt>) transformation or the square root transformation (<tt>np.sqrt</tt>).\n",
    "- (b) Transform <font color='blue'>HI</font> in <font color='blue'>HI_log</font> using the log transformation and generate again a histogram. Compare the moment skewness of <font color='blue'>HI</font> and <font color='blue'>HI_log</font> using the <tt>DataFrame</tt>.**skew()** method.\n",
    "- (c) The column <font color='blue'>PBLOUSES</font> contains information about the percentage spent on blouses. This could be negative, so first define <font color='blue'>PBLOUSES_abs</font> as the absolute value of <font color='blue'>PBLOUSES</font>. Do you find any difficulties in the log transformation? Motivate your answer."
   ]
  },
  {
   "cell_type": "markdown",
   "metadata": {},
   "source": [
    "# <font color='blue'>Exploring the relationship between the predictors and the response</font>"
   ]
  },
  {
   "cell_type": "markdown",
   "metadata": {},
   "source": [
    "# Question 4\n",
    "Next, we would like to investigate the relationship with the following flag variable and the response rate: \n",
    "\n",
    "- <font color='blue'>WEB</font>: equals 1 for those who have made purchases via the company’s web shopping option\n",
    "\n",
    "Please, answer the following three questions:\n",
    "\n",
    "- (a) Using crosstabs determine how many times Web buyers are more likely to respond to those have not made a purchase via the Web.\n",
    "\n",
    "- (b) Using normalized bar chart with the response (<font color='blue'>RESP</font>) overlay, describe for <font color='blue'>WEB</font> the relationship with the target variable.\n",
    "\n",
    "- (c) Using <tt>stats.chi2_contingency()</tt> test if the relationship between <font color='blue'>WEB</font> and <font color='blue'>RESP</font> is significant at a 5% nominal significance level. State the null hypothese, p-value, and decision."
   ]
  }
 ],
 "metadata": {
  "kernelspec": {
   "display_name": "Python 3",
   "language": "python",
   "name": "python3"
  },
  "language_info": {
   "codemirror_mode": {
    "name": "ipython",
    "version": 3
   },
   "file_extension": ".py",
   "mimetype": "text/x-python",
   "name": "python",
   "nbconvert_exporter": "python",
   "pygments_lexer": "ipython3",
   "version": "3.7.4"
  }
 },
 "nbformat": 4,
 "nbformat_minor": 2
}
