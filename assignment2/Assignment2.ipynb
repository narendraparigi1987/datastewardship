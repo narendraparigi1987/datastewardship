{
 "cells": [
  {
   "cell_type": "markdown",
   "metadata": {},
   "source": [
    "## Assignment 2 - Data Stewardship\n",
    "\n",
    "## Deadline:  Nov 28, 23:59,  [y.he2@uva.nl](mailto:y.he2@uva.nl)\n",
    "\n",
    "## Upload your notebook file on Canvas\n",
    "\n",
    "## Notebook made by  \n",
    "\n",
    "|**Name** | **Student id** | **email**|\n",
    "|:- |:-|:-|\n",
    "|narendra parigi | 12089265 | naren.parigi@gmail.com|\n",
    "|tom brogtrop    | 12476544 | tobro@outlook.com |\n",
    "\n",
    " We (enlisted above) declare that:\n",
    "1. Our assignment will be our own work.\n",
    "2. We shall not make solutions to the assignment available to anyone else.\n",
    "3. We shall not engage in any other activities that will dishonestly improve my results or dishonestly improve or hurt the results of others.\n",
    "\n",
    "Note: \n",
    "- your notebook should give no errors when executed as \"Run All\" cells\n",
    "- ** Use markdown cell setting for comments/additional explanation **"
   ]
  },
  {
   "cell_type": "code",
   "execution_count": 1,
   "metadata": {},
   "outputs": [],
   "source": [
    "import matplotlib.pyplot as plt\n",
    "import numpy as np\n",
    "import scipy.stats as stats\n",
    "from pandas import Series, DataFrame\n",
    "import pandas as pd\n",
    "plt.rc('figure', figsize=(10, 6))\n",
    "%matplotlib inline\n",
    "from IPython.core.interactiveshell import InteractiveShell\n",
    "InteractiveShell.ast_node_interactivity = \"all\""
   ]
  },
  {
   "cell_type": "code",
   "execution_count": 2,
   "metadata": {},
   "outputs": [],
   "source": [
    "df = pd.read_csv('ClothingStore.csv')"
   ]
  },
  {
   "cell_type": "code",
   "execution_count": 3,
   "metadata": {},
   "outputs": [
    {
     "name": "stdout",
     "output_type": "stream",
     "text": [
      "<class 'pandas.core.frame.DataFrame'>\n",
      "RangeIndex: 28799 entries, 0 to 28798\n",
      "Data columns (total 52 columns):\n",
      "HHKEY              28799 non-null float64\n",
      "ZIP_CODE           28799 non-null int64\n",
      "REC                28799 non-null int64\n",
      "FRE                28799 non-null int64\n",
      "MON                28799 non-null float64\n",
      "CC_CARD            28799 non-null int64\n",
      "AVRG               28799 non-null float64\n",
      "PC_CALC20          28799 non-null int64\n",
      "PSWEATERS          28799 non-null float64\n",
      "PKNIT_TOPS         28799 non-null float64\n",
      "PKNIT_DRES         28799 non-null float64\n",
      "PBLOUSES           28799 non-null float64\n",
      "PJACKETS           28799 non-null float64\n",
      "PCAR_PNTS          28799 non-null float64\n",
      "PCAS_PNTS          28799 non-null float64\n",
      "PSHIRTS            28799 non-null float64\n",
      "PDRESSES           28799 non-null float64\n",
      "PSUITS             28799 non-null float64\n",
      "POUTERWEAR         28799 non-null float64\n",
      "PJEWELRY           28799 non-null float64\n",
      "PFASHION           28799 non-null float64\n",
      "PLEGWEAR           28799 non-null float64\n",
      "PCOLLSPND          28799 non-null float64\n",
      "AMSPEND            28799 non-null float64\n",
      "PSSPEND            28799 non-null float64\n",
      "CCSPEND            28799 non-null float64\n",
      "AXSPEND            28799 non-null float64\n",
      "TMONSPEND          28799 non-null float64\n",
      "OMONSPEND          28799 non-null float64\n",
      "SMONSPEND          28799 non-null float64\n",
      "PREVPD             28799 non-null float64\n",
      "GMP                28799 non-null float64\n",
      "PROMOS             28799 non-null int64\n",
      "DAYS               28799 non-null int64\n",
      "FREDAYS            28799 non-null float64\n",
      "MARKDOWN           28799 non-null float64\n",
      "CLASSES            28799 non-null int64\n",
      "COUPONS            28799 non-null int64\n",
      "STYLES             28799 non-null int64\n",
      "STORES             28799 non-null int64\n",
      "STORELOY           28799 non-null int64\n",
      "VALPHON            28799 non-null object\n",
      "WEB                28799 non-null int64\n",
      "MAILED             28799 non-null int64\n",
      "RESPONDED          28799 non-null int64\n",
      "HI                 28799 non-null float64\n",
      "LTFREDAY           28799 non-null float64\n",
      "CLUSTYPE           28799 non-null int64\n",
      "PERCRET            28799 non-null float64\n",
      "RESP               28799 non-null int64\n",
      "Tot_Spend          28799 non-null float64\n",
      "Sales per Visit    28799 non-null float64\n",
      "dtypes: float64(34), int64(17), object(1)\n",
      "memory usage: 11.4+ MB\n"
     ]
    }
   ],
   "source": [
    "df.info()"
   ]
  },
  {
   "cell_type": "code",
   "execution_count": 4,
   "metadata": {},
   "outputs": [
    {
     "data": {
      "text/html": [
       "<div>\n",
       "<style scoped>\n",
       "    .dataframe tbody tr th:only-of-type {\n",
       "        vertical-align: middle;\n",
       "    }\n",
       "\n",
       "    .dataframe tbody tr th {\n",
       "        vertical-align: top;\n",
       "    }\n",
       "\n",
       "    .dataframe thead th {\n",
       "        text-align: right;\n",
       "    }\n",
       "</style>\n",
       "<table border=\"1\" class=\"dataframe\">\n",
       "  <thead>\n",
       "    <tr style=\"text-align: right;\">\n",
       "      <th></th>\n",
       "      <th>HHKEY</th>\n",
       "      <th>ZIP_CODE</th>\n",
       "      <th>REC</th>\n",
       "      <th>FRE</th>\n",
       "      <th>MON</th>\n",
       "      <th>CC_CARD</th>\n",
       "      <th>AVRG</th>\n",
       "      <th>PC_CALC20</th>\n",
       "      <th>PSWEATERS</th>\n",
       "      <th>PKNIT_TOPS</th>\n",
       "      <th>...</th>\n",
       "      <th>WEB</th>\n",
       "      <th>MAILED</th>\n",
       "      <th>RESPONDED</th>\n",
       "      <th>HI</th>\n",
       "      <th>LTFREDAY</th>\n",
       "      <th>CLUSTYPE</th>\n",
       "      <th>PERCRET</th>\n",
       "      <th>RESP</th>\n",
       "      <th>Tot_Spend</th>\n",
       "      <th>Sales per Visit</th>\n",
       "    </tr>\n",
       "  </thead>\n",
       "  <tbody>\n",
       "    <tr>\n",
       "      <th>0</th>\n",
       "      <td>9.955600e+12</td>\n",
       "      <td>1001</td>\n",
       "      <td>208</td>\n",
       "      <td>2</td>\n",
       "      <td>368.46</td>\n",
       "      <td>0</td>\n",
       "      <td>184.23</td>\n",
       "      <td>11</td>\n",
       "      <td>0.18</td>\n",
       "      <td>0.00</td>\n",
       "      <td>...</td>\n",
       "      <td>0</td>\n",
       "      <td>5</td>\n",
       "      <td>0</td>\n",
       "      <td>31.81</td>\n",
       "      <td>111.00</td>\n",
       "      <td>10</td>\n",
       "      <td>0.00</td>\n",
       "      <td>0</td>\n",
       "      <td>368.46</td>\n",
       "      <td>184.2300</td>\n",
       "    </tr>\n",
       "    <tr>\n",
       "      <th>1</th>\n",
       "      <td>9.955600e+12</td>\n",
       "      <td>1028</td>\n",
       "      <td>6</td>\n",
       "      <td>4</td>\n",
       "      <td>258.00</td>\n",
       "      <td>1</td>\n",
       "      <td>64.50</td>\n",
       "      <td>11</td>\n",
       "      <td>0.26</td>\n",
       "      <td>0.16</td>\n",
       "      <td>...</td>\n",
       "      <td>0</td>\n",
       "      <td>4</td>\n",
       "      <td>2</td>\n",
       "      <td>32.72</td>\n",
       "      <td>43.50</td>\n",
       "      <td>10</td>\n",
       "      <td>0.03</td>\n",
       "      <td>1</td>\n",
       "      <td>258.00</td>\n",
       "      <td>64.5000</td>\n",
       "    </tr>\n",
       "    <tr>\n",
       "      <th>2</th>\n",
       "      <td>9.955600e+12</td>\n",
       "      <td>1056</td>\n",
       "      <td>327</td>\n",
       "      <td>2</td>\n",
       "      <td>77.00</td>\n",
       "      <td>0</td>\n",
       "      <td>38.50</td>\n",
       "      <td>11</td>\n",
       "      <td>1.00</td>\n",
       "      <td>0.00</td>\n",
       "      <td>...</td>\n",
       "      <td>0</td>\n",
       "      <td>4</td>\n",
       "      <td>0</td>\n",
       "      <td>100.00</td>\n",
       "      <td>68.60</td>\n",
       "      <td>16</td>\n",
       "      <td>0.00</td>\n",
       "      <td>0</td>\n",
       "      <td>77.00</td>\n",
       "      <td>38.5000</td>\n",
       "    </tr>\n",
       "    <tr>\n",
       "      <th>3</th>\n",
       "      <td>9.955600e+12</td>\n",
       "      <td>1118</td>\n",
       "      <td>66</td>\n",
       "      <td>8</td>\n",
       "      <td>846.06</td>\n",
       "      <td>1</td>\n",
       "      <td>105.75</td>\n",
       "      <td>11</td>\n",
       "      <td>0.38</td>\n",
       "      <td>0.00</td>\n",
       "      <td>...</td>\n",
       "      <td>0</td>\n",
       "      <td>9</td>\n",
       "      <td>6</td>\n",
       "      <td>23.27</td>\n",
       "      <td>26.96</td>\n",
       "      <td>10</td>\n",
       "      <td>0.00</td>\n",
       "      <td>0</td>\n",
       "      <td>846.06</td>\n",
       "      <td>105.7575</td>\n",
       "    </tr>\n",
       "    <tr>\n",
       "      <th>4</th>\n",
       "      <td>9.955600e+12</td>\n",
       "      <td>1107</td>\n",
       "      <td>49</td>\n",
       "      <td>1</td>\n",
       "      <td>87.44</td>\n",
       "      <td>0</td>\n",
       "      <td>87.44</td>\n",
       "      <td>11</td>\n",
       "      <td>0.20</td>\n",
       "      <td>0.20</td>\n",
       "      <td>...</td>\n",
       "      <td>0</td>\n",
       "      <td>0</td>\n",
       "      <td>0</td>\n",
       "      <td>28.52</td>\n",
       "      <td>24.50</td>\n",
       "      <td>20</td>\n",
       "      <td>0.00</td>\n",
       "      <td>0</td>\n",
       "      <td>87.44</td>\n",
       "      <td>87.4400</td>\n",
       "    </tr>\n",
       "  </tbody>\n",
       "</table>\n",
       "<p>5 rows × 52 columns</p>\n",
       "</div>"
      ],
      "text/plain": [
       "          HHKEY  ZIP_CODE  REC  FRE     MON  CC_CARD    AVRG  PC_CALC20  \\\n",
       "0  9.955600e+12      1001  208    2  368.46        0  184.23         11   \n",
       "1  9.955600e+12      1028    6    4  258.00        1   64.50         11   \n",
       "2  9.955600e+12      1056  327    2   77.00        0   38.50         11   \n",
       "3  9.955600e+12      1118   66    8  846.06        1  105.75         11   \n",
       "4  9.955600e+12      1107   49    1   87.44        0   87.44         11   \n",
       "\n",
       "   PSWEATERS  PKNIT_TOPS  ...  WEB  MAILED  RESPONDED      HI  LTFREDAY  \\\n",
       "0       0.18        0.00  ...    0       5          0   31.81    111.00   \n",
       "1       0.26        0.16  ...    0       4          2   32.72     43.50   \n",
       "2       1.00        0.00  ...    0       4          0  100.00     68.60   \n",
       "3       0.38        0.00  ...    0       9          6   23.27     26.96   \n",
       "4       0.20        0.20  ...    0       0          0   28.52     24.50   \n",
       "\n",
       "   CLUSTYPE  PERCRET  RESP  Tot_Spend  Sales per Visit  \n",
       "0        10     0.00     0     368.46         184.2300  \n",
       "1        10     0.03     1     258.00          64.5000  \n",
       "2        16     0.00     0      77.00          38.5000  \n",
       "3        10     0.00     0     846.06         105.7575  \n",
       "4        20     0.00     0      87.44          87.4400  \n",
       "\n",
       "[5 rows x 52 columns]"
      ]
     },
     "execution_count": 4,
     "metadata": {},
     "output_type": "execute_result"
    }
   ],
   "source": [
    "df.head(5)"
   ]
  },
  {
   "cell_type": "markdown",
   "metadata": {},
   "source": [
    "# <font color='blue'>Introduction</font>"
   ]
  },
  {
   "cell_type": "markdown",
   "metadata": {},
   "source": [
    "In this assignment, you are acting as analysts for a retail clothing store chain. \n",
    "\n",
    "The *ClothingStore* data set represents actual data provided by a clothing store chain in New England.\n",
    "\n",
    "Our data mining task is to classify which customers will respond to a direct-mail marketing promotion, based on information collected about the customers.\n",
    "\n",
    "You become more familiar with the data set using EDA, graphical and descriptive statistical methods for learning about data."
   ]
  },
  {
   "cell_type": "markdown",
   "metadata": {},
   "source": [
    "# <font color='blue'>Getting a feel for the data set</font>"
   ]
  },
  {
   "cell_type": "code",
   "execution_count": 5,
   "metadata": {},
   "outputs": [
    {
     "data": {
      "text/plain": [
       "0    0.834647\n",
       "1    0.165353\n",
       "Name: RESP, dtype: float64"
      ]
     },
     "execution_count": 5,
     "metadata": {},
     "output_type": "execute_result"
    }
   ],
   "source": [
    "df.RESP.value_counts(normalize=True)\n",
    "# dispaly the proportions of the unique values in RESP"
   ]
  },
  {
   "cell_type": "markdown",
   "metadata": {},
   "source": [
    "The target variable will be <font color='blue'>RESP</font>. As can be seen above, the overall proportion of responders to the direct-mail marketing promotion is 16.54%."
   ]
  },
  {
   "cell_type": "markdown",
   "metadata": {},
   "source": [
    "# Question 1\n",
    "One of the variable, <font color='blue'>CLUSTYPE</font>, contains the market segmentation category for each customer as defined by Nielsen Claritas.\n",
    "\n",
    "- (a) Generate a table that contains the top 5 cluster type with the highest frequencies (so most prevalent lifestyle cluster type).\n",
    "- (b) Match the cluster type in the file *Lifestyle.htm* and report the labels. \n",
    "\n",
    "    Hint: use ``pd.read_html('Lifestyle.htm')[0]`` to load the htm-file, and use ``DataFrame.set_index()`` method to set the DataFrame index using existing columns."
   ]
  },
  {
   "cell_type": "markdown",
   "metadata": {},
   "source": [
    "## Question 1a"
   ]
  },
  {
   "cell_type": "code",
   "execution_count": 6,
   "metadata": {},
   "outputs": [
    {
     "data": {
      "text/html": [
       "<div>\n",
       "<style scoped>\n",
       "    .dataframe tbody tr th:only-of-type {\n",
       "        vertical-align: middle;\n",
       "    }\n",
       "\n",
       "    .dataframe tbody tr th {\n",
       "        vertical-align: top;\n",
       "    }\n",
       "\n",
       "    .dataframe thead th {\n",
       "        text-align: right;\n",
       "    }\n",
       "</style>\n",
       "<table border=\"1\" class=\"dataframe\">\n",
       "  <thead>\n",
       "    <tr style=\"text-align: right;\">\n",
       "      <th></th>\n",
       "      <th>count</th>\n",
       "    </tr>\n",
       "    <tr>\n",
       "      <th>CLUSTYPE</th>\n",
       "      <th></th>\n",
       "    </tr>\n",
       "  </thead>\n",
       "  <tbody>\n",
       "    <tr>\n",
       "      <th>10</th>\n",
       "      <td>3488</td>\n",
       "    </tr>\n",
       "    <tr>\n",
       "      <th>1</th>\n",
       "      <td>2716</td>\n",
       "    </tr>\n",
       "    <tr>\n",
       "      <th>4</th>\n",
       "      <td>2284</td>\n",
       "    </tr>\n",
       "    <tr>\n",
       "      <th>16</th>\n",
       "      <td>1893</td>\n",
       "    </tr>\n",
       "    <tr>\n",
       "      <th>8</th>\n",
       "      <td>1430</td>\n",
       "    </tr>\n",
       "  </tbody>\n",
       "</table>\n",
       "</div>"
      ],
      "text/plain": [
       "          count\n",
       "CLUSTYPE       \n",
       "10         3488\n",
       "1          2716\n",
       "4          2284\n",
       "16         1893\n",
       "8          1430"
      ]
     },
     "execution_count": 6,
     "metadata": {},
     "output_type": "execute_result"
    }
   ],
   "source": [
    "grouped_by_cluster = pd.DataFrame(df.CLUSTYPE.value_counts().sort_values(ascending=False).reset_index().values, \n",
    "                               columns = ['CLUSTYPE', 'count']).set_index('CLUSTYPE')\n",
    "grouped_by_cluster.head(5)"
   ]
  },
  {
   "cell_type": "markdown",
   "metadata": {},
   "source": [
    "## Question 1b\n",
    "\n",
    "When joining the dataframe <code>grouped_by_cluster</code> with the dataframe <code>cluster_names</code> we have to be mindful of the fact that there are some records in the original data where the cluster is marked with 0 for which there is no matching cluster name. So we can not immediately join on the index, but we need to join on the column <code>Nr</code>."
   ]
  },
  {
   "cell_type": "code",
   "execution_count": 7,
   "metadata": {},
   "outputs": [
    {
     "data": {
      "text/html": [
       "<div>\n",
       "<style scoped>\n",
       "    .dataframe tbody tr th:only-of-type {\n",
       "        vertical-align: middle;\n",
       "    }\n",
       "\n",
       "    .dataframe tbody tr th {\n",
       "        vertical-align: top;\n",
       "    }\n",
       "\n",
       "    .dataframe thead th {\n",
       "        text-align: right;\n",
       "    }\n",
       "</style>\n",
       "<table border=\"1\" class=\"dataframe\">\n",
       "  <thead>\n",
       "    <tr style=\"text-align: right;\">\n",
       "      <th></th>\n",
       "      <th>count</th>\n",
       "      <th>Label</th>\n",
       "    </tr>\n",
       "    <tr>\n",
       "      <th>CLUSTYPE</th>\n",
       "      <th></th>\n",
       "      <th></th>\n",
       "    </tr>\n",
       "  </thead>\n",
       "  <tbody>\n",
       "    <tr>\n",
       "      <th>10</th>\n",
       "      <td>3488</td>\n",
       "      <td>Home Sweet Home</td>\n",
       "    </tr>\n",
       "    <tr>\n",
       "      <th>1</th>\n",
       "      <td>2716</td>\n",
       "      <td>Upper Crust</td>\n",
       "    </tr>\n",
       "    <tr>\n",
       "      <th>4</th>\n",
       "      <td>2284</td>\n",
       "      <td>Mid-Life Success</td>\n",
       "    </tr>\n",
       "    <tr>\n",
       "      <th>16</th>\n",
       "      <td>1893</td>\n",
       "      <td>Country Home Families</td>\n",
       "    </tr>\n",
       "    <tr>\n",
       "      <th>8</th>\n",
       "      <td>1430</td>\n",
       "      <td>Movers and Shakers</td>\n",
       "    </tr>\n",
       "  </tbody>\n",
       "</table>\n",
       "</div>"
      ],
      "text/plain": [
       "          count                  Label\n",
       "CLUSTYPE                              \n",
       "10         3488        Home Sweet Home\n",
       "1          2716            Upper Crust\n",
       "4          2284       Mid-Life Success\n",
       "16         1893  Country Home Families\n",
       "8          1430     Movers and Shakers"
      ]
     },
     "execution_count": 7,
     "metadata": {},
     "output_type": "execute_result"
    }
   ],
   "source": [
    "cluster_names = pd.read_html('Lifestyle.htm')[0].set_index('Nr')\n",
    "cluster_label = grouped_by_cluster.join(cluster_names[['Label']])\n",
    "cluster_label.head(5)"
   ]
  },
  {
   "cell_type": "markdown",
   "metadata": {},
   "source": [
    "# <font color='blue'>Negative Amounts Spent?</font>"
   ]
  },
  {
   "cell_type": "markdown",
   "metadata": {},
   "source": [
    "# Question 2\n",
    "For many of the amounts-spent fields and the proportions-spent fields, some of the customers have negative values for the amount or proportion of money spent. How can this be? \n",
    "\n",
    "Now, the data were collected within a particular time period, which is unspecified, perhaps a month or a quarter. It is possible for a customer to have bought some clothing in a prior period, and returned the purchased clothing in the time period from which the data are collected. If this customer also did not make any major purchases during the time period of interest, then the net sales for this customer would be negative.\n",
    "\n",
    "- (a) For the variable <font color='blue'>PSSPEND</font> (amount spend at the PS franchise), determine the number customers with a negative amount spent.\n",
    "- (b) Generate a flag variable that recodes <font color='blue'>PSSPEND</font> in 'Neg','Pos' and 'Zero'.\n",
    "- (c) Using this flag variable generate a crosstab showing the response *rate* for the three spending  categories 'Neg','Pos' and 'Zero'.\n",
    "- (d) In the remainder of this assignment, we consider the absolute value of spending observations. Motivate why this is a reasonable choice given the results of 2(c)."
   ]
  },
  {
   "cell_type": "markdown",
   "metadata": {},
   "source": [
    "## Question 2(a)"
   ]
  },
  {
   "cell_type": "code",
   "execution_count": 8,
   "metadata": {},
   "outputs": [
    {
     "name": "stdout",
     "output_type": "stream",
     "text": [
      "The number of customers with negative amount spent 102\n"
     ]
    }
   ],
   "source": [
    "# Assuming that each line represents a single customer\n",
    "print('The number of customers with negative amount spent {0}'.format(df[['PSSPEND']][df['PSSPEND'] < 0].shape[0]))"
   ]
  },
  {
   "cell_type": "markdown",
   "metadata": {},
   "source": [
    "## Question 2(b)"
   ]
  },
  {
   "cell_type": "code",
   "execution_count": 9,
   "metadata": {},
   "outputs": [
    {
     "data": {
      "text/html": [
       "<div>\n",
       "<style scoped>\n",
       "    .dataframe tbody tr th:only-of-type {\n",
       "        vertical-align: middle;\n",
       "    }\n",
       "\n",
       "    .dataframe tbody tr th {\n",
       "        vertical-align: top;\n",
       "    }\n",
       "\n",
       "    .dataframe thead th {\n",
       "        text-align: right;\n",
       "    }\n",
       "</style>\n",
       "<table border=\"1\" class=\"dataframe\">\n",
       "  <thead>\n",
       "    <tr style=\"text-align: right;\">\n",
       "      <th></th>\n",
       "      <th>count</th>\n",
       "    </tr>\n",
       "    <tr>\n",
       "      <th>CAT_PSSPEND</th>\n",
       "      <th></th>\n",
       "    </tr>\n",
       "  </thead>\n",
       "  <tbody>\n",
       "    <tr>\n",
       "      <th>Zero</th>\n",
       "      <td>15955</td>\n",
       "    </tr>\n",
       "    <tr>\n",
       "      <th>Pos</th>\n",
       "      <td>12742</td>\n",
       "    </tr>\n",
       "    <tr>\n",
       "      <th>Neg</th>\n",
       "      <td>102</td>\n",
       "    </tr>\n",
       "  </tbody>\n",
       "</table>\n",
       "</div>"
      ],
      "text/plain": [
       "             count\n",
       "CAT_PSSPEND       \n",
       "Zero         15955\n",
       "Pos          12742\n",
       "Neg            102"
      ]
     },
     "execution_count": 9,
     "metadata": {},
     "output_type": "execute_result"
    }
   ],
   "source": [
    "def cat_psspend(x):\n",
    "    if x < 0:\n",
    "        return 'Neg'\n",
    "    elif x > 0:\n",
    "        return 'Pos'\n",
    "    else:\n",
    "        return 'Zero'\n",
    "df['CAT_PSSPEND'] = df['PSSPEND'].apply(cat_psspend)\n",
    "pd.DataFrame(df.CAT_PSSPEND.value_counts().sort_values(ascending=False).reset_index().values, \n",
    "             columns=['CAT_PSSPEND','count']).set_index('CAT_PSSPEND')"
   ]
  },
  {
   "cell_type": "markdown",
   "metadata": {},
   "source": [
    "## Question 2(c)"
   ]
  },
  {
   "cell_type": "code",
   "execution_count": 10,
   "metadata": {},
   "outputs": [
    {
     "data": {
      "text/html": [
       "<div>\n",
       "<style scoped>\n",
       "    .dataframe tbody tr th:only-of-type {\n",
       "        vertical-align: middle;\n",
       "    }\n",
       "\n",
       "    .dataframe tbody tr th {\n",
       "        vertical-align: top;\n",
       "    }\n",
       "\n",
       "    .dataframe thead th {\n",
       "        text-align: right;\n",
       "    }\n",
       "</style>\n",
       "<table border=\"1\" class=\"dataframe\">\n",
       "  <thead>\n",
       "    <tr style=\"text-align: right;\">\n",
       "      <th>CAT_PSSPEND</th>\n",
       "      <th>Neg</th>\n",
       "      <th>Pos</th>\n",
       "      <th>Zero</th>\n",
       "      <th>All</th>\n",
       "    </tr>\n",
       "    <tr>\n",
       "      <th>RESP</th>\n",
       "      <th></th>\n",
       "      <th></th>\n",
       "      <th></th>\n",
       "      <th></th>\n",
       "    </tr>\n",
       "  </thead>\n",
       "  <tbody>\n",
       "    <tr>\n",
       "      <th>0</th>\n",
       "      <td>80</td>\n",
       "      <td>9914</td>\n",
       "      <td>14043</td>\n",
       "      <td>24037</td>\n",
       "    </tr>\n",
       "    <tr>\n",
       "      <th>1</th>\n",
       "      <td>22</td>\n",
       "      <td>2828</td>\n",
       "      <td>1912</td>\n",
       "      <td>4762</td>\n",
       "    </tr>\n",
       "    <tr>\n",
       "      <th>All</th>\n",
       "      <td>102</td>\n",
       "      <td>12742</td>\n",
       "      <td>15955</td>\n",
       "      <td>28799</td>\n",
       "    </tr>\n",
       "  </tbody>\n",
       "</table>\n",
       "</div>"
      ],
      "text/plain": [
       "CAT_PSSPEND  Neg    Pos   Zero    All\n",
       "RESP                                 \n",
       "0             80   9914  14043  24037\n",
       "1             22   2828   1912   4762\n",
       "All          102  12742  15955  28799"
      ]
     },
     "execution_count": 10,
     "metadata": {},
     "output_type": "execute_result"
    }
   ],
   "source": [
    "pd.crosstab(df.RESP, df.CAT_PSSPEND, margins=True)"
   ]
  },
  {
   "cell_type": "markdown",
   "metadata": {},
   "source": [
    "## Question 2(d)"
   ]
  },
  {
   "cell_type": "markdown",
   "metadata": {},
   "source": [
    "- The negative amount reflects the return, which ultimately indicates the amount spent by the consumer on previous purchases. So, taking absolute will not have an effect on the analysis.\n",
    "- The number of obervations are quite low compare to the positive and neutral. The negative or positive amount might not create an impact on the analysis.\n",
    "- If we need to mark new customers whether or not they respond to ads based on past behaviour, the negative amounts can be important. The customer who has already returned the product and has not made a substantial purchase over a certain period of time means that he is not interested in the shop making purchases for his / her clothing."
   ]
  },
  {
   "cell_type": "markdown",
   "metadata": {},
   "source": [
    "# <font color='blue'>Transformations to Achieve Normality or Symmetry</font>"
   ]
  },
  {
   "cell_type": "markdown",
   "metadata": {},
   "source": [
    "# Question 3\n",
    "Most of the numeric fields are right-skewed. For example, the column <font color='blue'>HI</font> contains a variable which takes large values for customers who purchase only a few different classes of clothes (e.g., blouses, legwear, pants), and small values for customers who purchase many different classes of clothes (hence giving an indication of the product uniformity).\n",
    "- (a) Generate a histogram of <font color='blue'>HI</font> using 50 bins. Do you see some spikes?\n",
    "\n",
    "Many data mining methods and models function best when the variables are normally distributed, or,\n",
    "at least when they are symmetric. The analyst may choose transformations such as the natural log (<tt>np.log</tt>) transformation or the square root transformation (<tt>np.sqrt</tt>).\n",
    "- (b) Transform <font color='blue'>HI</font> in <font color='blue'>HI_log</font> using the log transformation and generate again a histogram. Compare the moment skewness of <font color='blue'>HI</font> and <font color='blue'>HI_log</font> using the <tt>DataFrame</tt>.**skew()** method.\n",
    "- (c) The column <font color='blue'>PBLOUSES</font> contains information about the percentage spent on blouses. This could be negative, so first define <font color='blue'>PBLOUSES_abs</font> as the absolute value of <font color='blue'>PBLOUSES</font>. Do you find any difficulties in the log transformation? Motivate your answer."
   ]
  },
  {
   "cell_type": "markdown",
   "metadata": {},
   "source": [
    "## Question 3(a)"
   ]
  },
  {
   "cell_type": "code",
   "execution_count": 11,
   "metadata": {},
   "outputs": [
    {
     "data": {
      "text/plain": [
       "<matplotlib.axes._subplots.AxesSubplot at 0x1a1e260080>"
      ]
     },
     "execution_count": 11,
     "metadata": {},
     "output_type": "execute_result"
    },
    {
     "data": {
      "image/png": "[encoded data removed]",
      "text/plain": [
       "<Figure size 432x288 with 1 Axes>"
      ]
     },
     "metadata": {
      "needs_background": "light"
     },
     "output_type": "display_data"
    }
   ],
   "source": [
    "df['HI'].hist(bins=50)"
   ]
  },
  {
   "cell_type": "markdown",
   "metadata": {},
   "source": [
    "The histogram is skewed to the right. Spikes are obvious at values 50 and 100, etc."
   ]
  },
  {
   "cell_type": "markdown",
   "metadata": {},
   "source": [
    "## Question 3(b)"
   ]
  },
  {
   "cell_type": "code",
   "execution_count": 12,
   "metadata": {},
   "outputs": [
    {
     "data": {
      "text/plain": [
       "<matplotlib.axes._subplots.AxesSubplot at 0x1a1e4717b8>"
      ]
     },
     "execution_count": 12,
     "metadata": {},
     "output_type": "execute_result"
    },
    {
     "name": "stdout",
     "output_type": "stream",
     "text": [
      "mean of HI_log 3.3908269674371976\n",
      "meadian of Hi_log 3.39047341829918\n"
     ]
    },
    {
     "data": {
      "image/png": "[encoded data removed]",
      "text/plain": [
       "<Figure size 432x288 with 1 Axes>"
      ]
     },
     "metadata": {
      "needs_background": "light"
     },
     "output_type": "display_data"
    }
   ],
   "source": [
    "df['HI_log'] = np.log(df['HI'])\n",
    "df['HI_log'].hist(bins=100)\n",
    "print('mean of HI_log {0}'.format(df['HI_log'].mean()))\n",
    "print('meadian of Hi_log {0}'.format(df['HI_log'].median()))"
   ]
  },
  {
   "cell_type": "markdown",
   "metadata": {},
   "source": [
    "- The histogram is left skewed (long left tail) as the log of values greater than 0 and less than 1 results in negative values. \n",
    "- The peaks are still visibile at log(50)=3.9 and log(100)=4.6. \n",
    "- The distribution of Hi_log is asymmterical with long left tail though the mean and median are almost equal."
   ]
  },
  {
   "cell_type": "code",
   "execution_count": 13,
   "metadata": {},
   "outputs": [
    {
     "name": "stdout",
     "output_type": "stream",
     "text": [
      "skewness of HI_log -0.29968461580625555\n"
     ]
    }
   ],
   "source": [
    "print('skewness of HI_log {}'.format(df['HI_log'].skew()))"
   ]
  },
  {
   "cell_type": "markdown",
   "metadata": {},
   "source": [
    "- Negative value indicates that the distribution is asymmteric with long left tail as noticed in histogram"
   ]
  },
  {
   "cell_type": "code",
   "execution_count": 14,
   "metadata": {},
   "outputs": [
    {
     "name": "stdout",
     "output_type": "stream",
     "text": [
      "skewness of HI 1.7601168927393112\n"
     ]
    }
   ],
   "source": [
    "print('skewness of HI {}'.format(df['HI'].skew()))"
   ]
  },
  {
   "cell_type": "markdown",
   "metadata": {},
   "source": [
    "- Positive value indicates that the distribution is asymmteric with right tail with larger values."
   ]
  },
  {
   "cell_type": "markdown",
   "metadata": {},
   "source": [
    "## Question 3(c)"
   ]
  },
  {
   "cell_type": "code",
   "execution_count": 27,
   "metadata": {},
   "outputs": [
    {
     "name": "stderr",
     "output_type": "stream",
     "text": [
      "/anaconda3/lib/python3.7/site-packages/ipykernel_launcher.py:2: RuntimeWarning: divide by zero encountered in log\n",
      "  \n"
     ]
    }
   ],
   "source": [
    "df['PBLOUSES_abs'] = abs(df['PBLOUSES'])\n",
    "df['PBLOUSES_abs_log'] = np.log(df['PBLOUSES_abs'])"
   ]
  },
  {
   "cell_type": "markdown",
   "metadata": {},
   "source": [
    "- The runtime warning is raised since the column \"PBLOUSES\" contains zero values."
   ]
  },
  {
   "cell_type": "code",
   "execution_count": 30,
   "metadata": {},
   "outputs": [
    {
     "name": "stdout",
     "output_type": "stream",
     "text": [
      "number of zeros in the column \"PBLOUSES\" 11857\n"
     ]
    }
   ],
   "source": [
    "print('number of zeros in the column \"PBLOUSES\" {}'.format(df[['PBLOUSES_abs']][df['PBLOUSES_abs'] == 0].shape[0]))"
   ]
  },
  {
   "cell_type": "markdown",
   "metadata": {},
   "source": [
    "# <font color='blue'>Exploring the relationship between the predictors and the response</font>"
   ]
  },
  {
   "cell_type": "code",
   "execution_count": null,
   "metadata": {},
   "outputs": [],
   "source": []
  },
  {
   "cell_type": "markdown",
   "metadata": {},
   "source": [
    "# Question 4\n",
    "Next, we would like to investigate the relationship with the following flag variable and the response rate: \n",
    "\n",
    "- <font color='blue'>WEB</font>: equals 1 for those who have made purchases via the company’s web shopping option\n",
    "\n",
    "Please, answer the following three questions:\n",
    "\n",
    "- (a) Using crosstabs determine how many times Web buyers are more likely to respond to those have not made a purchase via the Web.\n",
    "\n",
    "- (b) Using normalized bar chart with the response (<font color='blue'>RESP</font>) overlay, describe for <font color='blue'>WEB</font> the relationship with the target variable.\n",
    "\n",
    "- (c) Using <tt>stats.chi2_contingency()</tt> test if the relationship between <font color='blue'>WEB</font> and <font color='blue'>RESP</font> is significant at a 5% nominal significance level. State the null hypothese, p-value, and decision."
   ]
  }
 ],
 "metadata": {
  "kernelspec": {
   "display_name": "Python 3",
   "language": "python",
   "name": "python3"
  },
  "language_info": {
   "codemirror_mode": {
    "name": "ipython",
    "version": 3
   },
   "file_extension": ".py",
   "mimetype": "text/x-python",
   "name": "python",
   "nbconvert_exporter": "python",
   "pygments_lexer": "ipython3",
   "version": "3.7.3"
  }
 },
 "nbformat": 4,
 "nbformat_minor": 2
}
