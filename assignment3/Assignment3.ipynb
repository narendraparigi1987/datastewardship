{
 "cells": [
  {
   "cell_type": "markdown",
   "metadata": {},
   "source": [
    "### Assignment 3 - Data Stewardship\n",
    "\n",
    "## Deadline:  December 12, 23:59  [y.he2@uva.nl](mailto:y.he2@uva.nl)\n",
    "\n",
    "## Upload your notebook file on Canvas\n",
    "\n",
    "|**Name** | **Student id** | **email**|\n",
    "|:- |:-|:-|\n",
    "|narendra parigi | 12089265 | naren.parigi@gmail.com|\n",
    "\n",
    "I (enlisted above) declare that:\n",
    "1. My assignment will be my own work.\n",
    "2. I shall not make solutions to the assignment available to anyone else.\n",
    "3. I shall not engage in any other activities that will dishonestly improve my results or dishonestly improve or hurt the results of others.\n",
    "\n",
    "Note:\n",
    "- your notebook should give no errors when executed as \"Run All\" cells\n",
    "- ** Use markdown cell setting for comments/additional explanation **"
   ]
  },
  {
   "cell_type": "code",
   "execution_count": 1,
   "metadata": {},
   "outputs": [],
   "source": [
    "import matplotlib.pyplot as plt\n",
    "import numpy as np\n",
    "from numpy import NaN\n",
    "import scipy.stats as stats\n",
    "from pandas import Series, DataFrame\n",
    "import pandas as pd\n",
    "plt.rc('figure', figsize=(10, 6))\n",
    "%matplotlib inline\n",
    "from IPython.core.interactiveshell import InteractiveShell\n",
    "InteractiveShell.ast_node_interactivity = \"all\"\n",
    "import warnings\n",
    "warnings.filterwarnings('ignore')"
   ]
  },
  {
   "cell_type": "markdown",
   "metadata": {},
   "source": [
    "# <font color='blue'>Question 1 [7 points] - Cleaning the scraped Nobel Prize dataset</font>"
   ]
  },
  {
   "cell_type": "markdown",
   "metadata": {},
   "source": [
    "The first part of this assignment consists of finding and eliminating dirty data in the Nobel Prize dataset. The final aim is to have a cleaned dataset that is ready to be explored by EDA.\n",
    "The following points can be considered:  \n",
    "   \n",
    "1. The first Nobel was awarded in 1901. Remove the earlier records.  \n",
    "\n",
    "2. Replace empty strings, i.e. <tt>''</tt>, with <tt>NaN</tt>\n",
    "\n",
    "3. Some names are marked with an asterisk, denoting that these winners are recorded by country of birth, not country at the time of winning the prize. Clean up those names by removing the asterisks and strip any remaining whitespace. You may need to input ```'\\*'``` for an asterisk string if you use the **contains** method. Generate a flag variable that equals 1 if the country is the country of birth.\n",
    "\n",
    "4. Some names are duplicated. This could indicate that some people have won the Nobel Prize more than once. However, it could also be that a winner is \"claimed\" by more than one country. Remove all real duplicates. For instance, Marie Curie is contained 4 times: twice for Poland and twice for France. Remove 2 of them (you have to make a choice here: remove winners country alphabetically of not?)\n",
    "\n",
    "5. Consider the missing values in the field <font color='blue'>category</font>. Are they really missing or just entry mistakes? [You don't have to complete missing values]  \n",
    "\n",
    "6. Is there an explanation of the missing values of the field <font color='blue'>gender</font>? Remove all records without gender.\n",
    "\n",
    "7. What about missing values for <font color='blue'>date_of_birth</font>?  \n",
    "\n",
    "Note: all changes should be made within this notebook. So, *no* alterations may be made to the input file outside this notebook (e.g. by using a file editor). When you have a choice, please <font color='red'>motivate</font>. *Show that you are aware of the consequences of your decision* (sometimes there is no right/wrong)."
   ]
  },
  {
   "cell_type": "markdown",
   "metadata": {},
   "source": [
    "### Read Data"
   ]
  },
  {
   "cell_type": "code",
   "execution_count": 8,
   "metadata": {},
   "outputs": [],
   "source": [
    "df_nobel = pd.read_json(\"nobel_winners.json\")\n",
    "df_ratings = pd.read_csv(\"JudgeRatings.csv\")"
   ]
  },
  {
   "cell_type": "code",
   "execution_count": 9,
   "metadata": {},
   "outputs": [
    {
     "name": "stdout",
     "output_type": "stream",
     "text": [
      "<class 'pandas.core.frame.DataFrame'>\n",
      "RangeIndex: 1052 entries, 0 to 1051\n",
      "Data columns (total 12 columns):\n",
      "born_in           1052 non-null object\n",
      "category          1052 non-null object\n",
      "country           1052 non-null object\n",
      "date_of_birth     1044 non-null object\n",
      "date_of_death     1044 non-null object\n",
      "gender            1040 non-null object\n",
      "link              1052 non-null object\n",
      "name              1052 non-null object\n",
      "place_of_birth    1044 non-null object\n",
      "place_of_death    1044 non-null object\n",
      "text              1052 non-null object\n",
      "year              1052 non-null int64\n",
      "dtypes: int64(1), object(11)\n",
      "memory usage: 98.7+ KB\n"
     ]
    }
   ],
   "source": [
    "df_nobel.info()"
   ]
  },
  {
   "cell_type": "code",
   "execution_count": 10,
   "metadata": {},
   "outputs": [
    {
     "name": "stdout",
     "output_type": "stream",
     "text": [
      "<class 'pandas.core.frame.DataFrame'>\n",
      "RangeIndex: 43 entries, 0 to 42\n",
      "Data columns (total 13 columns):\n",
      "JUDGE    43 non-null object\n",
      "CONT     43 non-null float64\n",
      "INTG     43 non-null float64\n",
      "DMNR     43 non-null float64\n",
      "DILG     43 non-null float64\n",
      "CFMG     43 non-null float64\n",
      "DECI     43 non-null float64\n",
      "PREP     43 non-null float64\n",
      "FAMI     43 non-null float64\n",
      "ORAL     43 non-null float64\n",
      "WRIT     43 non-null float64\n",
      "PHYS     43 non-null float64\n",
      "RTEN     43 non-null float64\n",
      "dtypes: float64(12), object(1)\n",
      "memory usage: 4.4+ KB\n"
     ]
    }
   ],
   "source": [
    "df_ratings.info()"
   ]
  },
  {
   "cell_type": "code",
   "execution_count": 11,
   "metadata": {},
   "outputs": [
    {
     "data": {
      "text/plain": [
       "((1052, 12), (43, 13))"
      ]
     },
     "execution_count": 11,
     "metadata": {},
     "output_type": "execute_result"
    }
   ],
   "source": [
    "(df_nobel.shape, df_ratings.shape)"
   ]
  },
  {
   "cell_type": "markdown",
   "metadata": {},
   "source": [
    "### Question 1"
   ]
  },
  {
   "cell_type": "code",
   "execution_count": 13,
   "metadata": {},
   "outputs": [],
   "source": [
    "df_nobel_fil = df_nobel[df_nobel['year'] >= 1901]"
   ]
  },
  {
   "cell_type": "code",
   "execution_count": 14,
   "metadata": {},
   "outputs": [
    {
     "data": {
      "text/html": [
       "<div>\n",
       "<style scoped>\n",
       "    .dataframe tbody tr th:only-of-type {\n",
       "        vertical-align: middle;\n",
       "    }\n",
       "\n",
       "    .dataframe tbody tr th {\n",
       "        vertical-align: top;\n",
       "    }\n",
       "\n",
       "    .dataframe thead th {\n",
       "        text-align: right;\n",
       "    }\n",
       "</style>\n",
       "<table border=\"1\" class=\"dataframe\">\n",
       "  <thead>\n",
       "    <tr style=\"text-align: right;\">\n",
       "      <th></th>\n",
       "      <th>born_in</th>\n",
       "      <th>category</th>\n",
       "      <th>country</th>\n",
       "      <th>date_of_birth</th>\n",
       "      <th>date_of_death</th>\n",
       "      <th>gender</th>\n",
       "      <th>link</th>\n",
       "      <th>name</th>\n",
       "      <th>place_of_birth</th>\n",
       "      <th>place_of_death</th>\n",
       "      <th>text</th>\n",
       "      <th>year</th>\n",
       "    </tr>\n",
       "  </thead>\n",
       "  <tbody>\n",
       "    <tr>\n",
       "      <th>67</th>\n",
       "      <td></td>\n",
       "      <td>Physics</td>\n",
       "      <td>Germany</td>\n",
       "      <td>27 March 1845</td>\n",
       "      <td>10 February 1923</td>\n",
       "      <td>male</td>\n",
       "      <td>http://en.wikipedia.org/wiki/Wilhelm_Conrad_R%...</td>\n",
       "      <td>Wilhelm Conrad Röntgen</td>\n",
       "      <td>Lennep ,  Prussia</td>\n",
       "      <td>Munich ,  Germany</td>\n",
       "      <td>Wilhelm Conrad Röntgen , Physics, 1901</td>\n",
       "      <td>1901</td>\n",
       "    </tr>\n",
       "    <tr>\n",
       "      <th>909</th>\n",
       "      <td></td>\n",
       "      <td>Peace</td>\n",
       "      <td>France</td>\n",
       "      <td>8 May 1828</td>\n",
       "      <td>30 October 1910</td>\n",
       "      <td>male</td>\n",
       "      <td>http://en.wikipedia.org/wiki/Henry_Dunant</td>\n",
       "      <td>Henry Dunant</td>\n",
       "      <td>Geneva , Switzerland</td>\n",
       "      <td>Heiden, Switzerland</td>\n",
       "      <td>Henry Dunant , Peace, 1901</td>\n",
       "      <td>1901</td>\n",
       "    </tr>\n",
       "  </tbody>\n",
       "</table>\n",
       "</div>"
      ],
      "text/plain": [
       "    born_in category  country  date_of_birth     date_of_death gender  \\\n",
       "67           Physics  Germany  27 March 1845  10 February 1923   male   \n",
       "909            Peace   France     8 May 1828   30 October 1910   male   \n",
       "\n",
       "                                                  link  \\\n",
       "67   http://en.wikipedia.org/wiki/Wilhelm_Conrad_R%...   \n",
       "909          http://en.wikipedia.org/wiki/Henry_Dunant   \n",
       "\n",
       "                       name        place_of_birth       place_of_death  \\\n",
       "67   Wilhelm Conrad Röntgen     Lennep ,  Prussia    Munich ,  Germany   \n",
       "909            Henry Dunant  Geneva , Switzerland  Heiden, Switzerland   \n",
       "\n",
       "                                       text  year  \n",
       "67   Wilhelm Conrad Röntgen , Physics, 1901  1901  \n",
       "909              Henry Dunant , Peace, 1901  1901  "
      ]
     },
     "execution_count": 14,
     "metadata": {},
     "output_type": "execute_result"
    }
   ],
   "source": [
    "df_nobel_fil.sort_values(by=['year']).head(2)"
   ]
  },
  {
   "cell_type": "code",
   "execution_count": 15,
   "metadata": {},
   "outputs": [
    {
     "name": "stdout",
     "output_type": "stream",
     "text": [
      "The size of the nobel dataframe after filtering records 1049\n"
     ]
    }
   ],
   "source": [
    "print ('The size of the nobel dataframe after filtering records {0}'.format(df_nobel_fil.shape[0]))"
   ]
  },
  {
   "cell_type": "markdown",
   "metadata": {},
   "source": [
    "### Question 2"
   ]
  },
  {
   "cell_type": "code",
   "execution_count": 16,
   "metadata": {},
   "outputs": [
    {
     "name": "stdout",
     "output_type": "stream",
     "text": [
      "The following columns have have an empty string as value\n",
      "born_in\n",
      "category\n",
      "country\n",
      "date_of_birth\n",
      "date_of_death\n",
      "place_of_birth\n",
      "place_of_death\n"
     ]
    }
   ],
   "source": [
    "print(\"The following columns have have an empty string as value\")\n",
    "for column in df_nobel_fil.columns:\n",
    "    if (df_nobel_fil[column] == '').any():\n",
    "        print(column)"
   ]
  },
  {
   "cell_type": "code",
   "execution_count": 17,
   "metadata": {},
   "outputs": [],
   "source": [
    "df_nobel_fil.replace('', np.nan, inplace=True)"
   ]
  },
  {
   "cell_type": "code",
   "execution_count": 18,
   "metadata": {},
   "outputs": [
    {
     "name": "stdout",
     "output_type": "stream",
     "text": [
      "The following columns have have an empty string as value\n"
     ]
    }
   ],
   "source": [
    "print(\"The following columns have have an empty string as value\")\n",
    "for column in df_nobel_fil.columns:\n",
    "    if (df_nobel_fil[column] == '').any():\n",
    "        print(column)"
   ]
  },
  {
   "cell_type": "markdown",
   "metadata": {},
   "source": [
    "All columns with empty string as value are replaced by np.nan"
   ]
  },
  {
   "cell_type": "markdown",
   "metadata": {},
   "source": [
    "### Question 3"
   ]
  },
  {
   "cell_type": "code",
   "execution_count": 22,
   "metadata": {},
   "outputs": [
    {
     "data": {
      "text/plain": [
       "(142, 13)"
      ]
     },
     "execution_count": 22,
     "metadata": {},
     "output_type": "execute_result"
    }
   ],
   "source": [
    "df_nobel_fil[df_nobel_fil['name'].str.contains('\\*', regex=True)==True].shape"
   ]
  },
  {
   "cell_type": "code",
   "execution_count": 20,
   "metadata": {},
   "outputs": [],
   "source": [
    "df_nobel_fil['flag_country_check'] = df_nobel_fil['name'].str.contains('\\*', regex=True).astype(int)"
   ]
  },
  {
   "cell_type": "code",
   "execution_count": 21,
   "metadata": {},
   "outputs": [
    {
     "data": {
      "text/plain": [
       "0    907\n",
       "1    142\n",
       "Name: flag_country_check, dtype: int64"
      ]
     },
     "execution_count": 21,
     "metadata": {},
     "output_type": "execute_result"
    }
   ],
   "source": [
    "df_nobel_fil['flag_country_check'].value_counts()"
   ]
  },
  {
   "cell_type": "markdown",
   "metadata": {},
   "source": [
    "In total 142 entries contain a name with a asterisks (*) and a flag is generated to represent a section."
   ]
  },
  {
   "cell_type": "markdown",
   "metadata": {},
   "source": [
    "### Question 4"
   ]
  },
  {
   "cell_type": "code",
   "execution_count": 23,
   "metadata": {},
   "outputs": [
    {
     "data": {
      "text/html": [
       "<div>\n",
       "<style scoped>\n",
       "    .dataframe tbody tr th:only-of-type {\n",
       "        vertical-align: middle;\n",
       "    }\n",
       "\n",
       "    .dataframe tbody tr th {\n",
       "        vertical-align: top;\n",
       "    }\n",
       "\n",
       "    .dataframe thead th {\n",
       "        text-align: right;\n",
       "    }\n",
       "</style>\n",
       "<table border=\"1\" class=\"dataframe\">\n",
       "  <thead>\n",
       "    <tr style=\"text-align: right;\">\n",
       "      <th></th>\n",
       "      <th>born_in</th>\n",
       "      <th>category</th>\n",
       "      <th>country</th>\n",
       "      <th>date_of_birth</th>\n",
       "      <th>date_of_death</th>\n",
       "      <th>gender</th>\n",
       "      <th>link</th>\n",
       "      <th>name</th>\n",
       "      <th>place_of_birth</th>\n",
       "      <th>place_of_death</th>\n",
       "      <th>text</th>\n",
       "      <th>year</th>\n",
       "      <th>flag_country_check</th>\n",
       "    </tr>\n",
       "  </thead>\n",
       "  <tbody>\n",
       "    <tr>\n",
       "      <th>706</th>\n",
       "      <td>NaN</td>\n",
       "      <td>Physics</td>\n",
       "      <td>Poland</td>\n",
       "      <td>7 November 1867</td>\n",
       "      <td>4 July 1934</td>\n",
       "      <td>female</td>\n",
       "      <td>http://en.wikipedia.org/wiki/Marie_Curie</td>\n",
       "      <td>Marie Skłodowska-Curie</td>\n",
       "      <td>Warsaw , Poland</td>\n",
       "      <td>Sancellemoz , France</td>\n",
       "      <td>Marie Skłodowska-Curie ,  born in partitioned ...</td>\n",
       "      <td>1903</td>\n",
       "      <td>0</td>\n",
       "    </tr>\n",
       "    <tr>\n",
       "      <th>709</th>\n",
       "      <td>NaN</td>\n",
       "      <td>Chemistry</td>\n",
       "      <td>Poland</td>\n",
       "      <td>7 November 1867</td>\n",
       "      <td>4 July 1934</td>\n",
       "      <td>female</td>\n",
       "      <td>http://en.wikipedia.org/wiki/Marie_Curie</td>\n",
       "      <td>Marie Skłodowska-Curie</td>\n",
       "      <td>Warsaw , Poland</td>\n",
       "      <td>Sancellemoz , France</td>\n",
       "      <td>Marie Skłodowska-Curie ,  born in partitioned ...</td>\n",
       "      <td>1911</td>\n",
       "      <td>0</td>\n",
       "    </tr>\n",
       "    <tr>\n",
       "      <th>910</th>\n",
       "      <td>NaN</td>\n",
       "      <td>Physics</td>\n",
       "      <td>France</td>\n",
       "      <td>7 November 1867</td>\n",
       "      <td>4 July 1934</td>\n",
       "      <td>female</td>\n",
       "      <td>http://en.wikipedia.org/wiki/Marie_Curie</td>\n",
       "      <td>Marie Curie</td>\n",
       "      <td>Warsaw , Poland</td>\n",
       "      <td>Sancellemoz , France</td>\n",
       "      <td>Marie Curie ,  born in then Russian Empire, no...</td>\n",
       "      <td>1903</td>\n",
       "      <td>0</td>\n",
       "    </tr>\n",
       "    <tr>\n",
       "      <th>919</th>\n",
       "      <td>NaN</td>\n",
       "      <td>Chemistry</td>\n",
       "      <td>France</td>\n",
       "      <td>7 November 1867</td>\n",
       "      <td>4 July 1934</td>\n",
       "      <td>female</td>\n",
       "      <td>http://en.wikipedia.org/wiki/Marie_Curie</td>\n",
       "      <td>Marie Curie</td>\n",
       "      <td>Warsaw , Poland</td>\n",
       "      <td>Sancellemoz , France</td>\n",
       "      <td>Marie Curie ,  born in then Russian Empire, no...</td>\n",
       "      <td>1911</td>\n",
       "      <td>0</td>\n",
       "    </tr>\n",
       "  </tbody>\n",
       "</table>\n",
       "</div>"
      ],
      "text/plain": [
       "    born_in   category country    date_of_birth date_of_death  gender  \\\n",
       "706     NaN    Physics  Poland  7 November 1867   4 July 1934  female   \n",
       "709     NaN  Chemistry  Poland  7 November 1867   4 July 1934  female   \n",
       "910     NaN    Physics  France  7 November 1867   4 July 1934  female   \n",
       "919     NaN  Chemistry  France  7 November 1867   4 July 1934  female   \n",
       "\n",
       "                                         link                    name  \\\n",
       "706  http://en.wikipedia.org/wiki/Marie_Curie  Marie Skłodowska-Curie   \n",
       "709  http://en.wikipedia.org/wiki/Marie_Curie  Marie Skłodowska-Curie   \n",
       "910  http://en.wikipedia.org/wiki/Marie_Curie             Marie Curie   \n",
       "919  http://en.wikipedia.org/wiki/Marie_Curie             Marie Curie   \n",
       "\n",
       "      place_of_birth        place_of_death  \\\n",
       "706  Warsaw , Poland  Sancellemoz , France   \n",
       "709  Warsaw , Poland  Sancellemoz , France   \n",
       "910  Warsaw , Poland  Sancellemoz , France   \n",
       "919  Warsaw , Poland  Sancellemoz , France   \n",
       "\n",
       "                                                  text  year  \\\n",
       "706  Marie Skłodowska-Curie ,  born in partitioned ...  1903   \n",
       "709  Marie Skłodowska-Curie ,  born in partitioned ...  1911   \n",
       "910  Marie Curie ,  born in then Russian Empire, no...  1903   \n",
       "919  Marie Curie ,  born in then Russian Empire, no...  1911   \n",
       "\n",
       "     flag_country_check  \n",
       "706                   0  \n",
       "709                   0  \n",
       "910                   0  \n",
       "919                   0  "
      ]
     },
     "execution_count": 23,
     "metadata": {},
     "output_type": "execute_result"
    }
   ],
   "source": [
    "df_nobel_fil[df_nobel_fil['name'].str.contains('Curie') & df_nobel_fil['name'].str.contains('Marie')]"
   ]
  },
  {
   "cell_type": "code",
   "execution_count": 24,
   "metadata": {},
   "outputs": [],
   "source": [
    "df_nobel_fil_dedup = df_nobel_fil.sort_values(by=['country']).drop_duplicates(\n",
    "    subset=['category', 'date_of_birth', 'gender','year'], \n",
    "    keep='first')"
   ]
  },
  {
   "cell_type": "code",
   "execution_count": 25,
   "metadata": {},
   "outputs": [
    {
     "data": {
      "text/plain": [
       "(874, 13)"
      ]
     },
     "execution_count": 25,
     "metadata": {},
     "output_type": "execute_result"
    }
   ],
   "source": [
    "df_nobel_fil_dedup.shape"
   ]
  },
  {
   "cell_type": "code",
   "execution_count": 26,
   "metadata": {},
   "outputs": [
    {
     "data": {
      "text/html": [
       "<div>\n",
       "<style scoped>\n",
       "    .dataframe tbody tr th:only-of-type {\n",
       "        vertical-align: middle;\n",
       "    }\n",
       "\n",
       "    .dataframe tbody tr th {\n",
       "        vertical-align: top;\n",
       "    }\n",
       "\n",
       "    .dataframe thead th {\n",
       "        text-align: right;\n",
       "    }\n",
       "</style>\n",
       "<table border=\"1\" class=\"dataframe\">\n",
       "  <thead>\n",
       "    <tr style=\"text-align: right;\">\n",
       "      <th></th>\n",
       "      <th>born_in</th>\n",
       "      <th>category</th>\n",
       "      <th>country</th>\n",
       "      <th>date_of_birth</th>\n",
       "      <th>date_of_death</th>\n",
       "      <th>gender</th>\n",
       "      <th>link</th>\n",
       "      <th>name</th>\n",
       "      <th>place_of_birth</th>\n",
       "      <th>place_of_death</th>\n",
       "      <th>text</th>\n",
       "      <th>year</th>\n",
       "      <th>flag_country_check</th>\n",
       "    </tr>\n",
       "  </thead>\n",
       "  <tbody>\n",
       "    <tr>\n",
       "      <th>910</th>\n",
       "      <td>NaN</td>\n",
       "      <td>Physics</td>\n",
       "      <td>France</td>\n",
       "      <td>7 November 1867</td>\n",
       "      <td>4 July 1934</td>\n",
       "      <td>female</td>\n",
       "      <td>http://en.wikipedia.org/wiki/Marie_Curie</td>\n",
       "      <td>Marie Curie</td>\n",
       "      <td>Warsaw , Poland</td>\n",
       "      <td>Sancellemoz , France</td>\n",
       "      <td>Marie Curie ,  born in then Russian Empire, no...</td>\n",
       "      <td>1903</td>\n",
       "      <td>0</td>\n",
       "    </tr>\n",
       "    <tr>\n",
       "      <th>919</th>\n",
       "      <td>NaN</td>\n",
       "      <td>Chemistry</td>\n",
       "      <td>France</td>\n",
       "      <td>7 November 1867</td>\n",
       "      <td>4 July 1934</td>\n",
       "      <td>female</td>\n",
       "      <td>http://en.wikipedia.org/wiki/Marie_Curie</td>\n",
       "      <td>Marie Curie</td>\n",
       "      <td>Warsaw , Poland</td>\n",
       "      <td>Sancellemoz , France</td>\n",
       "      <td>Marie Curie ,  born in then Russian Empire, no...</td>\n",
       "      <td>1911</td>\n",
       "      <td>0</td>\n",
       "    </tr>\n",
       "  </tbody>\n",
       "</table>\n",
       "</div>"
      ],
      "text/plain": [
       "    born_in   category country    date_of_birth date_of_death  gender  \\\n",
       "910     NaN    Physics  France  7 November 1867   4 July 1934  female   \n",
       "919     NaN  Chemistry  France  7 November 1867   4 July 1934  female   \n",
       "\n",
       "                                         link         name   place_of_birth  \\\n",
       "910  http://en.wikipedia.org/wiki/Marie_Curie  Marie Curie  Warsaw , Poland   \n",
       "919  http://en.wikipedia.org/wiki/Marie_Curie  Marie Curie  Warsaw , Poland   \n",
       "\n",
       "           place_of_death                                               text  \\\n",
       "910  Sancellemoz , France  Marie Curie ,  born in then Russian Empire, no...   \n",
       "919  Sancellemoz , France  Marie Curie ,  born in then Russian Empire, no...   \n",
       "\n",
       "     year  flag_country_check  \n",
       "910  1903                   0  \n",
       "919  1911                   0  "
      ]
     },
     "execution_count": 26,
     "metadata": {},
     "output_type": "execute_result"
    }
   ],
   "source": [
    "df_nobel_fil_dedup[df_nobel_fil_dedup['name'].str.contains('Curie') &\n",
    "                   df_nobel_fil_dedup['name'].str.contains('Marie')]"
   ]
  },
  {
   "cell_type": "markdown",
   "metadata": {},
   "source": [
    "The sub-set of columns category, date of birth, gender and year used to exclude duplicates as the category, date of birth, gender and year combination of columns must be identical, although the country and name differ in the entries.\n",
    "\n",
    "Note: we can also use date_of_death, place_of_birth, place_of_death as sub-set columns but the combination category, date of birth, gender and year is already unique. "
   ]
  },
  {
   "cell_type": "markdown",
   "metadata": {},
   "source": [
    "### Question 5"
   ]
  },
  {
   "cell_type": "code",
   "execution_count": 27,
   "metadata": {},
   "outputs": [
    {
     "data": {
      "text/plain": [
       "Physiology or Medicine    206\n",
       "Physics                   200\n",
       "Chemistry                 169\n",
       "Literature                110\n",
       "Peace                     109\n",
       "Economics                  74\n",
       "Name: category, dtype: int64"
      ]
     },
     "execution_count": 27,
     "metadata": {},
     "output_type": "execute_result"
    }
   ],
   "source": [
    "df_nobel_fil_dedup['category'].value_counts()"
   ]
  },
  {
   "cell_type": "code",
   "execution_count": 28,
   "metadata": {},
   "outputs": [
    {
     "data": {
      "text/html": [
       "<div>\n",
       "<style scoped>\n",
       "    .dataframe tbody tr th:only-of-type {\n",
       "        vertical-align: middle;\n",
       "    }\n",
       "\n",
       "    .dataframe tbody tr th {\n",
       "        vertical-align: top;\n",
       "    }\n",
       "\n",
       "    .dataframe thead th {\n",
       "        text-align: right;\n",
       "    }\n",
       "</style>\n",
       "<table border=\"1\" class=\"dataframe\">\n",
       "  <thead>\n",
       "    <tr style=\"text-align: right;\">\n",
       "      <th></th>\n",
       "      <th>born_in</th>\n",
       "      <th>category</th>\n",
       "      <th>country</th>\n",
       "      <th>date_of_birth</th>\n",
       "      <th>date_of_death</th>\n",
       "      <th>gender</th>\n",
       "      <th>link</th>\n",
       "      <th>name</th>\n",
       "      <th>place_of_birth</th>\n",
       "      <th>place_of_death</th>\n",
       "      <th>text</th>\n",
       "      <th>year</th>\n",
       "      <th>flag_country_check</th>\n",
       "    </tr>\n",
       "  </thead>\n",
       "  <tbody>\n",
       "    <tr>\n",
       "      <th>922</th>\n",
       "      <td>NaN</td>\n",
       "      <td>NaN</td>\n",
       "      <td>France</td>\n",
       "      <td>28 June 1873</td>\n",
       "      <td>5 November 1944</td>\n",
       "      <td>male</td>\n",
       "      <td>http://en.wikipedia.org/wiki/Alexis_Carrel</td>\n",
       "      <td>Alexis Carrel</td>\n",
       "      <td>Sainte-Foy-lès-Lyon ,  Rhône ,  France</td>\n",
       "      <td>NaN</td>\n",
       "      <td>Alexis Carrel , Medicine, 1912</td>\n",
       "      <td>1912</td>\n",
       "      <td>0</td>\n",
       "    </tr>\n",
       "    <tr>\n",
       "      <th>104</th>\n",
       "      <td>Lithuania</td>\n",
       "      <td>NaN</td>\n",
       "      <td>NaN</td>\n",
       "      <td>November 30, 1926</td>\n",
       "      <td>NaN</td>\n",
       "      <td>male</td>\n",
       "      <td>http://en.wikipedia.org/wiki/Andrew_Schally</td>\n",
       "      <td>Andrew Schally *</td>\n",
       "      <td>Vilnius ,  Second Polish Republic</td>\n",
       "      <td>NaN</td>\n",
       "      <td>Andrew Schally *,  born in then Poland, now Li...</td>\n",
       "      <td>1977</td>\n",
       "      <td>1</td>\n",
       "    </tr>\n",
       "    <tr>\n",
       "      <th>712</th>\n",
       "      <td>Poland</td>\n",
       "      <td>NaN</td>\n",
       "      <td>NaN</td>\n",
       "      <td>November 30, 1926</td>\n",
       "      <td>NaN</td>\n",
       "      <td>male</td>\n",
       "      <td>http://en.wikipedia.org/wiki/Andrew_Schally</td>\n",
       "      <td>Andrew Schally *</td>\n",
       "      <td>Vilnius ,  Second Polish Republic</td>\n",
       "      <td>NaN</td>\n",
       "      <td>Andrew Schally *,  born in Wilno, Second Polis...</td>\n",
       "      <td>1976</td>\n",
       "      <td>1</td>\n",
       "    </tr>\n",
       "    <tr>\n",
       "      <th>812</th>\n",
       "      <td>India</td>\n",
       "      <td>NaN</td>\n",
       "      <td>NaN</td>\n",
       "      <td>January 9, 1922</td>\n",
       "      <td>November 9, 2011</td>\n",
       "      <td>male</td>\n",
       "      <td>http://en.wikipedia.org/wiki/Hargobind_Khorana</td>\n",
       "      <td>Hargobind Khorana *</td>\n",
       "      <td>Raipur ,  Punjab , Pakistan</td>\n",
       "      <td>Concord, Massachusetts , U.S.</td>\n",
       "      <td>Hargobind Khorana *,  born in  Kabirwala , Bri...</td>\n",
       "      <td>1968</td>\n",
       "      <td>1</td>\n",
       "    </tr>\n",
       "    <tr>\n",
       "      <th>815</th>\n",
       "      <td>India</td>\n",
       "      <td>NaN</td>\n",
       "      <td>NaN</td>\n",
       "      <td>3 November 1933</td>\n",
       "      <td>NaN</td>\n",
       "      <td>male</td>\n",
       "      <td>http://en.wikipedia.org/wiki/Amartya_Sen</td>\n",
       "      <td>Amartya Sen *</td>\n",
       "      <td>Dhaka ,  Bangladesh</td>\n",
       "      <td>NaN</td>\n",
       "      <td>Amartya Sen *, Economic Sciences, 1998</td>\n",
       "      <td>1998</td>\n",
       "      <td>1</td>\n",
       "    </tr>\n",
       "    <tr>\n",
       "      <th>820</th>\n",
       "      <td>Hungary</td>\n",
       "      <td>NaN</td>\n",
       "      <td>NaN</td>\n",
       "      <td>22 April 1876</td>\n",
       "      <td>8 April 1936</td>\n",
       "      <td>male</td>\n",
       "      <td>http://en.wikipedia.org/wiki/Robert_B%C3%A1r%C...</td>\n",
       "      <td>Robert Bárány *</td>\n",
       "      <td>Vienna ,  Austria-Hungary</td>\n",
       "      <td>Uppsala ,  Sweden</td>\n",
       "      <td>Robert Bárány *,  born in then Austria-Hungary...</td>\n",
       "      <td>1914</td>\n",
       "      <td>1</td>\n",
       "    </tr>\n",
       "  </tbody>\n",
       "</table>\n",
       "</div>"
      ],
      "text/plain": [
       "       born_in category country      date_of_birth     date_of_death gender  \\\n",
       "922        NaN      NaN  France       28 June 1873   5 November 1944   male   \n",
       "104  Lithuania      NaN     NaN  November 30, 1926               NaN   male   \n",
       "712     Poland      NaN     NaN  November 30, 1926               NaN   male   \n",
       "812      India      NaN     NaN    January 9, 1922  November 9, 2011   male   \n",
       "815      India      NaN     NaN    3 November 1933               NaN   male   \n",
       "820    Hungary      NaN     NaN      22 April 1876      8 April 1936   male   \n",
       "\n",
       "                                                  link                 name  \\\n",
       "922         http://en.wikipedia.org/wiki/Alexis_Carrel        Alexis Carrel   \n",
       "104        http://en.wikipedia.org/wiki/Andrew_Schally     Andrew Schally *   \n",
       "712        http://en.wikipedia.org/wiki/Andrew_Schally     Andrew Schally *   \n",
       "812     http://en.wikipedia.org/wiki/Hargobind_Khorana  Hargobind Khorana *   \n",
       "815           http://en.wikipedia.org/wiki/Amartya_Sen        Amartya Sen *   \n",
       "820  http://en.wikipedia.org/wiki/Robert_B%C3%A1r%C...      Robert Bárány *   \n",
       "\n",
       "                             place_of_birth                 place_of_death  \\\n",
       "922  Sainte-Foy-lès-Lyon ,  Rhône ,  France                            NaN   \n",
       "104       Vilnius ,  Second Polish Republic                            NaN   \n",
       "712       Vilnius ,  Second Polish Republic                            NaN   \n",
       "812             Raipur ,  Punjab , Pakistan  Concord, Massachusetts , U.S.   \n",
       "815                     Dhaka ,  Bangladesh                            NaN   \n",
       "820               Vienna ,  Austria-Hungary              Uppsala ,  Sweden   \n",
       "\n",
       "                                                  text  year  \\\n",
       "922                     Alexis Carrel , Medicine, 1912  1912   \n",
       "104  Andrew Schally *,  born in then Poland, now Li...  1977   \n",
       "712  Andrew Schally *,  born in Wilno, Second Polis...  1976   \n",
       "812  Hargobind Khorana *,  born in  Kabirwala , Bri...  1968   \n",
       "815             Amartya Sen *, Economic Sciences, 1998  1998   \n",
       "820  Robert Bárány *,  born in then Austria-Hungary...  1914   \n",
       "\n",
       "     flag_country_check  \n",
       "922                   0  \n",
       "104                   1  \n",
       "712                   1  \n",
       "812                   1  \n",
       "815                   1  \n",
       "820                   1  "
      ]
     },
     "execution_count": 28,
     "metadata": {},
     "output_type": "execute_result"
    }
   ],
   "source": [
    "df_nobel_fil_dedup[df_nobel_fil_dedup['category'].isna() | df_nobel_fil_dedup['category'].isnull()]"
   ]
  },
  {
   "cell_type": "markdown",
   "metadata": {},
   "source": [
    "The six entries in the column of category are filled with nan values. The actual values in the json file are empty strings and have been replaced by np.nan as part of the question (2). This is certainly a data entry error, as, for example, Amartya Sen won the Nobel Prize in Economics."
   ]
  },
  {
   "cell_type": "markdown",
   "metadata": {},
   "source": [
    "### Question 6"
   ]
  },
  {
   "cell_type": "code",
   "execution_count": 29,
   "metadata": {},
   "outputs": [
    {
     "data": {
      "text/plain": [
       "male      818\n",
       "female     47\n",
       "Name: gender, dtype: int64"
      ]
     },
     "execution_count": 29,
     "metadata": {},
     "output_type": "execute_result"
    }
   ],
   "source": [
    "df_nobel_fil_dedup['gender'].value_counts()"
   ]
  },
  {
   "cell_type": "code",
   "execution_count": 33,
   "metadata": {},
   "outputs": [
    {
     "data": {
      "text/html": [
       "<div>\n",
       "<style scoped>\n",
       "    .dataframe tbody tr th:only-of-type {\n",
       "        vertical-align: middle;\n",
       "    }\n",
       "\n",
       "    .dataframe tbody tr th {\n",
       "        vertical-align: top;\n",
       "    }\n",
       "\n",
       "    .dataframe thead th {\n",
       "        text-align: right;\n",
       "    }\n",
       "</style>\n",
       "<table border=\"1\" class=\"dataframe\">\n",
       "  <thead>\n",
       "    <tr style=\"text-align: right;\">\n",
       "      <th></th>\n",
       "      <th>born_in</th>\n",
       "      <th>category</th>\n",
       "      <th>country</th>\n",
       "      <th>date_of_birth</th>\n",
       "      <th>date_of_death</th>\n",
       "      <th>gender</th>\n",
       "      <th>link</th>\n",
       "      <th>name</th>\n",
       "      <th>place_of_birth</th>\n",
       "      <th>place_of_death</th>\n",
       "      <th>text</th>\n",
       "      <th>year</th>\n",
       "      <th>flag_country_check</th>\n",
       "    </tr>\n",
       "  </thead>\n",
       "  <tbody>\n",
       "    <tr>\n",
       "      <th>1033</th>\n",
       "      <td>NaN</td>\n",
       "      <td>Peace</td>\n",
       "      <td>Austria</td>\n",
       "      <td>None</td>\n",
       "      <td>None</td>\n",
       "      <td>None</td>\n",
       "      <td>http://en.wikipedia.org/wiki/International_Ato...</td>\n",
       "      <td>International Atomic Energy Agency</td>\n",
       "      <td>None</td>\n",
       "      <td>None</td>\n",
       "      <td>International Atomic Energy Agency , Peace, 2005</td>\n",
       "      <td>2005</td>\n",
       "      <td>0</td>\n",
       "    </tr>\n",
       "    <tr>\n",
       "      <th>3</th>\n",
       "      <td>NaN</td>\n",
       "      <td>Peace</td>\n",
       "      <td>Belgium</td>\n",
       "      <td>None</td>\n",
       "      <td>None</td>\n",
       "      <td>None</td>\n",
       "      <td>http://en.wikipedia.org/wiki/Institut_de_Droit...</td>\n",
       "      <td>Institut de Droit International</td>\n",
       "      <td>None</td>\n",
       "      <td>None</td>\n",
       "      <td>Institut de Droit International , Peace, 1904</td>\n",
       "      <td>1904</td>\n",
       "      <td>0</td>\n",
       "    </tr>\n",
       "    <tr>\n",
       "      <th>1000</th>\n",
       "      <td>NaN</td>\n",
       "      <td>Peace</td>\n",
       "      <td>Canada</td>\n",
       "      <td>None</td>\n",
       "      <td>None</td>\n",
       "      <td>None</td>\n",
       "      <td>http://en.wikipedia.org/wiki/Pugwash_Conferenc...</td>\n",
       "      <td>Pugwash Conferences on Science and World Affairs</td>\n",
       "      <td>None</td>\n",
       "      <td>None</td>\n",
       "      <td>Pugwash Conferences on Science and World Affai...</td>\n",
       "      <td>1995</td>\n",
       "      <td>0</td>\n",
       "    </tr>\n",
       "    <tr>\n",
       "      <th>947</th>\n",
       "      <td>NaN</td>\n",
       "      <td>Peace</td>\n",
       "      <td>France</td>\n",
       "      <td>None</td>\n",
       "      <td>None</td>\n",
       "      <td>None</td>\n",
       "      <td>http://en.wikipedia.org/wiki/M%C3%A9decins_San...</td>\n",
       "      <td>Médecins Sans Frontières</td>\n",
       "      <td>None</td>\n",
       "      <td>None</td>\n",
       "      <td>Médecins Sans Frontières , Peace, 1999</td>\n",
       "      <td>1999</td>\n",
       "      <td>0</td>\n",
       "    </tr>\n",
       "    <tr>\n",
       "      <th>650</th>\n",
       "      <td>NaN</td>\n",
       "      <td>Physiology or Medicine</td>\n",
       "      <td>Sweden</td>\n",
       "      <td>October 30, 1900</td>\n",
       "      <td>March 12, 1991</td>\n",
       "      <td>None</td>\n",
       "      <td>http://en.wikipedia.org/wiki/Ragnar_Granit</td>\n",
       "      <td>Ragnar Granit</td>\n",
       "      <td>Helsinki , Finland</td>\n",
       "      <td>Stockholm , Sweden</td>\n",
       "      <td>Ragnar Granit ,  born in then Russian Empire, ...</td>\n",
       "      <td>1967</td>\n",
       "      <td>0</td>\n",
       "    </tr>\n",
       "    <tr>\n",
       "      <th>574</th>\n",
       "      <td>NaN</td>\n",
       "      <td>Peace</td>\n",
       "      <td>United Kingdom</td>\n",
       "      <td>None</td>\n",
       "      <td>None</td>\n",
       "      <td>None</td>\n",
       "      <td>http://en.wikipedia.org/wiki/Amnesty_Internati...</td>\n",
       "      <td>Amnesty International</td>\n",
       "      <td>None</td>\n",
       "      <td>None</td>\n",
       "      <td>Amnesty International , Peace, 1977</td>\n",
       "      <td>1977</td>\n",
       "      <td>0</td>\n",
       "    </tr>\n",
       "    <tr>\n",
       "      <th>156</th>\n",
       "      <td>NaN</td>\n",
       "      <td>Peace</td>\n",
       "      <td>United Kingdom</td>\n",
       "      <td>None</td>\n",
       "      <td>None</td>\n",
       "      <td>None</td>\n",
       "      <td>http://en.wikipedia.org/wiki/Friends_Service_C...</td>\n",
       "      <td>Friends Service Council</td>\n",
       "      <td>None</td>\n",
       "      <td>None</td>\n",
       "      <td>Friends Service Council , Peace, 1947</td>\n",
       "      <td>1947</td>\n",
       "      <td>0</td>\n",
       "    </tr>\n",
       "    <tr>\n",
       "      <th>696</th>\n",
       "      <td>Russia</td>\n",
       "      <td>Physics</td>\n",
       "      <td>NaN</td>\n",
       "      <td>23 August 1974</td>\n",
       "      <td>NaN</td>\n",
       "      <td>None</td>\n",
       "      <td>http://en.wikipedia.org/wiki/Konstantin_Novoselov</td>\n",
       "      <td>Konstantin Novoselov *</td>\n",
       "      <td>Nizhny Tagil ,  Russian SFSR ,  Soviet Union</td>\n",
       "      <td>NaN</td>\n",
       "      <td>Konstantin Novoselov *, Physics, 2010</td>\n",
       "      <td>2010</td>\n",
       "      <td>1</td>\n",
       "    </tr>\n",
       "    <tr>\n",
       "      <th>989</th>\n",
       "      <td>Canada</td>\n",
       "      <td>Physiology or Medicine</td>\n",
       "      <td>NaN</td>\n",
       "      <td>September 22, 1901</td>\n",
       "      <td>January 12, 1997</td>\n",
       "      <td>None</td>\n",
       "      <td>http://en.wikipedia.org/wiki/Charles_Brenton_H...</td>\n",
       "      <td>Charles B. Huggins *</td>\n",
       "      <td>Halifax,  Nova Scotia</td>\n",
       "      <td>Chicago, Illinois</td>\n",
       "      <td>Charles B. Huggins *, Physiology or Medicine, ...</td>\n",
       "      <td>1966</td>\n",
       "      <td>1</td>\n",
       "    </tr>\n",
       "  </tbody>\n",
       "</table>\n",
       "</div>"
      ],
      "text/plain": [
       "     born_in                category         country       date_of_birth  \\\n",
       "1033     NaN                   Peace         Austria                None   \n",
       "3        NaN                   Peace         Belgium                None   \n",
       "1000     NaN                   Peace          Canada                None   \n",
       "947      NaN                   Peace          France                None   \n",
       "650      NaN  Physiology or Medicine          Sweden    October 30, 1900   \n",
       "574      NaN                   Peace  United Kingdom                None   \n",
       "156      NaN                   Peace  United Kingdom                None   \n",
       "696   Russia                 Physics             NaN      23 August 1974   \n",
       "989   Canada  Physiology or Medicine             NaN  September 22, 1901   \n",
       "\n",
       "         date_of_death gender  \\\n",
       "1033              None   None   \n",
       "3                 None   None   \n",
       "1000              None   None   \n",
       "947               None   None   \n",
       "650     March 12, 1991   None   \n",
       "574               None   None   \n",
       "156               None   None   \n",
       "696                NaN   None   \n",
       "989   January 12, 1997   None   \n",
       "\n",
       "                                                   link  \\\n",
       "1033  http://en.wikipedia.org/wiki/International_Ato...   \n",
       "3     http://en.wikipedia.org/wiki/Institut_de_Droit...   \n",
       "1000  http://en.wikipedia.org/wiki/Pugwash_Conferenc...   \n",
       "947   http://en.wikipedia.org/wiki/M%C3%A9decins_San...   \n",
       "650          http://en.wikipedia.org/wiki/Ragnar_Granit   \n",
       "574   http://en.wikipedia.org/wiki/Amnesty_Internati...   \n",
       "156   http://en.wikipedia.org/wiki/Friends_Service_C...   \n",
       "696   http://en.wikipedia.org/wiki/Konstantin_Novoselov   \n",
       "989   http://en.wikipedia.org/wiki/Charles_Brenton_H...   \n",
       "\n",
       "                                                  name  \\\n",
       "1033                International Atomic Energy Agency   \n",
       "3                      Institut de Droit International   \n",
       "1000  Pugwash Conferences on Science and World Affairs   \n",
       "947                           Médecins Sans Frontières   \n",
       "650                                      Ragnar Granit   \n",
       "574                              Amnesty International   \n",
       "156                            Friends Service Council   \n",
       "696                             Konstantin Novoselov *   \n",
       "989                               Charles B. Huggins *   \n",
       "\n",
       "                                    place_of_birth      place_of_death  \\\n",
       "1033                                          None                None   \n",
       "3                                             None                None   \n",
       "1000                                          None                None   \n",
       "947                                           None                None   \n",
       "650                             Helsinki , Finland  Stockholm , Sweden   \n",
       "574                                           None                None   \n",
       "156                                           None                None   \n",
       "696   Nizhny Tagil ,  Russian SFSR ,  Soviet Union                 NaN   \n",
       "989                          Halifax,  Nova Scotia   Chicago, Illinois   \n",
       "\n",
       "                                                   text  year  \\\n",
       "1033   International Atomic Energy Agency , Peace, 2005  2005   \n",
       "3         Institut de Droit International , Peace, 1904  1904   \n",
       "1000  Pugwash Conferences on Science and World Affai...  1995   \n",
       "947              Médecins Sans Frontières , Peace, 1999  1999   \n",
       "650   Ragnar Granit ,  born in then Russian Empire, ...  1967   \n",
       "574                 Amnesty International , Peace, 1977  1977   \n",
       "156               Friends Service Council , Peace, 1947  1947   \n",
       "696               Konstantin Novoselov *, Physics, 2010  2010   \n",
       "989   Charles B. Huggins *, Physiology or Medicine, ...  1966   \n",
       "\n",
       "      flag_country_check  \n",
       "1033                   0  \n",
       "3                      0  \n",
       "1000                   0  \n",
       "947                    0  \n",
       "650                    0  \n",
       "574                    0  \n",
       "156                    0  \n",
       "696                    1  \n",
       "989                    1  "
      ]
     },
     "execution_count": 33,
     "metadata": {},
     "output_type": "execute_result"
    }
   ],
   "source": [
    "df_nobel_fil_dedup[df_nobel_fil_dedup['gender'].isnull() | df_nobel_fil_dedup['gender'].isna()]"
   ]
  },
  {
   "cell_type": "code",
   "execution_count": 34,
   "metadata": {},
   "outputs": [
    {
     "data": {
      "text/plain": [
       "(865, 13)"
      ]
     },
     "execution_count": 34,
     "metadata": {},
     "output_type": "execute_result"
    }
   ],
   "source": [
    "df_nobel_fil_dedup.dropna(subset=['gender'], inplace=True)\n",
    "df_nobel_fil_dedup.shape"
   ]
  },
  {
   "cell_type": "markdown",
   "metadata": {},
   "source": [
    "There are 9 gender incomplete entries. 6 out of 9 entries have no gender as they serve non-personal institutes, but 3 out of 9 are gender missing, may be data entry problem."
   ]
  },
  {
   "cell_type": "markdown",
   "metadata": {},
   "source": [
    "### Question7 "
   ]
  },
  {
   "cell_type": "code",
   "execution_count": 35,
   "metadata": {},
   "outputs": [
    {
     "data": {
      "text/html": [
       "<div>\n",
       "<style scoped>\n",
       "    .dataframe tbody tr th:only-of-type {\n",
       "        vertical-align: middle;\n",
       "    }\n",
       "\n",
       "    .dataframe tbody tr th {\n",
       "        vertical-align: top;\n",
       "    }\n",
       "\n",
       "    .dataframe thead th {\n",
       "        text-align: right;\n",
       "    }\n",
       "</style>\n",
       "<table border=\"1\" class=\"dataframe\">\n",
       "  <thead>\n",
       "    <tr style=\"text-align: right;\">\n",
       "      <th></th>\n",
       "      <th>born_in</th>\n",
       "      <th>category</th>\n",
       "      <th>country</th>\n",
       "      <th>date_of_birth</th>\n",
       "      <th>date_of_death</th>\n",
       "      <th>gender</th>\n",
       "      <th>link</th>\n",
       "      <th>name</th>\n",
       "      <th>place_of_birth</th>\n",
       "      <th>place_of_death</th>\n",
       "      <th>text</th>\n",
       "      <th>year</th>\n",
       "      <th>flag_country_check</th>\n",
       "    </tr>\n",
       "  </thead>\n",
       "  <tbody>\n",
       "    <tr>\n",
       "      <th>782</th>\n",
       "      <td>NaN</td>\n",
       "      <td>Physics</td>\n",
       "      <td>Japan</td>\n",
       "      <td>NaN</td>\n",
       "      <td>NaN</td>\n",
       "      <td>male</td>\n",
       "      <td>http://en.wikipedia.org/wiki/Hiroshi_Amano</td>\n",
       "      <td>Hiroshi Amano</td>\n",
       "      <td>NaN</td>\n",
       "      <td>NaN</td>\n",
       "      <td>Hiroshi Amano , Physics, 2014</td>\n",
       "      <td>2014</td>\n",
       "      <td>0</td>\n",
       "    </tr>\n",
       "  </tbody>\n",
       "</table>\n",
       "</div>"
      ],
      "text/plain": [
       "    born_in category country date_of_birth date_of_death gender  \\\n",
       "782     NaN  Physics   Japan           NaN           NaN   male   \n",
       "\n",
       "                                           link           name place_of_birth  \\\n",
       "782  http://en.wikipedia.org/wiki/Hiroshi_Amano  Hiroshi Amano            NaN   \n",
       "\n",
       "    place_of_death                           text  year  flag_country_check  \n",
       "782            NaN  Hiroshi Amano , Physics, 2014  2014                   0  "
      ]
     },
     "execution_count": 35,
     "metadata": {},
     "output_type": "execute_result"
    }
   ],
   "source": [
    "df_nobel_fil_dedup[df_nobel_fil_dedup['date_of_birth'].isnull() | df_nobel_fil_dedup['date_of_birth'].isna()]"
   ]
  },
  {
   "cell_type": "markdown",
   "metadata": {},
   "source": [
    "There is 1 entry with missing date_of_birth. This could also be a problem with data entry."
   ]
  },
  {
   "cell_type": "markdown",
   "metadata": {},
   "source": [
    "# <font color='blue'>Question 2 [3 points] - US Judge Ratings</font>"
   ]
  },
  {
   "cell_type": "markdown",
   "metadata": {},
   "source": [
    "In the file <tt>JudgeRatings.csv</tt>, you can find the information about Lawyers' ratings of state judges in the US Superior Court. The file contains 43 observations on 12 numeric variables.\n",
    "\n",
    "- CONT \tNumber of contacts of lawyer with judge.\n",
    "- INTG \tJudicial integrity.\n",
    "- DMNR \tDemeanor.\n",
    "- DILG \tDiligence.\n",
    "- CFMG \tCase flow managing.\n",
    "- DECI \tPrompt decisions.\n",
    "- PREP \tPreparation for trial.\n",
    "- FAMI \tFamiliarity with law.\n",
    "- ORAL \tSound oral rulings.\n",
    "- WRIT \tSound written rulings.\n",
    "- PHYS \tPhysical ability.\n",
    "- RTEN \tWorthy of retention.\n",
    "\n",
    "\n",
    "1. Apply PCA to the 12 components after standardizing. Determine how many components to use based on (motivate you answers):\n",
    " - Eigenvalue Criterion\n",
    " - Proportion of Variance Explained Criterion (use a minimum of 90% variability)\n",
    "  \n",
    "  \n",
    "2. Display the component matrix, that is, the correlation matrix between the features and the components. Round off the values to 2 decimal places. \n",
    "\n",
    "3. Comment on the above results."
   ]
  }
 ],
 "metadata": {
  "kernelspec": {
   "display_name": "Python 3",
   "language": "python",
   "name": "python3"
  },
  "language_info": {
   "codemirror_mode": {
    "name": "ipython",
    "version": 3
   },
   "file_extension": ".py",
   "mimetype": "text/x-python",
   "name": "python",
   "nbconvert_exporter": "python",
   "pygments_lexer": "ipython3",
   "version": "3.7.3"
  }
 },
 "nbformat": 4,
 "nbformat_minor": 2
}
