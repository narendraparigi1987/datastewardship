{
 "cells": [
  {
   "cell_type": "markdown",
   "metadata": {},
   "source": [
    "### Assignment 3 - Data Stewardship\n",
    "\n",
    "## Deadline:  December 12, 23:59  [y.he2@uva.nl](mailto:y.he2@uva.nl)\n",
    "\n",
    "## Upload your notebook file on Canvas\n",
    "\n",
    "|**Name** | **Student id** | **email**|\n",
    "|:- |:-|:-|\n",
    "|narendra parigi | 12089265 | naren.parigi@gmail.com|\n",
    "\n",
    "I (enlisted above) declare that:\n",
    "1. My assignment will be my own work.\n",
    "2. I shall not make solutions to the assignment available to anyone else.\n",
    "3. I shall not engage in any other activities that will dishonestly improve my results or dishonestly improve or hurt the results of others.\n",
    "\n",
    "Note:\n",
    "- your notebook should give no errors when executed as \"Run All\" cells\n",
    "- ** Use markdown cell setting for comments/additional explanation **"
   ]
  },
  {
   "cell_type": "code",
   "execution_count": 82,
   "metadata": {},
   "outputs": [],
   "source": [
    "import matplotlib.pyplot as plt\n",
    "import numpy as np\n",
    "from numpy import NaN\n",
    "import scipy.stats as stats\n",
    "from pandas import Series, DataFrame\n",
    "import pandas as pd\n",
    "plt.rc('figure', figsize=(10, 6))\n",
    "%matplotlib inline\n",
    "from IPython.core.interactiveshell import InteractiveShell\n",
    "InteractiveShell.ast_node_interactivity = \"all\"\n",
    "import warnings\n",
    "warnings.filterwarnings('ignore')"
   ]
  },
  {
   "cell_type": "markdown",
   "metadata": {},
   "source": [
    "# <font color='blue'>Question 1 [7 points] - Cleaning the scraped Nobel Prize dataset</font>"
   ]
  },
  {
   "cell_type": "markdown",
   "metadata": {},
   "source": [
    "The first part of this assignment consists of finding and eliminating dirty data in the Nobel Prize dataset. The final aim is to have a cleaned dataset that is ready to be explored by EDA.\n",
    "The following points can be considered:  \n",
    "   \n",
    "1. The first Nobel was awarded in 1901. Remove the earlier records.  \n",
    "\n",
    "2. Replace empty strings, i.e. <tt>''</tt>, with <tt>NaN</tt>\n",
    "\n",
    "3. Some names are marked with an asterisk, denoting that these winners are recorded by country of birth, not country at the time of winning the prize. Clean up those names by removing the asterisks and strip any remaining whitespace. You may need to input ```'\\*'``` for an asterisk string if you use the **contains** method. Generate a flag variable that equals 1 if the country is the country of birth.\n",
    "\n",
    "4. Some names are duplicated. This could indicate that some people have won the Nobel Prize more than once. However, it could also be that a winner is \"claimed\" by more than one country. Remove all real duplicates. For instance, Marie Curie is contained 4 times: twice for Poland and twice for France. Remove 2 of them (you have to make a choice here: remove winners country alphabetically of not?)\n",
    "\n",
    "5. Consider the missing values in the field <font color='blue'>category</font>. Are they really missing or just entry mistakes? [You don't have to complete missing values]  \n",
    "\n",
    "6. Is there an explanation of the missing values of the field <font color='blue'>gender</font>? Remove all records without gender.\n",
    "\n",
    "7. What about missing values for <font color='blue'>date_of_birth</font>?  \n",
    "\n",
    "Note: all changes should be made within this notebook. So, *no* alterations may be made to the input file outside this notebook (e.g. by using a file editor). When you have a choice, please <font color='red'>motivate</font>. *Show that you are aware of the consequences of your decision* (sometimes there is no right/wrong)."
   ]
  },
  {
   "cell_type": "markdown",
   "metadata": {},
   "source": [
    "### Read Data"
   ]
  },
  {
   "cell_type": "code",
   "execution_count": 83,
   "metadata": {},
   "outputs": [],
   "source": [
    "df_nobel = pd.read_json(\"nobel_winners.json\")\n",
    "df_ratings = pd.read_csv(\"JudgeRatings.csv\")"
   ]
  },
  {
   "cell_type": "code",
   "execution_count": 84,
   "metadata": {},
   "outputs": [
    {
     "name": "stdout",
     "output_type": "stream",
     "text": [
      "<class 'pandas.core.frame.DataFrame'>\n",
      "RangeIndex: 1052 entries, 0 to 1051\n",
      "Data columns (total 12 columns):\n",
      "born_in           1052 non-null object\n",
      "category          1052 non-null object\n",
      "country           1052 non-null object\n",
      "date_of_birth     1044 non-null object\n",
      "date_of_death     1044 non-null object\n",
      "gender            1040 non-null object\n",
      "link              1052 non-null object\n",
      "name              1052 non-null object\n",
      "place_of_birth    1044 non-null object\n",
      "place_of_death    1044 non-null object\n",
      "text              1052 non-null object\n",
      "year              1052 non-null int64\n",
      "dtypes: int64(1), object(11)\n",
      "memory usage: 98.7+ KB\n"
     ]
    }
   ],
   "source": [
    "df_nobel.info()"
   ]
  },
  {
   "cell_type": "code",
   "execution_count": 85,
   "metadata": {},
   "outputs": [
    {
     "name": "stdout",
     "output_type": "stream",
     "text": [
      "<class 'pandas.core.frame.DataFrame'>\n",
      "RangeIndex: 43 entries, 0 to 42\n",
      "Data columns (total 13 columns):\n",
      "JUDGE    43 non-null object\n",
      "CONT     43 non-null float64\n",
      "INTG     43 non-null float64\n",
      "DMNR     43 non-null float64\n",
      "DILG     43 non-null float64\n",
      "CFMG     43 non-null float64\n",
      "DECI     43 non-null float64\n",
      "PREP     43 non-null float64\n",
      "FAMI     43 non-null float64\n",
      "ORAL     43 non-null float64\n",
      "WRIT     43 non-null float64\n",
      "PHYS     43 non-null float64\n",
      "RTEN     43 non-null float64\n",
      "dtypes: float64(12), object(1)\n",
      "memory usage: 4.4+ KB\n"
     ]
    }
   ],
   "source": [
    "df_ratings.info()"
   ]
  },
  {
   "cell_type": "code",
   "execution_count": 86,
   "metadata": {},
   "outputs": [
    {
     "data": {
      "text/plain": [
       "((1052, 12), (43, 13))"
      ]
     },
     "execution_count": 86,
     "metadata": {},
     "output_type": "execute_result"
    }
   ],
   "source": [
    "(df_nobel.shape, df_ratings.shape)"
   ]
  },
  {
   "cell_type": "markdown",
   "metadata": {},
   "source": [
    "### Question 1"
   ]
  },
  {
   "cell_type": "code",
   "execution_count": 87,
   "metadata": {},
   "outputs": [],
   "source": [
    "df_nobel_fil = df_nobel[df_nobel['year'] >= 1901]"
   ]
  },
  {
   "cell_type": "code",
   "execution_count": 88,
   "metadata": {},
   "outputs": [
    {
     "data": {
      "text/html": [
       "<div>\n",
       "<style scoped>\n",
       "    .dataframe tbody tr th:only-of-type {\n",
       "        vertical-align: middle;\n",
       "    }\n",
       "\n",
       "    .dataframe tbody tr th {\n",
       "        vertical-align: top;\n",
       "    }\n",
       "\n",
       "    .dataframe thead th {\n",
       "        text-align: right;\n",
       "    }\n",
       "</style>\n",
       "<table border=\"1\" class=\"dataframe\">\n",
       "  <thead>\n",
       "    <tr style=\"text-align: right;\">\n",
       "      <th></th>\n",
       "      <th>born_in</th>\n",
       "      <th>category</th>\n",
       "      <th>country</th>\n",
       "      <th>date_of_birth</th>\n",
       "      <th>date_of_death</th>\n",
       "      <th>gender</th>\n",
       "      <th>link</th>\n",
       "      <th>name</th>\n",
       "      <th>place_of_birth</th>\n",
       "      <th>place_of_death</th>\n",
       "      <th>text</th>\n",
       "      <th>year</th>\n",
       "    </tr>\n",
       "  </thead>\n",
       "  <tbody>\n",
       "    <tr>\n",
       "      <th>67</th>\n",
       "      <td></td>\n",
       "      <td>Physics</td>\n",
       "      <td>Germany</td>\n",
       "      <td>27 March 1845</td>\n",
       "      <td>10 February 1923</td>\n",
       "      <td>male</td>\n",
       "      <td>http://en.wikipedia.org/wiki/Wilhelm_Conrad_R%...</td>\n",
       "      <td>Wilhelm Conrad Röntgen</td>\n",
       "      <td>Lennep ,  Prussia</td>\n",
       "      <td>Munich ,  Germany</td>\n",
       "      <td>Wilhelm Conrad Röntgen , Physics, 1901</td>\n",
       "      <td>1901</td>\n",
       "    </tr>\n",
       "    <tr>\n",
       "      <th>909</th>\n",
       "      <td></td>\n",
       "      <td>Peace</td>\n",
       "      <td>France</td>\n",
       "      <td>8 May 1828</td>\n",
       "      <td>30 October 1910</td>\n",
       "      <td>male</td>\n",
       "      <td>http://en.wikipedia.org/wiki/Henry_Dunant</td>\n",
       "      <td>Henry Dunant</td>\n",
       "      <td>Geneva , Switzerland</td>\n",
       "      <td>Heiden, Switzerland</td>\n",
       "      <td>Henry Dunant , Peace, 1901</td>\n",
       "      <td>1901</td>\n",
       "    </tr>\n",
       "  </tbody>\n",
       "</table>\n",
       "</div>"
      ],
      "text/plain": [
       "    born_in category  country  date_of_birth     date_of_death gender  \\\n",
       "67           Physics  Germany  27 March 1845  10 February 1923   male   \n",
       "909            Peace   France     8 May 1828   30 October 1910   male   \n",
       "\n",
       "                                                  link  \\\n",
       "67   http://en.wikipedia.org/wiki/Wilhelm_Conrad_R%...   \n",
       "909          http://en.wikipedia.org/wiki/Henry_Dunant   \n",
       "\n",
       "                       name        place_of_birth       place_of_death  \\\n",
       "67   Wilhelm Conrad Röntgen     Lennep ,  Prussia    Munich ,  Germany   \n",
       "909            Henry Dunant  Geneva , Switzerland  Heiden, Switzerland   \n",
       "\n",
       "                                       text  year  \n",
       "67   Wilhelm Conrad Röntgen , Physics, 1901  1901  \n",
       "909              Henry Dunant , Peace, 1901  1901  "
      ]
     },
     "execution_count": 88,
     "metadata": {},
     "output_type": "execute_result"
    }
   ],
   "source": [
    "df_nobel_fil.sort_values(by=['year']).head(2)"
   ]
  },
  {
   "cell_type": "code",
   "execution_count": 89,
   "metadata": {},
   "outputs": [
    {
     "name": "stdout",
     "output_type": "stream",
     "text": [
      "The size of the nobel dataframe after filtering records 1049\n"
     ]
    }
   ],
   "source": [
    "print ('The size of the nobel dataframe after filtering records {0}'.format(df_nobel_fil.shape[0]))"
   ]
  },
  {
   "cell_type": "markdown",
   "metadata": {},
   "source": [
    "### Question 2"
   ]
  },
  {
   "cell_type": "code",
   "execution_count": 90,
   "metadata": {},
   "outputs": [
    {
     "name": "stdout",
     "output_type": "stream",
     "text": [
      "The following columns have an empty string as value\n",
      "born_in\n",
      "category\n",
      "country\n",
      "date_of_birth\n",
      "date_of_death\n",
      "place_of_birth\n",
      "place_of_death\n"
     ]
    }
   ],
   "source": [
    "print(\"The following columns have an empty string as value\")\n",
    "for column in df_nobel_fil.columns:\n",
    "    if (df_nobel_fil[column] == '').any():\n",
    "        print(column)"
   ]
  },
  {
   "cell_type": "code",
   "execution_count": 91,
   "metadata": {},
   "outputs": [],
   "source": [
    "df_nobel_fil.replace('', np.nan, inplace=True)"
   ]
  },
  {
   "cell_type": "code",
   "execution_count": 92,
   "metadata": {},
   "outputs": [
    {
     "name": "stdout",
     "output_type": "stream",
     "text": [
      "no columns have an empty string as value after replacement\n"
     ]
    }
   ],
   "source": [
    "print(\"no columns have an empty string as value after replacement\")\n",
    "for column in df_nobel_fil.columns:\n",
    "    if (df_nobel_fil[column] == '').any():\n",
    "        print(column)"
   ]
  },
  {
   "cell_type": "markdown",
   "metadata": {},
   "source": [
    "All columns with empty string as value are replaced by np.nan."
   ]
  },
  {
   "cell_type": "markdown",
   "metadata": {},
   "source": [
    "### Question 3"
   ]
  },
  {
   "cell_type": "code",
   "execution_count": 93,
   "metadata": {},
   "outputs": [
    {
     "data": {
      "text/plain": [
       "(142, 12)"
      ]
     },
     "execution_count": 93,
     "metadata": {},
     "output_type": "execute_result"
    }
   ],
   "source": [
    "df_nobel_fil[df_nobel_fil['name'].str.contains('\\*', regex=True)==True].shape"
   ]
  },
  {
   "cell_type": "code",
   "execution_count": 94,
   "metadata": {},
   "outputs": [],
   "source": [
    "df_nobel_fil['flag_country_check'] = df_nobel_fil['name'].str.contains('\\*', regex=True).astype(int)"
   ]
  },
  {
   "cell_type": "code",
   "execution_count": 95,
   "metadata": {},
   "outputs": [
    {
     "data": {
      "text/plain": [
       "0    907\n",
       "1    142\n",
       "Name: flag_country_check, dtype: int64"
      ]
     },
     "execution_count": 95,
     "metadata": {},
     "output_type": "execute_result"
    }
   ],
   "source": [
    "df_nobel_fil['flag_country_check'].value_counts()"
   ]
  },
  {
   "cell_type": "code",
   "execution_count": 96,
   "metadata": {},
   "outputs": [
    {
     "data": {
      "text/html": [
       "<div>\n",
       "<style scoped>\n",
       "    .dataframe tbody tr th:only-of-type {\n",
       "        vertical-align: middle;\n",
       "    }\n",
       "\n",
       "    .dataframe tbody tr th {\n",
       "        vertical-align: top;\n",
       "    }\n",
       "\n",
       "    .dataframe thead th {\n",
       "        text-align: right;\n",
       "    }\n",
       "</style>\n",
       "<table border=\"1\" class=\"dataframe\">\n",
       "  <thead>\n",
       "    <tr style=\"text-align: right;\">\n",
       "      <th></th>\n",
       "      <th>born_in</th>\n",
       "      <th>category</th>\n",
       "      <th>country</th>\n",
       "      <th>date_of_birth</th>\n",
       "      <th>date_of_death</th>\n",
       "      <th>gender</th>\n",
       "      <th>link</th>\n",
       "      <th>name</th>\n",
       "      <th>place_of_birth</th>\n",
       "      <th>place_of_death</th>\n",
       "      <th>text</th>\n",
       "      <th>year</th>\n",
       "      <th>flag_country_check</th>\n",
       "    </tr>\n",
       "  </thead>\n",
       "  <tbody>\n",
       "    <tr>\n",
       "      <th>0</th>\n",
       "      <td>NaN</td>\n",
       "      <td>Physiology or Medicine</td>\n",
       "      <td>Argentina</td>\n",
       "      <td>8 October 1927</td>\n",
       "      <td>24 March 2002</td>\n",
       "      <td>male</td>\n",
       "      <td>http://en.wikipedia.org/wiki/C%C3%A9sar_Milstein</td>\n",
       "      <td>César Milstein</td>\n",
       "      <td>Bahía Blanca ,  Argentina</td>\n",
       "      <td>Cambridge , England</td>\n",
       "      <td>César Milstein , Physiology or Medicine, 1984</td>\n",
       "      <td>1984</td>\n",
       "      <td>0</td>\n",
       "    </tr>\n",
       "    <tr>\n",
       "      <th>1</th>\n",
       "      <td>Bosnia and Herzegovina</td>\n",
       "      <td>Literature</td>\n",
       "      <td>NaN</td>\n",
       "      <td>9 October 1892</td>\n",
       "      <td>13 March 1975</td>\n",
       "      <td>male</td>\n",
       "      <td>http://en.wikipedia.org/wiki/Ivo_Andric</td>\n",
       "      <td>Ivo Andric *</td>\n",
       "      <td>Dolac (village near Travnik), Austria-Hungary ...</td>\n",
       "      <td>Belgrade, SR Serbia, SFR Yugoslavia (present-d...</td>\n",
       "      <td>Ivo Andric *,  born in then  Austria–Hungary ,...</td>\n",
       "      <td>1961</td>\n",
       "      <td>1</td>\n",
       "    </tr>\n",
       "    <tr>\n",
       "      <th>2</th>\n",
       "      <td>Bosnia and Herzegovina</td>\n",
       "      <td>Chemistry</td>\n",
       "      <td>NaN</td>\n",
       "      <td>July 23, 1906</td>\n",
       "      <td>1998-01-07</td>\n",
       "      <td>male</td>\n",
       "      <td>http://en.wikipedia.org/wiki/Vladimir_Prelog</td>\n",
       "      <td>Vladimir Prelog *</td>\n",
       "      <td>Sarajevo ,  Bosnia and Herzegovina , then part...</td>\n",
       "      <td>Zürich ,  Switzerland</td>\n",
       "      <td>Vladimir Prelog *,  born in then  Austria–Hung...</td>\n",
       "      <td>1975</td>\n",
       "      <td>1</td>\n",
       "    </tr>\n",
       "  </tbody>\n",
       "</table>\n",
       "</div>"
      ],
      "text/plain": [
       "                  born_in                category    country   date_of_birth  \\\n",
       "0                     NaN  Physiology or Medicine  Argentina  8 October 1927   \n",
       "1  Bosnia and Herzegovina              Literature        NaN  9 October 1892   \n",
       "2  Bosnia and Herzegovina               Chemistry        NaN   July 23, 1906   \n",
       "\n",
       "   date_of_death gender                                              link  \\\n",
       "0  24 March 2002   male  http://en.wikipedia.org/wiki/C%C3%A9sar_Milstein   \n",
       "1  13 March 1975   male           http://en.wikipedia.org/wiki/Ivo_Andric   \n",
       "2     1998-01-07   male      http://en.wikipedia.org/wiki/Vladimir_Prelog   \n",
       "\n",
       "                name                                     place_of_birth  \\\n",
       "0     César Milstein                          Bahía Blanca ,  Argentina   \n",
       "1       Ivo Andric *  Dolac (village near Travnik), Austria-Hungary ...   \n",
       "2  Vladimir Prelog *  Sarajevo ,  Bosnia and Herzegovina , then part...   \n",
       "\n",
       "                                      place_of_death  \\\n",
       "0                                Cambridge , England   \n",
       "1  Belgrade, SR Serbia, SFR Yugoslavia (present-d...   \n",
       "2                              Zürich ,  Switzerland   \n",
       "\n",
       "                                                text  year  flag_country_check  \n",
       "0      César Milstein , Physiology or Medicine, 1984  1984                   0  \n",
       "1  Ivo Andric *,  born in then  Austria–Hungary ,...  1961                   1  \n",
       "2  Vladimir Prelog *,  born in then  Austria–Hung...  1975                   1  "
      ]
     },
     "execution_count": 96,
     "metadata": {},
     "output_type": "execute_result"
    }
   ],
   "source": [
    "df_nobel_fil.head(3)"
   ]
  },
  {
   "cell_type": "code",
   "execution_count": 97,
   "metadata": {},
   "outputs": [],
   "source": [
    "df_nobel_fil['name'] = df_nobel_fil['name'].replace('\\*', '', regex=True).str.strip()"
   ]
  },
  {
   "cell_type": "code",
   "execution_count": 98,
   "metadata": {},
   "outputs": [
    {
     "data": {
      "text/html": [
       "<div>\n",
       "<style scoped>\n",
       "    .dataframe tbody tr th:only-of-type {\n",
       "        vertical-align: middle;\n",
       "    }\n",
       "\n",
       "    .dataframe tbody tr th {\n",
       "        vertical-align: top;\n",
       "    }\n",
       "\n",
       "    .dataframe thead th {\n",
       "        text-align: right;\n",
       "    }\n",
       "</style>\n",
       "<table border=\"1\" class=\"dataframe\">\n",
       "  <thead>\n",
       "    <tr style=\"text-align: right;\">\n",
       "      <th></th>\n",
       "      <th>born_in</th>\n",
       "      <th>category</th>\n",
       "      <th>country</th>\n",
       "      <th>date_of_birth</th>\n",
       "      <th>date_of_death</th>\n",
       "      <th>gender</th>\n",
       "      <th>link</th>\n",
       "      <th>name</th>\n",
       "      <th>place_of_birth</th>\n",
       "      <th>place_of_death</th>\n",
       "      <th>text</th>\n",
       "      <th>year</th>\n",
       "      <th>flag_country_check</th>\n",
       "    </tr>\n",
       "  </thead>\n",
       "  <tbody>\n",
       "    <tr>\n",
       "      <th>0</th>\n",
       "      <td>NaN</td>\n",
       "      <td>Physiology or Medicine</td>\n",
       "      <td>Argentina</td>\n",
       "      <td>8 October 1927</td>\n",
       "      <td>24 March 2002</td>\n",
       "      <td>male</td>\n",
       "      <td>http://en.wikipedia.org/wiki/C%C3%A9sar_Milstein</td>\n",
       "      <td>César Milstein</td>\n",
       "      <td>Bahía Blanca ,  Argentina</td>\n",
       "      <td>Cambridge , England</td>\n",
       "      <td>César Milstein , Physiology or Medicine, 1984</td>\n",
       "      <td>1984</td>\n",
       "      <td>0</td>\n",
       "    </tr>\n",
       "    <tr>\n",
       "      <th>1</th>\n",
       "      <td>Bosnia and Herzegovina</td>\n",
       "      <td>Literature</td>\n",
       "      <td>NaN</td>\n",
       "      <td>9 October 1892</td>\n",
       "      <td>13 March 1975</td>\n",
       "      <td>male</td>\n",
       "      <td>http://en.wikipedia.org/wiki/Ivo_Andric</td>\n",
       "      <td>Ivo Andric</td>\n",
       "      <td>Dolac (village near Travnik), Austria-Hungary ...</td>\n",
       "      <td>Belgrade, SR Serbia, SFR Yugoslavia (present-d...</td>\n",
       "      <td>Ivo Andric *,  born in then  Austria–Hungary ,...</td>\n",
       "      <td>1961</td>\n",
       "      <td>1</td>\n",
       "    </tr>\n",
       "    <tr>\n",
       "      <th>2</th>\n",
       "      <td>Bosnia and Herzegovina</td>\n",
       "      <td>Chemistry</td>\n",
       "      <td>NaN</td>\n",
       "      <td>July 23, 1906</td>\n",
       "      <td>1998-01-07</td>\n",
       "      <td>male</td>\n",
       "      <td>http://en.wikipedia.org/wiki/Vladimir_Prelog</td>\n",
       "      <td>Vladimir Prelog</td>\n",
       "      <td>Sarajevo ,  Bosnia and Herzegovina , then part...</td>\n",
       "      <td>Zürich ,  Switzerland</td>\n",
       "      <td>Vladimir Prelog *,  born in then  Austria–Hung...</td>\n",
       "      <td>1975</td>\n",
       "      <td>1</td>\n",
       "    </tr>\n",
       "  </tbody>\n",
       "</table>\n",
       "</div>"
      ],
      "text/plain": [
       "                  born_in                category    country   date_of_birth  \\\n",
       "0                     NaN  Physiology or Medicine  Argentina  8 October 1927   \n",
       "1  Bosnia and Herzegovina              Literature        NaN  9 October 1892   \n",
       "2  Bosnia and Herzegovina               Chemistry        NaN   July 23, 1906   \n",
       "\n",
       "   date_of_death gender                                              link  \\\n",
       "0  24 March 2002   male  http://en.wikipedia.org/wiki/C%C3%A9sar_Milstein   \n",
       "1  13 March 1975   male           http://en.wikipedia.org/wiki/Ivo_Andric   \n",
       "2     1998-01-07   male      http://en.wikipedia.org/wiki/Vladimir_Prelog   \n",
       "\n",
       "              name                                     place_of_birth  \\\n",
       "0   César Milstein                          Bahía Blanca ,  Argentina   \n",
       "1       Ivo Andric  Dolac (village near Travnik), Austria-Hungary ...   \n",
       "2  Vladimir Prelog  Sarajevo ,  Bosnia and Herzegovina , then part...   \n",
       "\n",
       "                                      place_of_death  \\\n",
       "0                                Cambridge , England   \n",
       "1  Belgrade, SR Serbia, SFR Yugoslavia (present-d...   \n",
       "2                              Zürich ,  Switzerland   \n",
       "\n",
       "                                                text  year  flag_country_check  \n",
       "0      César Milstein , Physiology or Medicine, 1984  1984                   0  \n",
       "1  Ivo Andric *,  born in then  Austria–Hungary ,...  1961                   1  \n",
       "2  Vladimir Prelog *,  born in then  Austria–Hung...  1975                   1  "
      ]
     },
     "execution_count": 98,
     "metadata": {},
     "output_type": "execute_result"
    }
   ],
   "source": [
    "df_nobel_fil.head(3)"
   ]
  },
  {
   "cell_type": "markdown",
   "metadata": {},
   "source": [
    "In total 142 entries contain a name with a asterisks (*) and a flag is generated to represent a section. The asterisks are removed and column values are stripped for whitespaces."
   ]
  },
  {
   "cell_type": "markdown",
   "metadata": {},
   "source": [
    "### Question 4"
   ]
  },
  {
   "cell_type": "code",
   "execution_count": 99,
   "metadata": {},
   "outputs": [
    {
     "data": {
      "text/html": [
       "<div>\n",
       "<style scoped>\n",
       "    .dataframe tbody tr th:only-of-type {\n",
       "        vertical-align: middle;\n",
       "    }\n",
       "\n",
       "    .dataframe tbody tr th {\n",
       "        vertical-align: top;\n",
       "    }\n",
       "\n",
       "    .dataframe thead th {\n",
       "        text-align: right;\n",
       "    }\n",
       "</style>\n",
       "<table border=\"1\" class=\"dataframe\">\n",
       "  <thead>\n",
       "    <tr style=\"text-align: right;\">\n",
       "      <th></th>\n",
       "      <th>born_in</th>\n",
       "      <th>category</th>\n",
       "      <th>country</th>\n",
       "      <th>date_of_birth</th>\n",
       "      <th>date_of_death</th>\n",
       "      <th>gender</th>\n",
       "      <th>link</th>\n",
       "      <th>name</th>\n",
       "      <th>place_of_birth</th>\n",
       "      <th>place_of_death</th>\n",
       "      <th>text</th>\n",
       "      <th>year</th>\n",
       "      <th>flag_country_check</th>\n",
       "    </tr>\n",
       "  </thead>\n",
       "  <tbody>\n",
       "    <tr>\n",
       "      <th>706</th>\n",
       "      <td>NaN</td>\n",
       "      <td>Physics</td>\n",
       "      <td>Poland</td>\n",
       "      <td>7 November 1867</td>\n",
       "      <td>4 July 1934</td>\n",
       "      <td>female</td>\n",
       "      <td>http://en.wikipedia.org/wiki/Marie_Curie</td>\n",
       "      <td>Marie Skłodowska-Curie</td>\n",
       "      <td>Warsaw , Poland</td>\n",
       "      <td>Sancellemoz , France</td>\n",
       "      <td>Marie Skłodowska-Curie ,  born in partitioned ...</td>\n",
       "      <td>1903</td>\n",
       "      <td>0</td>\n",
       "    </tr>\n",
       "    <tr>\n",
       "      <th>709</th>\n",
       "      <td>NaN</td>\n",
       "      <td>Chemistry</td>\n",
       "      <td>Poland</td>\n",
       "      <td>7 November 1867</td>\n",
       "      <td>4 July 1934</td>\n",
       "      <td>female</td>\n",
       "      <td>http://en.wikipedia.org/wiki/Marie_Curie</td>\n",
       "      <td>Marie Skłodowska-Curie</td>\n",
       "      <td>Warsaw , Poland</td>\n",
       "      <td>Sancellemoz , France</td>\n",
       "      <td>Marie Skłodowska-Curie ,  born in partitioned ...</td>\n",
       "      <td>1911</td>\n",
       "      <td>0</td>\n",
       "    </tr>\n",
       "    <tr>\n",
       "      <th>910</th>\n",
       "      <td>NaN</td>\n",
       "      <td>Physics</td>\n",
       "      <td>France</td>\n",
       "      <td>7 November 1867</td>\n",
       "      <td>4 July 1934</td>\n",
       "      <td>female</td>\n",
       "      <td>http://en.wikipedia.org/wiki/Marie_Curie</td>\n",
       "      <td>Marie Curie</td>\n",
       "      <td>Warsaw , Poland</td>\n",
       "      <td>Sancellemoz , France</td>\n",
       "      <td>Marie Curie ,  born in then Russian Empire, no...</td>\n",
       "      <td>1903</td>\n",
       "      <td>0</td>\n",
       "    </tr>\n",
       "    <tr>\n",
       "      <th>919</th>\n",
       "      <td>NaN</td>\n",
       "      <td>Chemistry</td>\n",
       "      <td>France</td>\n",
       "      <td>7 November 1867</td>\n",
       "      <td>4 July 1934</td>\n",
       "      <td>female</td>\n",
       "      <td>http://en.wikipedia.org/wiki/Marie_Curie</td>\n",
       "      <td>Marie Curie</td>\n",
       "      <td>Warsaw , Poland</td>\n",
       "      <td>Sancellemoz , France</td>\n",
       "      <td>Marie Curie ,  born in then Russian Empire, no...</td>\n",
       "      <td>1911</td>\n",
       "      <td>0</td>\n",
       "    </tr>\n",
       "  </tbody>\n",
       "</table>\n",
       "</div>"
      ],
      "text/plain": [
       "    born_in   category country    date_of_birth date_of_death  gender  \\\n",
       "706     NaN    Physics  Poland  7 November 1867   4 July 1934  female   \n",
       "709     NaN  Chemistry  Poland  7 November 1867   4 July 1934  female   \n",
       "910     NaN    Physics  France  7 November 1867   4 July 1934  female   \n",
       "919     NaN  Chemistry  France  7 November 1867   4 July 1934  female   \n",
       "\n",
       "                                         link                    name  \\\n",
       "706  http://en.wikipedia.org/wiki/Marie_Curie  Marie Skłodowska-Curie   \n",
       "709  http://en.wikipedia.org/wiki/Marie_Curie  Marie Skłodowska-Curie   \n",
       "910  http://en.wikipedia.org/wiki/Marie_Curie             Marie Curie   \n",
       "919  http://en.wikipedia.org/wiki/Marie_Curie             Marie Curie   \n",
       "\n",
       "      place_of_birth        place_of_death  \\\n",
       "706  Warsaw , Poland  Sancellemoz , France   \n",
       "709  Warsaw , Poland  Sancellemoz , France   \n",
       "910  Warsaw , Poland  Sancellemoz , France   \n",
       "919  Warsaw , Poland  Sancellemoz , France   \n",
       "\n",
       "                                                  text  year  \\\n",
       "706  Marie Skłodowska-Curie ,  born in partitioned ...  1903   \n",
       "709  Marie Skłodowska-Curie ,  born in partitioned ...  1911   \n",
       "910  Marie Curie ,  born in then Russian Empire, no...  1903   \n",
       "919  Marie Curie ,  born in then Russian Empire, no...  1911   \n",
       "\n",
       "     flag_country_check  \n",
       "706                   0  \n",
       "709                   0  \n",
       "910                   0  \n",
       "919                   0  "
      ]
     },
     "execution_count": 99,
     "metadata": {},
     "output_type": "execute_result"
    }
   ],
   "source": [
    "df_nobel_fil[df_nobel_fil['name'].str.contains('Curie') & df_nobel_fil['name'].str.contains('Marie')]"
   ]
  },
  {
   "cell_type": "code",
   "execution_count": 100,
   "metadata": {},
   "outputs": [],
   "source": [
    "df_nobel_fil_dedup = df_nobel_fil.sort_values(by=['country']).drop_duplicates(\n",
    "    subset=['category', 'date_of_birth', 'gender','year'], \n",
    "    keep='first')"
   ]
  },
  {
   "cell_type": "code",
   "execution_count": 101,
   "metadata": {},
   "outputs": [
    {
     "data": {
      "text/plain": [
       "(874, 13)"
      ]
     },
     "execution_count": 101,
     "metadata": {},
     "output_type": "execute_result"
    }
   ],
   "source": [
    "df_nobel_fil_dedup.shape"
   ]
  },
  {
   "cell_type": "code",
   "execution_count": 102,
   "metadata": {},
   "outputs": [
    {
     "data": {
      "text/html": [
       "<div>\n",
       "<style scoped>\n",
       "    .dataframe tbody tr th:only-of-type {\n",
       "        vertical-align: middle;\n",
       "    }\n",
       "\n",
       "    .dataframe tbody tr th {\n",
       "        vertical-align: top;\n",
       "    }\n",
       "\n",
       "    .dataframe thead th {\n",
       "        text-align: right;\n",
       "    }\n",
       "</style>\n",
       "<table border=\"1\" class=\"dataframe\">\n",
       "  <thead>\n",
       "    <tr style=\"text-align: right;\">\n",
       "      <th></th>\n",
       "      <th>born_in</th>\n",
       "      <th>category</th>\n",
       "      <th>country</th>\n",
       "      <th>date_of_birth</th>\n",
       "      <th>date_of_death</th>\n",
       "      <th>gender</th>\n",
       "      <th>link</th>\n",
       "      <th>name</th>\n",
       "      <th>place_of_birth</th>\n",
       "      <th>place_of_death</th>\n",
       "      <th>text</th>\n",
       "      <th>year</th>\n",
       "      <th>flag_country_check</th>\n",
       "    </tr>\n",
       "  </thead>\n",
       "  <tbody>\n",
       "    <tr>\n",
       "      <th>910</th>\n",
       "      <td>NaN</td>\n",
       "      <td>Physics</td>\n",
       "      <td>France</td>\n",
       "      <td>7 November 1867</td>\n",
       "      <td>4 July 1934</td>\n",
       "      <td>female</td>\n",
       "      <td>http://en.wikipedia.org/wiki/Marie_Curie</td>\n",
       "      <td>Marie Curie</td>\n",
       "      <td>Warsaw , Poland</td>\n",
       "      <td>Sancellemoz , France</td>\n",
       "      <td>Marie Curie ,  born in then Russian Empire, no...</td>\n",
       "      <td>1903</td>\n",
       "      <td>0</td>\n",
       "    </tr>\n",
       "    <tr>\n",
       "      <th>919</th>\n",
       "      <td>NaN</td>\n",
       "      <td>Chemistry</td>\n",
       "      <td>France</td>\n",
       "      <td>7 November 1867</td>\n",
       "      <td>4 July 1934</td>\n",
       "      <td>female</td>\n",
       "      <td>http://en.wikipedia.org/wiki/Marie_Curie</td>\n",
       "      <td>Marie Curie</td>\n",
       "      <td>Warsaw , Poland</td>\n",
       "      <td>Sancellemoz , France</td>\n",
       "      <td>Marie Curie ,  born in then Russian Empire, no...</td>\n",
       "      <td>1911</td>\n",
       "      <td>0</td>\n",
       "    </tr>\n",
       "  </tbody>\n",
       "</table>\n",
       "</div>"
      ],
      "text/plain": [
       "    born_in   category country    date_of_birth date_of_death  gender  \\\n",
       "910     NaN    Physics  France  7 November 1867   4 July 1934  female   \n",
       "919     NaN  Chemistry  France  7 November 1867   4 July 1934  female   \n",
       "\n",
       "                                         link         name   place_of_birth  \\\n",
       "910  http://en.wikipedia.org/wiki/Marie_Curie  Marie Curie  Warsaw , Poland   \n",
       "919  http://en.wikipedia.org/wiki/Marie_Curie  Marie Curie  Warsaw , Poland   \n",
       "\n",
       "           place_of_death                                               text  \\\n",
       "910  Sancellemoz , France  Marie Curie ,  born in then Russian Empire, no...   \n",
       "919  Sancellemoz , France  Marie Curie ,  born in then Russian Empire, no...   \n",
       "\n",
       "     year  flag_country_check  \n",
       "910  1903                   0  \n",
       "919  1911                   0  "
      ]
     },
     "execution_count": 102,
     "metadata": {},
     "output_type": "execute_result"
    }
   ],
   "source": [
    "df_nobel_fil_dedup[df_nobel_fil_dedup['name'].str.contains('Curie') &\n",
    "                   df_nobel_fil_dedup['name'].str.contains('Marie')]"
   ]
  },
  {
   "cell_type": "markdown",
   "metadata": {},
   "source": [
    "The sub-set of columns category, date of birth, gender and year used to exclude duplicates as the category, date of birth, gender and year combination of columns must be identical, although the country and name differ in the entries.\n",
    "\n",
    "Note: we can also use date_of_death, place_of_birth, place_of_death as sub-set columns but the combination category, date of birth, gender and year is already unique (verified with current dataset). The solution does not work if the nobel price is shared by two people who born on the same date of birth."
   ]
  },
  {
   "cell_type": "markdown",
   "metadata": {},
   "source": [
    "### Question 5"
   ]
  },
  {
   "cell_type": "code",
   "execution_count": 103,
   "metadata": {},
   "outputs": [
    {
     "data": {
      "text/plain": [
       "Physiology or Medicine    206\n",
       "Physics                   200\n",
       "Chemistry                 169\n",
       "Literature                110\n",
       "Peace                     109\n",
       "Economics                  74\n",
       "Name: category, dtype: int64"
      ]
     },
     "execution_count": 103,
     "metadata": {},
     "output_type": "execute_result"
    }
   ],
   "source": [
    "df_nobel_fil_dedup['category'].value_counts()"
   ]
  },
  {
   "cell_type": "code",
   "execution_count": 104,
   "metadata": {},
   "outputs": [
    {
     "data": {
      "text/html": [
       "<div>\n",
       "<style scoped>\n",
       "    .dataframe tbody tr th:only-of-type {\n",
       "        vertical-align: middle;\n",
       "    }\n",
       "\n",
       "    .dataframe tbody tr th {\n",
       "        vertical-align: top;\n",
       "    }\n",
       "\n",
       "    .dataframe thead th {\n",
       "        text-align: right;\n",
       "    }\n",
       "</style>\n",
       "<table border=\"1\" class=\"dataframe\">\n",
       "  <thead>\n",
       "    <tr style=\"text-align: right;\">\n",
       "      <th></th>\n",
       "      <th>born_in</th>\n",
       "      <th>category</th>\n",
       "      <th>country</th>\n",
       "      <th>date_of_birth</th>\n",
       "      <th>date_of_death</th>\n",
       "      <th>gender</th>\n",
       "      <th>link</th>\n",
       "      <th>name</th>\n",
       "      <th>place_of_birth</th>\n",
       "      <th>place_of_death</th>\n",
       "      <th>text</th>\n",
       "      <th>year</th>\n",
       "      <th>flag_country_check</th>\n",
       "    </tr>\n",
       "  </thead>\n",
       "  <tbody>\n",
       "    <tr>\n",
       "      <th>922</th>\n",
       "      <td>NaN</td>\n",
       "      <td>NaN</td>\n",
       "      <td>France</td>\n",
       "      <td>28 June 1873</td>\n",
       "      <td>5 November 1944</td>\n",
       "      <td>male</td>\n",
       "      <td>http://en.wikipedia.org/wiki/Alexis_Carrel</td>\n",
       "      <td>Alexis Carrel</td>\n",
       "      <td>Sainte-Foy-lès-Lyon ,  Rhône ,  France</td>\n",
       "      <td>NaN</td>\n",
       "      <td>Alexis Carrel , Medicine, 1912</td>\n",
       "      <td>1912</td>\n",
       "      <td>0</td>\n",
       "    </tr>\n",
       "    <tr>\n",
       "      <th>104</th>\n",
       "      <td>Lithuania</td>\n",
       "      <td>NaN</td>\n",
       "      <td>NaN</td>\n",
       "      <td>November 30, 1926</td>\n",
       "      <td>NaN</td>\n",
       "      <td>male</td>\n",
       "      <td>http://en.wikipedia.org/wiki/Andrew_Schally</td>\n",
       "      <td>Andrew Schally</td>\n",
       "      <td>Vilnius ,  Second Polish Republic</td>\n",
       "      <td>NaN</td>\n",
       "      <td>Andrew Schally *,  born in then Poland, now Li...</td>\n",
       "      <td>1977</td>\n",
       "      <td>1</td>\n",
       "    </tr>\n",
       "    <tr>\n",
       "      <th>712</th>\n",
       "      <td>Poland</td>\n",
       "      <td>NaN</td>\n",
       "      <td>NaN</td>\n",
       "      <td>November 30, 1926</td>\n",
       "      <td>NaN</td>\n",
       "      <td>male</td>\n",
       "      <td>http://en.wikipedia.org/wiki/Andrew_Schally</td>\n",
       "      <td>Andrew Schally</td>\n",
       "      <td>Vilnius ,  Second Polish Republic</td>\n",
       "      <td>NaN</td>\n",
       "      <td>Andrew Schally *,  born in Wilno, Second Polis...</td>\n",
       "      <td>1976</td>\n",
       "      <td>1</td>\n",
       "    </tr>\n",
       "    <tr>\n",
       "      <th>812</th>\n",
       "      <td>India</td>\n",
       "      <td>NaN</td>\n",
       "      <td>NaN</td>\n",
       "      <td>January 9, 1922</td>\n",
       "      <td>November 9, 2011</td>\n",
       "      <td>male</td>\n",
       "      <td>http://en.wikipedia.org/wiki/Hargobind_Khorana</td>\n",
       "      <td>Hargobind Khorana</td>\n",
       "      <td>Raipur ,  Punjab , Pakistan</td>\n",
       "      <td>Concord, Massachusetts , U.S.</td>\n",
       "      <td>Hargobind Khorana *,  born in  Kabirwala , Bri...</td>\n",
       "      <td>1968</td>\n",
       "      <td>1</td>\n",
       "    </tr>\n",
       "    <tr>\n",
       "      <th>815</th>\n",
       "      <td>India</td>\n",
       "      <td>NaN</td>\n",
       "      <td>NaN</td>\n",
       "      <td>3 November 1933</td>\n",
       "      <td>NaN</td>\n",
       "      <td>male</td>\n",
       "      <td>http://en.wikipedia.org/wiki/Amartya_Sen</td>\n",
       "      <td>Amartya Sen</td>\n",
       "      <td>Dhaka ,  Bangladesh</td>\n",
       "      <td>NaN</td>\n",
       "      <td>Amartya Sen *, Economic Sciences, 1998</td>\n",
       "      <td>1998</td>\n",
       "      <td>1</td>\n",
       "    </tr>\n",
       "    <tr>\n",
       "      <th>820</th>\n",
       "      <td>Hungary</td>\n",
       "      <td>NaN</td>\n",
       "      <td>NaN</td>\n",
       "      <td>22 April 1876</td>\n",
       "      <td>8 April 1936</td>\n",
       "      <td>male</td>\n",
       "      <td>http://en.wikipedia.org/wiki/Robert_B%C3%A1r%C...</td>\n",
       "      <td>Robert Bárány</td>\n",
       "      <td>Vienna ,  Austria-Hungary</td>\n",
       "      <td>Uppsala ,  Sweden</td>\n",
       "      <td>Robert Bárány *,  born in then Austria-Hungary...</td>\n",
       "      <td>1914</td>\n",
       "      <td>1</td>\n",
       "    </tr>\n",
       "  </tbody>\n",
       "</table>\n",
       "</div>"
      ],
      "text/plain": [
       "       born_in category country      date_of_birth     date_of_death gender  \\\n",
       "922        NaN      NaN  France       28 June 1873   5 November 1944   male   \n",
       "104  Lithuania      NaN     NaN  November 30, 1926               NaN   male   \n",
       "712     Poland      NaN     NaN  November 30, 1926               NaN   male   \n",
       "812      India      NaN     NaN    January 9, 1922  November 9, 2011   male   \n",
       "815      India      NaN     NaN    3 November 1933               NaN   male   \n",
       "820    Hungary      NaN     NaN      22 April 1876      8 April 1936   male   \n",
       "\n",
       "                                                  link               name  \\\n",
       "922         http://en.wikipedia.org/wiki/Alexis_Carrel      Alexis Carrel   \n",
       "104        http://en.wikipedia.org/wiki/Andrew_Schally     Andrew Schally   \n",
       "712        http://en.wikipedia.org/wiki/Andrew_Schally     Andrew Schally   \n",
       "812     http://en.wikipedia.org/wiki/Hargobind_Khorana  Hargobind Khorana   \n",
       "815           http://en.wikipedia.org/wiki/Amartya_Sen        Amartya Sen   \n",
       "820  http://en.wikipedia.org/wiki/Robert_B%C3%A1r%C...      Robert Bárány   \n",
       "\n",
       "                             place_of_birth                 place_of_death  \\\n",
       "922  Sainte-Foy-lès-Lyon ,  Rhône ,  France                            NaN   \n",
       "104       Vilnius ,  Second Polish Republic                            NaN   \n",
       "712       Vilnius ,  Second Polish Republic                            NaN   \n",
       "812             Raipur ,  Punjab , Pakistan  Concord, Massachusetts , U.S.   \n",
       "815                     Dhaka ,  Bangladesh                            NaN   \n",
       "820               Vienna ,  Austria-Hungary              Uppsala ,  Sweden   \n",
       "\n",
       "                                                  text  year  \\\n",
       "922                     Alexis Carrel , Medicine, 1912  1912   \n",
       "104  Andrew Schally *,  born in then Poland, now Li...  1977   \n",
       "712  Andrew Schally *,  born in Wilno, Second Polis...  1976   \n",
       "812  Hargobind Khorana *,  born in  Kabirwala , Bri...  1968   \n",
       "815             Amartya Sen *, Economic Sciences, 1998  1998   \n",
       "820  Robert Bárány *,  born in then Austria-Hungary...  1914   \n",
       "\n",
       "     flag_country_check  \n",
       "922                   0  \n",
       "104                   1  \n",
       "712                   1  \n",
       "812                   1  \n",
       "815                   1  \n",
       "820                   1  "
      ]
     },
     "execution_count": 104,
     "metadata": {},
     "output_type": "execute_result"
    }
   ],
   "source": [
    "df_nobel_fil_dedup[df_nobel_fil_dedup['category'].isna() | df_nobel_fil_dedup['category'].isnull()]"
   ]
  },
  {
   "cell_type": "markdown",
   "metadata": {},
   "source": [
    "The six entries in the column of category are filled with nan values. The actual values in the json file are empty strings and have been replaced by np.nan as part of the question (2). This is certainly a data entry error, as, for example, Amartya Sen won the Nobel Prize in Economics."
   ]
  },
  {
   "cell_type": "markdown",
   "metadata": {},
   "source": [
    "### Question 6"
   ]
  },
  {
   "cell_type": "code",
   "execution_count": 105,
   "metadata": {},
   "outputs": [
    {
     "data": {
      "text/plain": [
       "male      818\n",
       "female     47\n",
       "Name: gender, dtype: int64"
      ]
     },
     "execution_count": 105,
     "metadata": {},
     "output_type": "execute_result"
    }
   ],
   "source": [
    "df_nobel_fil_dedup['gender'].value_counts()"
   ]
  },
  {
   "cell_type": "code",
   "execution_count": 106,
   "metadata": {},
   "outputs": [
    {
     "data": {
      "text/html": [
       "<div>\n",
       "<style scoped>\n",
       "    .dataframe tbody tr th:only-of-type {\n",
       "        vertical-align: middle;\n",
       "    }\n",
       "\n",
       "    .dataframe tbody tr th {\n",
       "        vertical-align: top;\n",
       "    }\n",
       "\n",
       "    .dataframe thead th {\n",
       "        text-align: right;\n",
       "    }\n",
       "</style>\n",
       "<table border=\"1\" class=\"dataframe\">\n",
       "  <thead>\n",
       "    <tr style=\"text-align: right;\">\n",
       "      <th></th>\n",
       "      <th>born_in</th>\n",
       "      <th>category</th>\n",
       "      <th>country</th>\n",
       "      <th>date_of_birth</th>\n",
       "      <th>date_of_death</th>\n",
       "      <th>gender</th>\n",
       "      <th>link</th>\n",
       "      <th>name</th>\n",
       "      <th>place_of_birth</th>\n",
       "      <th>place_of_death</th>\n",
       "      <th>text</th>\n",
       "      <th>year</th>\n",
       "      <th>flag_country_check</th>\n",
       "    </tr>\n",
       "  </thead>\n",
       "  <tbody>\n",
       "    <tr>\n",
       "      <th>1033</th>\n",
       "      <td>NaN</td>\n",
       "      <td>Peace</td>\n",
       "      <td>Austria</td>\n",
       "      <td>None</td>\n",
       "      <td>None</td>\n",
       "      <td>None</td>\n",
       "      <td>http://en.wikipedia.org/wiki/International_Ato...</td>\n",
       "      <td>International Atomic Energy Agency</td>\n",
       "      <td>None</td>\n",
       "      <td>None</td>\n",
       "      <td>International Atomic Energy Agency , Peace, 2005</td>\n",
       "      <td>2005</td>\n",
       "      <td>0</td>\n",
       "    </tr>\n",
       "    <tr>\n",
       "      <th>3</th>\n",
       "      <td>NaN</td>\n",
       "      <td>Peace</td>\n",
       "      <td>Belgium</td>\n",
       "      <td>None</td>\n",
       "      <td>None</td>\n",
       "      <td>None</td>\n",
       "      <td>http://en.wikipedia.org/wiki/Institut_de_Droit...</td>\n",
       "      <td>Institut de Droit International</td>\n",
       "      <td>None</td>\n",
       "      <td>None</td>\n",
       "      <td>Institut de Droit International , Peace, 1904</td>\n",
       "      <td>1904</td>\n",
       "      <td>0</td>\n",
       "    </tr>\n",
       "    <tr>\n",
       "      <th>1000</th>\n",
       "      <td>NaN</td>\n",
       "      <td>Peace</td>\n",
       "      <td>Canada</td>\n",
       "      <td>None</td>\n",
       "      <td>None</td>\n",
       "      <td>None</td>\n",
       "      <td>http://en.wikipedia.org/wiki/Pugwash_Conferenc...</td>\n",
       "      <td>Pugwash Conferences on Science and World Affairs</td>\n",
       "      <td>None</td>\n",
       "      <td>None</td>\n",
       "      <td>Pugwash Conferences on Science and World Affai...</td>\n",
       "      <td>1995</td>\n",
       "      <td>0</td>\n",
       "    </tr>\n",
       "    <tr>\n",
       "      <th>947</th>\n",
       "      <td>NaN</td>\n",
       "      <td>Peace</td>\n",
       "      <td>France</td>\n",
       "      <td>None</td>\n",
       "      <td>None</td>\n",
       "      <td>None</td>\n",
       "      <td>http://en.wikipedia.org/wiki/M%C3%A9decins_San...</td>\n",
       "      <td>Médecins Sans Frontières</td>\n",
       "      <td>None</td>\n",
       "      <td>None</td>\n",
       "      <td>Médecins Sans Frontières , Peace, 1999</td>\n",
       "      <td>1999</td>\n",
       "      <td>0</td>\n",
       "    </tr>\n",
       "    <tr>\n",
       "      <th>650</th>\n",
       "      <td>NaN</td>\n",
       "      <td>Physiology or Medicine</td>\n",
       "      <td>Sweden</td>\n",
       "      <td>October 30, 1900</td>\n",
       "      <td>March 12, 1991</td>\n",
       "      <td>None</td>\n",
       "      <td>http://en.wikipedia.org/wiki/Ragnar_Granit</td>\n",
       "      <td>Ragnar Granit</td>\n",
       "      <td>Helsinki , Finland</td>\n",
       "      <td>Stockholm , Sweden</td>\n",
       "      <td>Ragnar Granit ,  born in then Russian Empire, ...</td>\n",
       "      <td>1967</td>\n",
       "      <td>0</td>\n",
       "    </tr>\n",
       "    <tr>\n",
       "      <th>574</th>\n",
       "      <td>NaN</td>\n",
       "      <td>Peace</td>\n",
       "      <td>United Kingdom</td>\n",
       "      <td>None</td>\n",
       "      <td>None</td>\n",
       "      <td>None</td>\n",
       "      <td>http://en.wikipedia.org/wiki/Amnesty_Internati...</td>\n",
       "      <td>Amnesty International</td>\n",
       "      <td>None</td>\n",
       "      <td>None</td>\n",
       "      <td>Amnesty International , Peace, 1977</td>\n",
       "      <td>1977</td>\n",
       "      <td>0</td>\n",
       "    </tr>\n",
       "    <tr>\n",
       "      <th>156</th>\n",
       "      <td>NaN</td>\n",
       "      <td>Peace</td>\n",
       "      <td>United Kingdom</td>\n",
       "      <td>None</td>\n",
       "      <td>None</td>\n",
       "      <td>None</td>\n",
       "      <td>http://en.wikipedia.org/wiki/Friends_Service_C...</td>\n",
       "      <td>Friends Service Council</td>\n",
       "      <td>None</td>\n",
       "      <td>None</td>\n",
       "      <td>Friends Service Council , Peace, 1947</td>\n",
       "      <td>1947</td>\n",
       "      <td>0</td>\n",
       "    </tr>\n",
       "    <tr>\n",
       "      <th>696</th>\n",
       "      <td>Russia</td>\n",
       "      <td>Physics</td>\n",
       "      <td>NaN</td>\n",
       "      <td>23 August 1974</td>\n",
       "      <td>NaN</td>\n",
       "      <td>None</td>\n",
       "      <td>http://en.wikipedia.org/wiki/Konstantin_Novoselov</td>\n",
       "      <td>Konstantin Novoselov</td>\n",
       "      <td>Nizhny Tagil ,  Russian SFSR ,  Soviet Union</td>\n",
       "      <td>NaN</td>\n",
       "      <td>Konstantin Novoselov *, Physics, 2010</td>\n",
       "      <td>2010</td>\n",
       "      <td>1</td>\n",
       "    </tr>\n",
       "    <tr>\n",
       "      <th>989</th>\n",
       "      <td>Canada</td>\n",
       "      <td>Physiology or Medicine</td>\n",
       "      <td>NaN</td>\n",
       "      <td>September 22, 1901</td>\n",
       "      <td>January 12, 1997</td>\n",
       "      <td>None</td>\n",
       "      <td>http://en.wikipedia.org/wiki/Charles_Brenton_H...</td>\n",
       "      <td>Charles B. Huggins</td>\n",
       "      <td>Halifax,  Nova Scotia</td>\n",
       "      <td>Chicago, Illinois</td>\n",
       "      <td>Charles B. Huggins *, Physiology or Medicine, ...</td>\n",
       "      <td>1966</td>\n",
       "      <td>1</td>\n",
       "    </tr>\n",
       "  </tbody>\n",
       "</table>\n",
       "</div>"
      ],
      "text/plain": [
       "     born_in                category         country       date_of_birth  \\\n",
       "1033     NaN                   Peace         Austria                None   \n",
       "3        NaN                   Peace         Belgium                None   \n",
       "1000     NaN                   Peace          Canada                None   \n",
       "947      NaN                   Peace          France                None   \n",
       "650      NaN  Physiology or Medicine          Sweden    October 30, 1900   \n",
       "574      NaN                   Peace  United Kingdom                None   \n",
       "156      NaN                   Peace  United Kingdom                None   \n",
       "696   Russia                 Physics             NaN      23 August 1974   \n",
       "989   Canada  Physiology or Medicine             NaN  September 22, 1901   \n",
       "\n",
       "         date_of_death gender  \\\n",
       "1033              None   None   \n",
       "3                 None   None   \n",
       "1000              None   None   \n",
       "947               None   None   \n",
       "650     March 12, 1991   None   \n",
       "574               None   None   \n",
       "156               None   None   \n",
       "696                NaN   None   \n",
       "989   January 12, 1997   None   \n",
       "\n",
       "                                                   link  \\\n",
       "1033  http://en.wikipedia.org/wiki/International_Ato...   \n",
       "3     http://en.wikipedia.org/wiki/Institut_de_Droit...   \n",
       "1000  http://en.wikipedia.org/wiki/Pugwash_Conferenc...   \n",
       "947   http://en.wikipedia.org/wiki/M%C3%A9decins_San...   \n",
       "650          http://en.wikipedia.org/wiki/Ragnar_Granit   \n",
       "574   http://en.wikipedia.org/wiki/Amnesty_Internati...   \n",
       "156   http://en.wikipedia.org/wiki/Friends_Service_C...   \n",
       "696   http://en.wikipedia.org/wiki/Konstantin_Novoselov   \n",
       "989   http://en.wikipedia.org/wiki/Charles_Brenton_H...   \n",
       "\n",
       "                                                  name  \\\n",
       "1033                International Atomic Energy Agency   \n",
       "3                      Institut de Droit International   \n",
       "1000  Pugwash Conferences on Science and World Affairs   \n",
       "947                           Médecins Sans Frontières   \n",
       "650                                      Ragnar Granit   \n",
       "574                              Amnesty International   \n",
       "156                            Friends Service Council   \n",
       "696                               Konstantin Novoselov   \n",
       "989                                 Charles B. Huggins   \n",
       "\n",
       "                                    place_of_birth      place_of_death  \\\n",
       "1033                                          None                None   \n",
       "3                                             None                None   \n",
       "1000                                          None                None   \n",
       "947                                           None                None   \n",
       "650                             Helsinki , Finland  Stockholm , Sweden   \n",
       "574                                           None                None   \n",
       "156                                           None                None   \n",
       "696   Nizhny Tagil ,  Russian SFSR ,  Soviet Union                 NaN   \n",
       "989                          Halifax,  Nova Scotia   Chicago, Illinois   \n",
       "\n",
       "                                                   text  year  \\\n",
       "1033   International Atomic Energy Agency , Peace, 2005  2005   \n",
       "3         Institut de Droit International , Peace, 1904  1904   \n",
       "1000  Pugwash Conferences on Science and World Affai...  1995   \n",
       "947              Médecins Sans Frontières , Peace, 1999  1999   \n",
       "650   Ragnar Granit ,  born in then Russian Empire, ...  1967   \n",
       "574                 Amnesty International , Peace, 1977  1977   \n",
       "156               Friends Service Council , Peace, 1947  1947   \n",
       "696               Konstantin Novoselov *, Physics, 2010  2010   \n",
       "989   Charles B. Huggins *, Physiology or Medicine, ...  1966   \n",
       "\n",
       "      flag_country_check  \n",
       "1033                   0  \n",
       "3                      0  \n",
       "1000                   0  \n",
       "947                    0  \n",
       "650                    0  \n",
       "574                    0  \n",
       "156                    0  \n",
       "696                    1  \n",
       "989                    1  "
      ]
     },
     "execution_count": 106,
     "metadata": {},
     "output_type": "execute_result"
    }
   ],
   "source": [
    "df_nobel_fil_dedup[df_nobel_fil_dedup['gender'].isnull() | df_nobel_fil_dedup['gender'].isna()]"
   ]
  },
  {
   "cell_type": "code",
   "execution_count": 107,
   "metadata": {},
   "outputs": [
    {
     "data": {
      "text/plain": [
       "(865, 13)"
      ]
     },
     "execution_count": 107,
     "metadata": {},
     "output_type": "execute_result"
    }
   ],
   "source": [
    "df_nobel_fil_dedup.dropna(subset=['gender'], inplace=True)\n",
    "df_nobel_fil_dedup.shape"
   ]
  },
  {
   "cell_type": "markdown",
   "metadata": {},
   "source": [
    "There are 9 gender incomplete entries. 6 out of 9 entries have no gender as they serve non-personal institutes, but 3 out of 9 are gender missing, may be data entry problem."
   ]
  },
  {
   "cell_type": "markdown",
   "metadata": {},
   "source": [
    "### Question7 "
   ]
  },
  {
   "cell_type": "code",
   "execution_count": 108,
   "metadata": {},
   "outputs": [
    {
     "data": {
      "text/html": [
       "<div>\n",
       "<style scoped>\n",
       "    .dataframe tbody tr th:only-of-type {\n",
       "        vertical-align: middle;\n",
       "    }\n",
       "\n",
       "    .dataframe tbody tr th {\n",
       "        vertical-align: top;\n",
       "    }\n",
       "\n",
       "    .dataframe thead th {\n",
       "        text-align: right;\n",
       "    }\n",
       "</style>\n",
       "<table border=\"1\" class=\"dataframe\">\n",
       "  <thead>\n",
       "    <tr style=\"text-align: right;\">\n",
       "      <th></th>\n",
       "      <th>born_in</th>\n",
       "      <th>category</th>\n",
       "      <th>country</th>\n",
       "      <th>date_of_birth</th>\n",
       "      <th>date_of_death</th>\n",
       "      <th>gender</th>\n",
       "      <th>link</th>\n",
       "      <th>name</th>\n",
       "      <th>place_of_birth</th>\n",
       "      <th>place_of_death</th>\n",
       "      <th>text</th>\n",
       "      <th>year</th>\n",
       "      <th>flag_country_check</th>\n",
       "    </tr>\n",
       "  </thead>\n",
       "  <tbody>\n",
       "    <tr>\n",
       "      <th>782</th>\n",
       "      <td>NaN</td>\n",
       "      <td>Physics</td>\n",
       "      <td>Japan</td>\n",
       "      <td>NaN</td>\n",
       "      <td>NaN</td>\n",
       "      <td>male</td>\n",
       "      <td>http://en.wikipedia.org/wiki/Hiroshi_Amano</td>\n",
       "      <td>Hiroshi Amano</td>\n",
       "      <td>NaN</td>\n",
       "      <td>NaN</td>\n",
       "      <td>Hiroshi Amano , Physics, 2014</td>\n",
       "      <td>2014</td>\n",
       "      <td>0</td>\n",
       "    </tr>\n",
       "  </tbody>\n",
       "</table>\n",
       "</div>"
      ],
      "text/plain": [
       "    born_in category country date_of_birth date_of_death gender  \\\n",
       "782     NaN  Physics   Japan           NaN           NaN   male   \n",
       "\n",
       "                                           link           name place_of_birth  \\\n",
       "782  http://en.wikipedia.org/wiki/Hiroshi_Amano  Hiroshi Amano            NaN   \n",
       "\n",
       "    place_of_death                           text  year  flag_country_check  \n",
       "782            NaN  Hiroshi Amano , Physics, 2014  2014                   0  "
      ]
     },
     "execution_count": 108,
     "metadata": {},
     "output_type": "execute_result"
    }
   ],
   "source": [
    "df_nobel_fil_dedup[df_nobel_fil_dedup['date_of_birth'].isnull() | df_nobel_fil_dedup['date_of_birth'].isna()]"
   ]
  },
  {
   "cell_type": "markdown",
   "metadata": {},
   "source": [
    "There is 1 entry with missing date_of_birth. This could also be a problem with data entry."
   ]
  },
  {
   "cell_type": "markdown",
   "metadata": {},
   "source": [
    "# <font color='blue'>Question 2 [3 points] - US Judge Ratings</font>"
   ]
  },
  {
   "cell_type": "markdown",
   "metadata": {},
   "source": [
    "In the file <tt>JudgeRatings.csv</tt>, you can find the information about Lawyers' ratings of state judges in the US Superior Court. The file contains 43 observations on 12 numeric variables.\n",
    "\n",
    "- CONT \tNumber of contacts of lawyer with judge.\n",
    "- INTG \tJudicial integrity.\n",
    "- DMNR \tDemeanor.\n",
    "- DILG \tDiligence.\n",
    "- CFMG \tCase flow managing.\n",
    "- DECI \tPrompt decisions.\n",
    "- PREP \tPreparation for trial.\n",
    "- FAMI \tFamiliarity with law.\n",
    "- ORAL \tSound oral rulings.\n",
    "- WRIT \tSound written rulings.\n",
    "- PHYS \tPhysical ability.\n",
    "- RTEN \tWorthy of retention.\n",
    "\n",
    "\n",
    "1. Apply PCA to the 12 components after standardizing. Determine how many components to use based on (motivate you answers):\n",
    " - Eigenvalue Criterion\n",
    " - Proportion of Variance Explained Criterion (use a minimum of 90% variability)\n",
    "  \n",
    "  \n",
    "2. Display the component matrix, that is, the correlation matrix between the features and the components. Round off the values to 2 decimal places. \n",
    "\n",
    "3. Comment on the above results."
   ]
  },
  {
   "cell_type": "markdown",
   "metadata": {},
   "source": [
    " # Question 1"
   ]
  },
  {
   "cell_type": "code",
   "execution_count": 251,
   "metadata": {},
   "outputs": [
    {
     "data": {
      "text/plain": [
       "(43, 13)"
      ]
     },
     "execution_count": 251,
     "metadata": {},
     "output_type": "execute_result"
    }
   ],
   "source": [
    "df_ratings.shape"
   ]
  },
  {
   "cell_type": "code",
   "execution_count": 252,
   "metadata": {},
   "outputs": [],
   "source": [
    "X=df_ratings.drop('JUDGE',axis=1)"
   ]
  },
  {
   "cell_type": "code",
   "execution_count": 253,
   "metadata": {},
   "outputs": [],
   "source": [
    "from sklearn.decomposition import PCA\n",
    "from scipy.stats import zscore\n",
    "pca1 = PCA()\n",
    "X_z=X.apply(zscore) # standardize features\n",
    "X_pca=pca1.fit_transform(X_z) # fit PCs"
   ]
  },
  {
   "cell_type": "code",
   "execution_count": 254,
   "metadata": {},
   "outputs": [
    {
     "data": {
      "text/plain": [
       "<Figure size 432x288 with 0 Axes>"
      ]
     },
     "execution_count": 254,
     "metadata": {},
     "output_type": "execute_result"
    },
    {
     "data": {
      "text/plain": [
       "[<matplotlib.lines.Line2D at 0x1a28a7f940>]"
      ]
     },
     "execution_count": 254,
     "metadata": {},
     "output_type": "execute_result"
    },
    {
     "data": {
      "text/plain": [
       "Text(0.5, 0, 'Number of Components')"
      ]
     },
     "execution_count": 254,
     "metadata": {},
     "output_type": "execute_result"
    },
    {
     "data": {
      "text/plain": [
       "Text(0, 0.5, 'Variance (%)')"
      ]
     },
     "execution_count": 254,
     "metadata": {},
     "output_type": "execute_result"
    },
    {
     "data": {
      "text/plain": [
       "Text(0.5, 1.0, 'JudgeRatings Dataset Explained Variance')"
      ]
     },
     "execution_count": 254,
     "metadata": {},
     "output_type": "execute_result"
    },
    {
     "data": {
      "image/png": "[encoded data removed]",
      "text/plain": [
       "<Figure size 432x288 with 1 Axes>"
      ]
     },
     "metadata": {
      "needs_background": "light"
     },
     "output_type": "display_data"
    }
   ],
   "source": [
    "plt.figure()\n",
    "plt.plot(range(1,pca1.n_components_+1),np.cumsum(pca1.explained_variance_ratio_),marker='o')\n",
    "plt.xlabel('Number of Components')\n",
    "plt.ylabel('Variance (%)') #for each component\n",
    "plt.title('JudgeRatings Dataset Explained Variance')\n",
    "plt.show()"
   ]
  },
  {
   "cell_type": "markdown",
   "metadata": {},
   "source": [
    "On the basis of the cumulative explained variance, PC_1 and PC_2 explain most of the variance (94% approx.) in the dataset. Thus, considering the first two PCs, an accurate representation of the data would be created."
   ]
  },
  {
   "cell_type": "code",
   "execution_count": 255,
   "metadata": {},
   "outputs": [
    {
     "data": {
      "text/plain": [
       "<Figure size 432x288 with 0 Axes>"
      ]
     },
     "execution_count": 255,
     "metadata": {},
     "output_type": "execute_result"
    },
    {
     "data": {
      "text/plain": [
       "[<matplotlib.lines.Line2D at 0x1a28b4f438>]"
      ]
     },
     "execution_count": 255,
     "metadata": {},
     "output_type": "execute_result"
    },
    {
     "data": {
      "text/plain": [
       "Text(0.5, 0, 'Component')"
      ]
     },
     "execution_count": 255,
     "metadata": {},
     "output_type": "execute_result"
    },
    {
     "data": {
      "text/plain": [
       "Text(0, 0.5, 'Eigenvalue')"
      ]
     },
     "execution_count": 255,
     "metadata": {},
     "output_type": "execute_result"
    },
    {
     "data": {
      "text/plain": [
       "Text(0.5, 1.0, 'JudgeRatings Dataset Eigenvalues')"
      ]
     },
     "execution_count": 255,
     "metadata": {},
     "output_type": "execute_result"
    },
    {
     "data": {
      "image/png": "[encoded data removed]",
      "text/plain": [
       "<Figure size 432x288 with 1 Axes>"
      ]
     },
     "metadata": {
      "needs_background": "light"
     },
     "output_type": "display_data"
    }
   ],
   "source": [
    "plt.figure()\n",
    "plt.plot(range(1,pca1.n_components_+1),pca1.explained_variance_,marker='o')\n",
    "plt.xlabel(\"Component\")\n",
    "plt.ylabel(\"Eigenvalue\")\n",
    "plt.title('JudgeRatings Dataset Eigenvalues')\n",
    "plt.show()"
   ]
  },
  {
   "cell_type": "markdown",
   "metadata": {},
   "source": [
    "On the basis of the eigenvalues, PC_1 and PC_2 have eignevalue greater than 1 and in above scree plot between component and eigenvalue the elbow ben\n",
    "ds after PC_2. Thus, considering the first two PCs, an accurate representation of the data would be created."
   ]
  },
  {
   "cell_type": "markdown",
   "metadata": {},
   "source": [
    "# Question 2"
   ]
  },
  {
   "cell_type": "code",
   "execution_count": 256,
   "metadata": {},
   "outputs": [
    {
     "data": {
      "text/html": [
       "<div>\n",
       "<style scoped>\n",
       "    .dataframe tbody tr th:only-of-type {\n",
       "        vertical-align: middle;\n",
       "    }\n",
       "\n",
       "    .dataframe tbody tr th {\n",
       "        vertical-align: top;\n",
       "    }\n",
       "\n",
       "    .dataframe thead th {\n",
       "        text-align: right;\n",
       "    }\n",
       "</style>\n",
       "<table border=\"1\" class=\"dataframe\">\n",
       "  <thead>\n",
       "    <tr style=\"text-align: right;\">\n",
       "      <th></th>\n",
       "      <th>PC_1</th>\n",
       "      <th>PC_2</th>\n",
       "      <th>PC_3</th>\n",
       "      <th>PC_4</th>\n",
       "      <th>PC_5</th>\n",
       "      <th>PC_6</th>\n",
       "      <th>PC_7</th>\n",
       "      <th>PC_8</th>\n",
       "      <th>PC_9</th>\n",
       "      <th>PC_10</th>\n",
       "      <th>PC_11</th>\n",
       "      <th>PC_12</th>\n",
       "    </tr>\n",
       "  </thead>\n",
       "  <tbody>\n",
       "    <tr>\n",
       "      <th>CONT</th>\n",
       "      <td>0.003075</td>\n",
       "      <td>0.932891</td>\n",
       "      <td>-0.334757</td>\n",
       "      <td>0.058577</td>\n",
       "      <td>-0.093438</td>\n",
       "      <td>-0.004064</td>\n",
       "      <td>0.005215</td>\n",
       "      <td>-0.060066</td>\n",
       "      <td>0.025145</td>\n",
       "      <td>0.030389</td>\n",
       "      <td>0.014533</td>\n",
       "      <td>-0.007941</td>\n",
       "    </tr>\n",
       "    <tr>\n",
       "      <th>INTG</th>\n",
       "      <td>-0.288551</td>\n",
       "      <td>-0.182041</td>\n",
       "      <td>-0.549360</td>\n",
       "      <td>0.173977</td>\n",
       "      <td>0.014544</td>\n",
       "      <td>0.369937</td>\n",
       "      <td>-0.449811</td>\n",
       "      <td>0.334165</td>\n",
       "      <td>0.275378</td>\n",
       "      <td>-0.108976</td>\n",
       "      <td>-0.112554</td>\n",
       "      <td>0.009849</td>\n",
       "    </tr>\n",
       "    <tr>\n",
       "      <th>DMNR</th>\n",
       "      <td>-0.286884</td>\n",
       "      <td>-0.197566</td>\n",
       "      <td>-0.556490</td>\n",
       "      <td>-0.124412</td>\n",
       "      <td>0.228833</td>\n",
       "      <td>-0.394725</td>\n",
       "      <td>0.466748</td>\n",
       "      <td>-0.247097</td>\n",
       "      <td>0.199100</td>\n",
       "      <td>0.072413</td>\n",
       "      <td>0.134323</td>\n",
       "      <td>0.059122</td>\n",
       "    </tr>\n",
       "    <tr>\n",
       "      <th>DILG</th>\n",
       "      <td>-0.304354</td>\n",
       "      <td>0.036305</td>\n",
       "      <td>0.163630</td>\n",
       "      <td>0.321396</td>\n",
       "      <td>0.301937</td>\n",
       "      <td>0.598676</td>\n",
       "      <td>0.209711</td>\n",
       "      <td>-0.354859</td>\n",
       "      <td>-0.039772</td>\n",
       "      <td>0.383392</td>\n",
       "      <td>0.070952</td>\n",
       "      <td>0.053790</td>\n",
       "    </tr>\n",
       "    <tr>\n",
       "      <th>CFMG</th>\n",
       "      <td>-0.302573</td>\n",
       "      <td>0.168394</td>\n",
       "      <td>0.207342</td>\n",
       "      <td>0.012949</td>\n",
       "      <td>0.448431</td>\n",
       "      <td>-0.085729</td>\n",
       "      <td>0.246903</td>\n",
       "      <td>0.713526</td>\n",
       "      <td>-0.143425</td>\n",
       "      <td>-0.098503</td>\n",
       "      <td>0.165868</td>\n",
       "      <td>0.025083</td>\n",
       "    </tr>\n",
       "    <tr>\n",
       "      <th>DECI</th>\n",
       "      <td>-0.301892</td>\n",
       "      <td>0.127877</td>\n",
       "      <td>0.297903</td>\n",
       "      <td>0.030492</td>\n",
       "      <td>0.424003</td>\n",
       "      <td>-0.392609</td>\n",
       "      <td>-0.536430</td>\n",
       "      <td>-0.302423</td>\n",
       "      <td>0.258238</td>\n",
       "      <td>-0.067438</td>\n",
       "      <td>-0.128500</td>\n",
       "      <td>0.044142</td>\n",
       "    </tr>\n",
       "    <tr>\n",
       "      <th>PREP</th>\n",
       "      <td>-0.309406</td>\n",
       "      <td>0.032230</td>\n",
       "      <td>0.151869</td>\n",
       "      <td>0.213656</td>\n",
       "      <td>-0.202853</td>\n",
       "      <td>0.083217</td>\n",
       "      <td>0.335390</td>\n",
       "      <td>-0.153675</td>\n",
       "      <td>0.108769</td>\n",
       "      <td>-0.679863</td>\n",
       "      <td>-0.318761</td>\n",
       "      <td>-0.273287</td>\n",
       "    </tr>\n",
       "    <tr>\n",
       "      <th>FAMI</th>\n",
       "      <td>-0.306680</td>\n",
       "      <td>-0.001315</td>\n",
       "      <td>0.195290</td>\n",
       "      <td>0.200651</td>\n",
       "      <td>-0.507470</td>\n",
       "      <td>-0.101539</td>\n",
       "      <td>-0.036378</td>\n",
       "      <td>0.020389</td>\n",
       "      <td>0.223066</td>\n",
       "      <td>-0.040046</td>\n",
       "      <td>0.573363</td>\n",
       "      <td>0.421740</td>\n",
       "    </tr>\n",
       "    <tr>\n",
       "      <th>ORAL</th>\n",
       "      <td>-0.312708</td>\n",
       "      <td>-0.003626</td>\n",
       "      <td>0.002151</td>\n",
       "      <td>-0.007441</td>\n",
       "      <td>-0.246059</td>\n",
       "      <td>-0.150272</td>\n",
       "      <td>0.057580</td>\n",
       "      <td>0.090630</td>\n",
       "      <td>-0.299517</td>\n",
       "      <td>0.255995</td>\n",
       "      <td>-0.638606</td>\n",
       "      <td>0.494391</td>\n",
       "    </tr>\n",
       "    <tr>\n",
       "      <th>WRIT</th>\n",
       "      <td>-0.311061</td>\n",
       "      <td>-0.031379</td>\n",
       "      <td>0.056046</td>\n",
       "      <td>0.137105</td>\n",
       "      <td>-0.305563</td>\n",
       "      <td>-0.238172</td>\n",
       "      <td>-0.060900</td>\n",
       "      <td>0.126120</td>\n",
       "      <td>-0.024973</td>\n",
       "      <td>0.474783</td>\n",
       "      <td>0.000406</td>\n",
       "      <td>-0.696107</td>\n",
       "    </tr>\n",
       "    <tr>\n",
       "      <th>PHYS</th>\n",
       "      <td>-0.280724</td>\n",
       "      <td>0.089038</td>\n",
       "      <td>0.154000</td>\n",
       "      <td>-0.841266</td>\n",
       "      <td>-0.118425</td>\n",
       "      <td>0.299282</td>\n",
       "      <td>0.024960</td>\n",
       "      <td>-0.000014</td>\n",
       "      <td>0.266273</td>\n",
       "      <td>0.059008</td>\n",
       "      <td>-0.018138</td>\n",
       "      <td>-0.053784</td>\n",
       "    </tr>\n",
       "    <tr>\n",
       "      <th>RTEN</th>\n",
       "      <td>-0.309790</td>\n",
       "      <td>-0.039381</td>\n",
       "      <td>-0.172870</td>\n",
       "      <td>-0.184224</td>\n",
       "      <td>-0.006718</td>\n",
       "      <td>0.036127</td>\n",
       "      <td>-0.256194</td>\n",
       "      <td>-0.221390</td>\n",
       "      <td>-0.756459</td>\n",
       "      <td>-0.249933</td>\n",
       "      <td>0.285514</td>\n",
       "      <td>-0.080268</td>\n",
       "    </tr>\n",
       "  </tbody>\n",
       "</table>\n",
       "</div>"
      ],
      "text/plain": [
       "          PC_1      PC_2      PC_3      PC_4      PC_5      PC_6      PC_7  \\\n",
       "CONT  0.003075  0.932891 -0.334757  0.058577 -0.093438 -0.004064  0.005215   \n",
       "INTG -0.288551 -0.182041 -0.549360  0.173977  0.014544  0.369937 -0.449811   \n",
       "DMNR -0.286884 -0.197566 -0.556490 -0.124412  0.228833 -0.394725  0.466748   \n",
       "DILG -0.304354  0.036305  0.163630  0.321396  0.301937  0.598676  0.209711   \n",
       "CFMG -0.302573  0.168394  0.207342  0.012949  0.448431 -0.085729  0.246903   \n",
       "DECI -0.301892  0.127877  0.297903  0.030492  0.424003 -0.392609 -0.536430   \n",
       "PREP -0.309406  0.032230  0.151869  0.213656 -0.202853  0.083217  0.335390   \n",
       "FAMI -0.306680 -0.001315  0.195290  0.200651 -0.507470 -0.101539 -0.036378   \n",
       "ORAL -0.312708 -0.003626  0.002151 -0.007441 -0.246059 -0.150272  0.057580   \n",
       "WRIT -0.311061 -0.031379  0.056046  0.137105 -0.305563 -0.238172 -0.060900   \n",
       "PHYS -0.280724  0.089038  0.154000 -0.841266 -0.118425  0.299282  0.024960   \n",
       "RTEN -0.309790 -0.039381 -0.172870 -0.184224 -0.006718  0.036127 -0.256194   \n",
       "\n",
       "          PC_8      PC_9     PC_10     PC_11     PC_12  \n",
       "CONT -0.060066  0.025145  0.030389  0.014533 -0.007941  \n",
       "INTG  0.334165  0.275378 -0.108976 -0.112554  0.009849  \n",
       "DMNR -0.247097  0.199100  0.072413  0.134323  0.059122  \n",
       "DILG -0.354859 -0.039772  0.383392  0.070952  0.053790  \n",
       "CFMG  0.713526 -0.143425 -0.098503  0.165868  0.025083  \n",
       "DECI -0.302423  0.258238 -0.067438 -0.128500  0.044142  \n",
       "PREP -0.153675  0.108769 -0.679863 -0.318761 -0.273287  \n",
       "FAMI  0.020389  0.223066 -0.040046  0.573363  0.421740  \n",
       "ORAL  0.090630 -0.299517  0.255995 -0.638606  0.494391  \n",
       "WRIT  0.126120 -0.024973  0.474783  0.000406 -0.696107  \n",
       "PHYS -0.000014  0.266273  0.059008 -0.018138 -0.053784  \n",
       "RTEN -0.221390 -0.756459 -0.249933  0.285514 -0.080268  "
      ]
     },
     "execution_count": 256,
     "metadata": {},
     "output_type": "execute_result"
    }
   ],
   "source": [
    "weight_pca=pd.DataFrame(pca1.components_.T,columns=['PC_{}'.format(i) for i in range(1, pca1.n_components_+1)],\n",
    "                        index=X.columns)\n",
    "weight_pca"
   ]
  },
  {
   "cell_type": "code",
   "execution_count": 257,
   "metadata": {},
   "outputs": [
    {
     "data": {
      "text/html": [
       "<div>\n",
       "<style scoped>\n",
       "    .dataframe tbody tr th:only-of-type {\n",
       "        vertical-align: middle;\n",
       "    }\n",
       "\n",
       "    .dataframe tbody tr th {\n",
       "        vertical-align: top;\n",
       "    }\n",
       "\n",
       "    .dataframe thead th {\n",
       "        text-align: right;\n",
       "    }\n",
       "</style>\n",
       "<table border=\"1\" class=\"dataframe\">\n",
       "  <thead>\n",
       "    <tr style=\"text-align: right;\">\n",
       "      <th></th>\n",
       "      <th>PC_1</th>\n",
       "      <th>PC_2</th>\n",
       "      <th>PC_3</th>\n",
       "      <th>PC_4</th>\n",
       "      <th>PC_5</th>\n",
       "      <th>PC_6</th>\n",
       "      <th>PC_7</th>\n",
       "      <th>PC_8</th>\n",
       "      <th>PC_9</th>\n",
       "      <th>PC_10</th>\n",
       "      <th>PC_11</th>\n",
       "      <th>PC_12</th>\n",
       "    </tr>\n",
       "  </thead>\n",
       "  <tbody>\n",
       "    <tr>\n",
       "      <th>CONT</th>\n",
       "      <td>0.01</td>\n",
       "      <td>0.98</td>\n",
       "      <td>-0.19</td>\n",
       "      <td>0.03</td>\n",
       "      <td>-0.03</td>\n",
       "      <td>-0.00</td>\n",
       "      <td>0.00</td>\n",
       "      <td>-0.01</td>\n",
       "      <td>0.00</td>\n",
       "      <td>0.00</td>\n",
       "      <td>0.00</td>\n",
       "      <td>-0.00</td>\n",
       "    </tr>\n",
       "    <tr>\n",
       "      <th>INTG</th>\n",
       "      <td>-0.92</td>\n",
       "      <td>-0.19</td>\n",
       "      <td>-0.32</td>\n",
       "      <td>0.09</td>\n",
       "      <td>0.00</td>\n",
       "      <td>0.07</td>\n",
       "      <td>-0.06</td>\n",
       "      <td>0.04</td>\n",
       "      <td>0.02</td>\n",
       "      <td>-0.01</td>\n",
       "      <td>-0.01</td>\n",
       "      <td>0.00</td>\n",
       "    </tr>\n",
       "    <tr>\n",
       "      <th>DMNR</th>\n",
       "      <td>-0.91</td>\n",
       "      <td>-0.21</td>\n",
       "      <td>-0.32</td>\n",
       "      <td>-0.06</td>\n",
       "      <td>0.07</td>\n",
       "      <td>-0.08</td>\n",
       "      <td>0.07</td>\n",
       "      <td>-0.03</td>\n",
       "      <td>0.02</td>\n",
       "      <td>0.01</td>\n",
       "      <td>0.01</td>\n",
       "      <td>0.00</td>\n",
       "    </tr>\n",
       "    <tr>\n",
       "      <th>DILG</th>\n",
       "      <td>-0.97</td>\n",
       "      <td>0.04</td>\n",
       "      <td>0.09</td>\n",
       "      <td>0.16</td>\n",
       "      <td>0.09</td>\n",
       "      <td>0.12</td>\n",
       "      <td>0.03</td>\n",
       "      <td>-0.04</td>\n",
       "      <td>-0.00</td>\n",
       "      <td>0.03</td>\n",
       "      <td>0.00</td>\n",
       "      <td>0.00</td>\n",
       "    </tr>\n",
       "    <tr>\n",
       "      <th>CFMG</th>\n",
       "      <td>-0.96</td>\n",
       "      <td>0.18</td>\n",
       "      <td>0.12</td>\n",
       "      <td>0.01</td>\n",
       "      <td>0.13</td>\n",
       "      <td>-0.02</td>\n",
       "      <td>0.03</td>\n",
       "      <td>0.09</td>\n",
       "      <td>-0.01</td>\n",
       "      <td>-0.01</td>\n",
       "      <td>0.01</td>\n",
       "      <td>0.00</td>\n",
       "    </tr>\n",
       "    <tr>\n",
       "      <th>DECI</th>\n",
       "      <td>-0.96</td>\n",
       "      <td>0.13</td>\n",
       "      <td>0.17</td>\n",
       "      <td>0.02</td>\n",
       "      <td>0.12</td>\n",
       "      <td>-0.08</td>\n",
       "      <td>-0.08</td>\n",
       "      <td>-0.04</td>\n",
       "      <td>0.02</td>\n",
       "      <td>-0.01</td>\n",
       "      <td>-0.01</td>\n",
       "      <td>0.00</td>\n",
       "    </tr>\n",
       "    <tr>\n",
       "      <th>PREP</th>\n",
       "      <td>-0.98</td>\n",
       "      <td>0.03</td>\n",
       "      <td>0.09</td>\n",
       "      <td>0.11</td>\n",
       "      <td>-0.06</td>\n",
       "      <td>0.02</td>\n",
       "      <td>0.05</td>\n",
       "      <td>-0.02</td>\n",
       "      <td>0.01</td>\n",
       "      <td>-0.05</td>\n",
       "      <td>-0.02</td>\n",
       "      <td>-0.01</td>\n",
       "    </tr>\n",
       "    <tr>\n",
       "      <th>FAMI</th>\n",
       "      <td>-0.98</td>\n",
       "      <td>-0.00</td>\n",
       "      <td>0.11</td>\n",
       "      <td>0.10</td>\n",
       "      <td>-0.15</td>\n",
       "      <td>-0.02</td>\n",
       "      <td>-0.01</td>\n",
       "      <td>0.00</td>\n",
       "      <td>0.02</td>\n",
       "      <td>-0.00</td>\n",
       "      <td>0.03</td>\n",
       "      <td>0.02</td>\n",
       "    </tr>\n",
       "    <tr>\n",
       "      <th>ORAL</th>\n",
       "      <td>-1.00</td>\n",
       "      <td>-0.00</td>\n",
       "      <td>0.00</td>\n",
       "      <td>-0.00</td>\n",
       "      <td>-0.07</td>\n",
       "      <td>-0.03</td>\n",
       "      <td>0.01</td>\n",
       "      <td>0.01</td>\n",
       "      <td>-0.03</td>\n",
       "      <td>0.02</td>\n",
       "      <td>-0.04</td>\n",
       "      <td>0.02</td>\n",
       "    </tr>\n",
       "    <tr>\n",
       "      <th>WRIT</th>\n",
       "      <td>-0.99</td>\n",
       "      <td>-0.03</td>\n",
       "      <td>0.03</td>\n",
       "      <td>0.07</td>\n",
       "      <td>-0.09</td>\n",
       "      <td>-0.05</td>\n",
       "      <td>-0.01</td>\n",
       "      <td>0.02</td>\n",
       "      <td>-0.00</td>\n",
       "      <td>0.04</td>\n",
       "      <td>0.00</td>\n",
       "      <td>-0.03</td>\n",
       "    </tr>\n",
       "    <tr>\n",
       "      <th>PHYS</th>\n",
       "      <td>-0.89</td>\n",
       "      <td>0.09</td>\n",
       "      <td>0.09</td>\n",
       "      <td>-0.42</td>\n",
       "      <td>-0.03</td>\n",
       "      <td>0.06</td>\n",
       "      <td>0.00</td>\n",
       "      <td>-0.00</td>\n",
       "      <td>0.02</td>\n",
       "      <td>0.00</td>\n",
       "      <td>-0.00</td>\n",
       "      <td>-0.00</td>\n",
       "    </tr>\n",
       "    <tr>\n",
       "      <th>RTEN</th>\n",
       "      <td>-0.99</td>\n",
       "      <td>-0.04</td>\n",
       "      <td>-0.10</td>\n",
       "      <td>-0.09</td>\n",
       "      <td>-0.00</td>\n",
       "      <td>0.01</td>\n",
       "      <td>-0.04</td>\n",
       "      <td>-0.03</td>\n",
       "      <td>-0.07</td>\n",
       "      <td>-0.02</td>\n",
       "      <td>0.02</td>\n",
       "      <td>-0.00</td>\n",
       "    </tr>\n",
       "  </tbody>\n",
       "</table>\n",
       "</div>"
      ],
      "text/plain": [
       "      PC_1  PC_2  PC_3  PC_4  PC_5  PC_6  PC_7  PC_8  PC_9  PC_10  PC_11  \\\n",
       "CONT  0.01  0.98 -0.19  0.03 -0.03 -0.00  0.00 -0.01  0.00   0.00   0.00   \n",
       "INTG -0.92 -0.19 -0.32  0.09  0.00  0.07 -0.06  0.04  0.02  -0.01  -0.01   \n",
       "DMNR -0.91 -0.21 -0.32 -0.06  0.07 -0.08  0.07 -0.03  0.02   0.01   0.01   \n",
       "DILG -0.97  0.04  0.09  0.16  0.09  0.12  0.03 -0.04 -0.00   0.03   0.00   \n",
       "CFMG -0.96  0.18  0.12  0.01  0.13 -0.02  0.03  0.09 -0.01  -0.01   0.01   \n",
       "DECI -0.96  0.13  0.17  0.02  0.12 -0.08 -0.08 -0.04  0.02  -0.01  -0.01   \n",
       "PREP -0.98  0.03  0.09  0.11 -0.06  0.02  0.05 -0.02  0.01  -0.05  -0.02   \n",
       "FAMI -0.98 -0.00  0.11  0.10 -0.15 -0.02 -0.01  0.00  0.02  -0.00   0.03   \n",
       "ORAL -1.00 -0.00  0.00 -0.00 -0.07 -0.03  0.01  0.01 -0.03   0.02  -0.04   \n",
       "WRIT -0.99 -0.03  0.03  0.07 -0.09 -0.05 -0.01  0.02 -0.00   0.04   0.00   \n",
       "PHYS -0.89  0.09  0.09 -0.42 -0.03  0.06  0.00 -0.00  0.02   0.00  -0.00   \n",
       "RTEN -0.99 -0.04 -0.10 -0.09 -0.00  0.01 -0.04 -0.03 -0.07  -0.02   0.02   \n",
       "\n",
       "      PC_12  \n",
       "CONT  -0.00  \n",
       "INTG   0.00  \n",
       "DMNR   0.00  \n",
       "DILG   0.00  \n",
       "CFMG   0.00  \n",
       "DECI   0.00  \n",
       "PREP  -0.01  \n",
       "FAMI   0.02  \n",
       "ORAL   0.02  \n",
       "WRIT  -0.03  \n",
       "PHYS  -0.00  \n",
       "RTEN  -0.00  "
      ]
     },
     "execution_count": 257,
     "metadata": {},
     "output_type": "execute_result"
    }
   ],
   "source": [
    "X_pca=pd.DataFrame(X_pca,columns=['PC_{}'.format(i) for i in range(1, pca1.n_components_+1)])\n",
    "# covariance matrix and rounded for presentation convenience\n",
    "ComMatrix=X_z.join(X_pca).corr().filter(X_pca.columns).drop(X_pca.columns).round(2)\n",
    "ComMatrix"
   ]
  },
  {
   "cell_type": "code",
   "execution_count": 260,
   "metadata": {},
   "outputs": [],
   "source": [
    "xvector = pca1.components_[0]\n",
    "yvector = pca1.components_[1]"
   ]
  },
  {
   "cell_type": "code",
   "execution_count": 261,
   "metadata": {},
   "outputs": [
    {
     "data": {
      "text/plain": [
       "array([ 0.00307514, -0.28855078, -0.28688421, -0.30435409, -0.30257273,\n",
       "       -0.30189197, -0.30940645, -0.30667953, -0.31270835, -0.31106123,\n",
       "       -0.28072362, -0.30979022])"
      ]
     },
     "execution_count": 261,
     "metadata": {},
     "output_type": "execute_result"
    }
   ],
   "source": [
    "xvector"
   ]
  },
  {
   "cell_type": "code",
   "execution_count": 262,
   "metadata": {},
   "outputs": [
    {
     "data": {
      "text/plain": [
       "array([ 0.93289064, -0.18204099, -0.19756574,  0.03630467,  0.16839352,\n",
       "        0.1278773 ,  0.03223025, -0.00131518, -0.00362572, -0.03137876,\n",
       "        0.0890377 , -0.03938131])"
      ]
     },
     "execution_count": 262,
     "metadata": {},
     "output_type": "execute_result"
    }
   ],
   "source": [
    "yvector"
   ]
  },
  {
   "cell_type": "code",
   "execution_count": 263,
   "metadata": {},
   "outputs": [],
   "source": [
    "xs = pca1.transform(X_z)[:,0]\n",
    "ys = pca1.transform(X_z)[:,1]"
   ]
  },
  {
   "cell_type": "code",
   "execution_count": 264,
   "metadata": {},
   "outputs": [
    {
     "data": {
      "text/plain": [
       "array([ 0.59268305, -2.40817832, -0.22780349, -3.66071616,  6.95244952,\n",
       "       -2.47442074, -3.93743704,  8.09307094, -3.70295623, -1.06028925,\n",
       "        0.34108279,  1.45772527,  0.67688211,  3.26409534, -1.36896588,\n",
       "        0.45009339,  2.93209773,  0.72643742, -0.64887947,  4.4075758 ,\n",
       "        1.84009523,  3.15606059,  6.42980257,  0.08315548, -3.39121775,\n",
       "       -4.60271493, -1.51784742, -3.51102566, -1.91559427, -4.83537434,\n",
       "       -1.1121334 , -0.54875827, -2.61362018, -3.63917622,  6.94389214,\n",
       "       -2.04961153, -1.2208113 , -0.72842414,  2.13120556, -1.36785124,\n",
       "        2.61916318, -1.48026785,  0.92650698])"
      ]
     },
     "execution_count": 264,
     "metadata": {},
     "output_type": "execute_result"
    }
   ],
   "source": [
    "xs"
   ]
  },
  {
   "cell_type": "code",
   "execution_count": 265,
   "metadata": {},
   "outputs": [
    {
     "data": {
      "text/plain": [
       "array([-1.83455704e+00, -8.78164524e-01, -3.02316250e-01, -5.96342199e-01,\n",
       "        1.37356050e-01, -1.42242289e+00,  3.14771114e+00, -2.71058974e-01,\n",
       "       -1.46659161e-01,  1.14904617e+00, -4.70502584e-01, -1.23279475e+00,\n",
       "       -1.29785581e+00, -5.66023927e-01, -8.48756359e-01, -1.82461748e-01,\n",
       "        3.83887639e-01,  4.63364335e-01,  9.04423859e-01,  2.44455833e+00,\n",
       "       -8.01922043e-01,  1.18968056e-01, -1.45277036e+00, -1.48330799e+00,\n",
       "        1.32351096e-01,  4.79764153e-01, -4.27971456e-01,  1.18298732e-03,\n",
       "        2.46170053e-01, -4.48069023e-01, -3.44165889e-01,  1.02250951e+00,\n",
       "       -3.99509080e-01, -1.62216363e-01,  3.30376531e-01,  1.19321335e+00,\n",
       "       -5.31924504e-01, -9.14724377e-01,  9.49624029e-01,  1.10043888e+00,\n",
       "        1.92689569e+00, -5.56116054e-01,  1.44077150e+00])"
      ]
     },
     "execution_count": 265,
     "metadata": {},
     "output_type": "execute_result"
    }
   ],
   "source": [
    "ys"
   ]
  },
  {
   "cell_type": "code",
   "execution_count": 266,
   "metadata": {},
   "outputs": [
    {
     "data": {
      "text/plain": [
       "<matplotlib.patches.FancyArrow at 0x1a28bf05c0>"
      ]
     },
     "execution_count": 266,
     "metadata": {},
     "output_type": "execute_result"
    },
    {
     "data": {
      "text/plain": [
       "Text(0.029864823621491805, 3.5237643317373375, 'CONT')"
      ]
     },
     "execution_count": 266,
     "metadata": {},
     "output_type": "execute_result"
    },
    {
     "data": {
      "text/plain": [
       "<matplotlib.patches.FancyArrow at 0x1a289ea160>"
      ]
     },
     "execution_count": 266,
     "metadata": {},
     "output_type": "execute_result"
    },
    {
     "data": {
      "text/plain": [
       "Text(-2.802314273390692, -0.6876149550451978, 'INTG')"
      ]
     },
     "execution_count": 266,
     "metadata": {},
     "output_type": "execute_result"
    },
    {
     "data": {
      "text/plain": [
       "<matplotlib.patches.FancyArrow at 0x1a28bf0eb8>"
      ]
     },
     "execution_count": 266,
     "metadata": {},
     "output_type": "execute_result"
    },
    {
     "data": {
      "text/plain": [
       "Text(-2.7861290798860274, -0.7462558685138863, 'DMNR')"
      ]
     },
     "execution_count": 266,
     "metadata": {},
     "output_type": "execute_result"
    },
    {
     "data": {
      "text/plain": [
       "<matplotlib.patches.FancyArrow at 0x1a28bff160>"
      ]
     },
     "execution_count": 266,
     "metadata": {},
     "output_type": "execute_result"
    },
    {
     "data": {
      "text/plain": [
       "Text(-2.9557911017619145, 0.1371319257432539, 'DILG')"
      ]
     },
     "execution_count": 266,
     "metadata": {},
     "output_type": "execute_result"
    },
    {
     "data": {
      "text/plain": [
       "<matplotlib.patches.FancyArrow at 0x1a28bff898>"
      ]
     },
     "execution_count": 266,
     "metadata": {},
     "output_type": "execute_result"
    },
    {
     "data": {
      "text/plain": [
       "Text(-2.938491112628947, 0.6360650028694159, 'CFMG')"
      ]
     },
     "execution_count": 266,
     "metadata": {},
     "output_type": "execute_result"
    },
    {
     "data": {
      "text/plain": [
       "<matplotlib.patches.FancyArrow at 0x1a28bffc88>"
      ]
     },
     "execution_count": 266,
     "metadata": {},
     "output_type": "execute_result"
    },
    {
     "data": {
      "text/plain": [
       "Text(-2.931879742565723, 0.48302495860675426, 'DECI')"
      ]
     },
     "execution_count": 266,
     "metadata": {},
     "output_type": "execute_result"
    },
    {
     "data": {
      "text/plain": [
       "<matplotlib.patches.FancyArrow at 0x1a28c08160>"
      ]
     },
     "execution_count": 266,
     "metadata": {},
     "output_type": "execute_result"
    },
    {
     "data": {
      "text/plain": [
       "Text(-3.004857985291214, 0.12174181311257892, 'PREP')"
      ]
     },
     "execution_count": 266,
     "metadata": {},
     "output_type": "execute_result"
    },
    {
     "data": {
      "text/plain": [
       "<matplotlib.patches.FancyArrow at 0x1a28c085f8>"
      ]
     },
     "execution_count": 266,
     "metadata": {},
     "output_type": "execute_result"
    },
    {
     "data": {
      "text/plain": [
       "Text(-2.9783749979976353, -0.004967779030567809, 'FAMI')"
      ]
     },
     "execution_count": 266,
     "metadata": {},
     "output_type": "execute_result"
    },
    {
     "data": {
      "text/plain": [
       "<matplotlib.patches.FancyArrow at 0x1a28c08a90>"
      ]
     },
     "execution_count": 266,
     "metadata": {},
     "output_type": "execute_result"
    },
    {
     "data": {
      "text/plain": [
       "Text(-3.0369250111853274, -0.01369526320802642, 'ORAL')"
      ]
     },
     "execution_count": 266,
     "metadata": {},
     "output_type": "execute_result"
    },
    {
     "data": {
      "text/plain": [
       "<matplotlib.patches.FancyArrow at 0x1a28c08f28>"
      ]
     },
     "execution_count": 266,
     "metadata": {},
     "output_type": "execute_result"
    },
    {
     "data": {
      "text/plain": [
       "Text(-3.0209287333589, -0.11852551140064438, 'WRIT')"
      ]
     },
     "execution_count": 266,
     "metadata": {},
     "output_type": "execute_result"
    },
    {
     "data": {
      "text/plain": [
       "<matplotlib.patches.FancyArrow at 0x1a28c12400>"
      ]
     },
     "execution_count": 266,
     "metadata": {},
     "output_type": "execute_result"
    },
    {
     "data": {
      "text/plain": [
       "Text(-2.726299448721297, 0.33631794688054634, 'PHYS')"
      ]
     },
     "execution_count": 266,
     "metadata": {},
     "output_type": "execute_result"
    },
    {
     "data": {
      "text/plain": [
       "<matplotlib.patches.FancyArrow at 0x1a28c12898>"
      ]
     },
     "execution_count": 266,
     "metadata": {},
     "output_type": "execute_result"
    },
    {
     "data": {
      "text/plain": [
       "Text(-3.0085850512355394, -0.14875317169252197, 'RTEN')"
      ]
     },
     "execution_count": 266,
     "metadata": {},
     "output_type": "execute_result"
    },
    {
     "data": {
      "text/plain": [
       "[<matplotlib.lines.Line2D at 0x1a289e9fd0>]"
      ]
     },
     "execution_count": 266,
     "metadata": {},
     "output_type": "execute_result"
    },
    {
     "data": {
      "text/plain": [
       "Text(0.7112196597293469, -2.2014684494092935, '0')"
      ]
     },
     "execution_count": 266,
     "metadata": {},
     "output_type": "execute_result"
    },
    {
     "data": {
      "text/plain": [
       "[<matplotlib.lines.Line2D at 0x1a28c12d30>]"
      ]
     },
     "execution_count": 266,
     "metadata": {},
     "output_type": "execute_result"
    },
    {
     "data": {
      "text/plain": [
       "Text(-2.8898139893862655, -1.053797428939235, '1')"
      ]
     },
     "execution_count": 266,
     "metadata": {},
     "output_type": "execute_result"
    },
    {
     "data": {
      "text/plain": [
       "[<matplotlib.lines.Line2D at 0x1a28c11828>]"
      ]
     },
     "execution_count": 266,
     "metadata": {},
     "output_type": "execute_result"
    },
    {
     "data": {
      "text/plain": [
       "Text(-0.27336419054532896, -0.36277950037867657, '2')"
      ]
     },
     "execution_count": 266,
     "metadata": {},
     "output_type": "execute_result"
    },
    {
     "data": {
      "text/plain": [
       "[<matplotlib.lines.Line2D at 0x1a28c11d68>]"
      ]
     },
     "execution_count": 266,
     "metadata": {},
     "output_type": "execute_result"
    },
    {
     "data": {
      "text/plain": [
       "Text(-4.392859391188457, -0.7156106382494037, '3')"
      ]
     },
     "execution_count": 266,
     "metadata": {},
     "output_type": "execute_result"
    },
    {
     "data": {
      "text/plain": [
       "[<matplotlib.lines.Line2D at 0x1a28c11ba8>]"
      ]
     },
     "execution_count": 266,
     "metadata": {},
     "output_type": "execute_result"
    },
    {
     "data": {
      "text/plain": [
       "Text(8.342939425312819, 0.16482725978851734, '4')"
      ]
     },
     "execution_count": 266,
     "metadata": {},
     "output_type": "execute_result"
    },
    {
     "data": {
      "text/plain": [
       "[<matplotlib.lines.Line2D at 0x1a28c1f828>]"
      ]
     },
     "execution_count": 266,
     "metadata": {},
     "output_type": "execute_result"
    },
    {
     "data": {
      "text/plain": [
       "Text(-2.969304886465158, -1.7069074629244063, '5')"
      ]
     },
     "execution_count": 266,
     "metadata": {},
     "output_type": "execute_result"
    },
    {
     "data": {
      "text/plain": [
       "[<matplotlib.lines.Line2D at 0x1a28c1f400>]"
      ]
     },
     "execution_count": 266,
     "metadata": {},
     "output_type": "execute_result"
    },
    {
     "data": {
      "text/plain": [
       "Text(-4.724924444822004, 3.77725337372885, '6')"
      ]
     },
     "execution_count": 266,
     "metadata": {},
     "output_type": "execute_result"
    },
    {
     "data": {
      "text/plain": [
       "[<matplotlib.lines.Line2D at 0x1a28cd9320>]"
      ]
     },
     "execution_count": 266,
     "metadata": {},
     "output_type": "execute_result"
    },
    {
     "data": {
      "text/plain": [
       "Text(9.711685131640408, -0.32527076825370277, '7')"
      ]
     },
     "execution_count": 266,
     "metadata": {},
     "output_type": "execute_result"
    },
    {
     "data": {
      "text/plain": [
       "[<matplotlib.lines.Line2D at 0x1a28cd9828>]"
      ]
     },
     "execution_count": 266,
     "metadata": {},
     "output_type": "execute_result"
    },
    {
     "data": {
      "text/plain": [
       "Text(-4.443547470573579, -0.1759909930863545, '8')"
      ]
     },
     "execution_count": 266,
     "metadata": {},
     "output_type": "execute_result"
    },
    {
     "data": {
      "text/plain": [
       "[<matplotlib.lines.Line2D at 0x1a28cd9d68>]"
      ]
     },
     "execution_count": 266,
     "metadata": {},
     "output_type": "execute_result"
    },
    {
     "data": {
      "text/plain": [
       "Text(-1.2723470980188867, 1.3788554037951042, '9')"
      ]
     },
     "execution_count": 266,
     "metadata": {},
     "output_type": "execute_result"
    },
    {
     "data": {
      "text/plain": [
       "[<matplotlib.lines.Line2D at 0x1a28cea2e8>]"
      ]
     },
     "execution_count": 266,
     "metadata": {},
     "output_type": "execute_result"
    },
    {
     "data": {
      "text/plain": [
       "Text(0.4092993454556523, -0.5646031010869353, '10')"
      ]
     },
     "execution_count": 266,
     "metadata": {},
     "output_type": "execute_result"
    },
    {
     "data": {
      "text/plain": [
       "[<matplotlib.lines.Line2D at 0x1a28cea860>]"
      ]
     },
     "execution_count": 266,
     "metadata": {},
     "output_type": "execute_result"
    },
    {
     "data": {
      "text/plain": [
       "Text(1.7492703191237111, -1.4793537058674215, '11')"
      ]
     },
     "execution_count": 266,
     "metadata": {},
     "output_type": "execute_result"
    },
    {
     "data": {
      "text/plain": [
       "[<matplotlib.lines.Line2D at 0x1a28ceadd8>]"
      ]
     },
     "execution_count": 266,
     "metadata": {},
     "output_type": "execute_result"
    },
    {
     "data": {
      "text/plain": [
       "Text(0.8122585358275295, -1.557426969620419, '12')"
      ]
     },
     "execution_count": 266,
     "metadata": {},
     "output_type": "execute_result"
    },
    {
     "data": {
      "text/plain": [
       "[<matplotlib.lines.Line2D at 0x1a28ce7390>]"
      ]
     },
     "execution_count": 266,
     "metadata": {},
     "output_type": "execute_result"
    },
    {
     "data": {
      "text/plain": [
       "Text(3.9169144139273246, -0.6792287123290996, '13')"
      ]
     },
     "execution_count": 266,
     "metadata": {},
     "output_type": "execute_result"
    },
    {
     "data": {
      "text/plain": [
       "[<matplotlib.lines.Line2D at 0x1a28ce7908>]"
      ]
     },
     "execution_count": 266,
     "metadata": {},
     "output_type": "execute_result"
    },
    {
     "data": {
      "text/plain": [
       "Text(-1.6427590578827218, -1.0185076302643228, '14')"
      ]
     },
     "execution_count": 266,
     "metadata": {},
     "output_type": "execute_result"
    },
    {
     "data": {
      "text/plain": [
       "[<matplotlib.lines.Line2D at 0x1a28ce7e80>]"
      ]
     },
     "execution_count": 266,
     "metadata": {},
     "output_type": "execute_result"
    },
    {
     "data": {
      "text/plain": [
       "Text(0.5401120708784202, -0.2189540979615043, '15')"
      ]
     },
     "execution_count": 266,
     "metadata": {},
     "output_type": "execute_result"
    },
    {
     "data": {
      "text/plain": [
       "[<matplotlib.lines.Line2D at 0x1a28cff438>]"
      ]
     },
     "execution_count": 266,
     "metadata": {},
     "output_type": "execute_result"
    },
    {
     "data": {
      "text/plain": [
       "Text(3.5185172761067185, 0.46066516647329614, '16')"
      ]
     },
     "execution_count": 266,
     "metadata": {},
     "output_type": "execute_result"
    },
    {
     "data": {
      "text/plain": [
       "[<matplotlib.lines.Line2D at 0x1a28cff9b0>]"
      ]
     },
     "execution_count": 266,
     "metadata": {},
     "output_type": "execute_result"
    },
    {
     "data": {
      "text/plain": [
       "Text(0.871724899510732, 0.5560372023657612, '17')"
      ]
     },
     "execution_count": 266,
     "metadata": {},
     "output_type": "execute_result"
    },
    {
     "data": {
      "text/plain": [
       "[<matplotlib.lines.Line2D at 0x1a28cfff28>]"
      ]
     },
     "execution_count": 266,
     "metadata": {},
     "output_type": "execute_result"
    },
    {
     "data": {
      "text/plain": [
       "Text(-0.7786553588801801, 1.0853086303095292, '18')"
      ]
     },
     "execution_count": 266,
     "metadata": {},
     "output_type": "execute_result"
    },
    {
     "data": {
      "text/plain": [
       "[<matplotlib.lines.Line2D at 0x1a28cfe4e0>]"
      ]
     },
     "execution_count": 266,
     "metadata": {},
     "output_type": "execute_result"
    },
    {
     "data": {
      "text/plain": [
       "Text(5.289090960405441, 2.9334699942577247, '19')"
      ]
     },
     "execution_count": 266,
     "metadata": {},
     "output_type": "execute_result"
    },
    {
     "data": {
      "text/plain": [
       "[<matplotlib.lines.Line2D at 0x1a28cfea58>]"
      ]
     },
     "execution_count": 266,
     "metadata": {},
     "output_type": "execute_result"
    },
    {
     "data": {
      "text/plain": [
       "Text(2.2081142753631804, -0.9623064521589854, '20')"
      ]
     },
     "execution_count": 266,
     "metadata": {},
     "output_type": "execute_result"
    },
    {
     "data": {
      "text/plain": [
       "[<matplotlib.lines.Line2D at 0x1a28cfefd0>]"
      ]
     },
     "execution_count": 266,
     "metadata": {},
     "output_type": "execute_result"
    },
    {
     "data": {
      "text/plain": [
       "Text(3.7872727045529535, 0.14276166687534037, '21')"
      ]
     },
     "execution_count": 266,
     "metadata": {},
     "output_type": "execute_result"
    },
    {
     "data": {
      "text/plain": [
       "[<matplotlib.lines.Line2D at 0x1a28d0c588>]"
      ]
     },
     "execution_count": 266,
     "metadata": {},
     "output_type": "execute_result"
    },
    {
     "data": {
      "text/plain": [
       "Text(7.715763079551492, -1.7433244350556076, '22')"
      ]
     },
     "execution_count": 266,
     "metadata": {},
     "output_type": "execute_result"
    },
    {
     "data": {
      "text/plain": [
       "[<matplotlib.lines.Line2D at 0x1a28d0cb00>]"
      ]
     },
     "execution_count": 266,
     "metadata": {},
     "output_type": "execute_result"
    },
    {
     "data": {
      "text/plain": [
       "Text(0.09978657913103203, -1.7799695878869743, '23')"
      ]
     },
     "execution_count": 266,
     "metadata": {},
     "output_type": "execute_result"
    },
    {
     "data": {
      "text/plain": [
       "[<matplotlib.lines.Line2D at 0x1a28d170b8>]"
      ]
     },
     "execution_count": 266,
     "metadata": {},
     "output_type": "execute_result"
    },
    {
     "data": {
      "text/plain": [
       "Text(-4.069461300137161, 0.15882131575392497, '24')"
      ]
     },
     "execution_count": 266,
     "metadata": {},
     "output_type": "execute_result"
    },
    {
     "data": {
      "text/plain": [
       "[<matplotlib.lines.Line2D at 0x1a28d17630>]"
      ]
     },
     "execution_count": 266,
     "metadata": {},
     "output_type": "execute_result"
    },
    {
     "data": {
      "text/plain": [
       "Text(-5.523257920845012, 0.5757169838732346, '25')"
      ]
     },
     "execution_count": 266,
     "metadata": {},
     "output_type": "execute_result"
    },
    {
     "data": {
      "text/plain": [
       "[<matplotlib.lines.Line2D at 0x1a28d17ba8>]"
      ]
     },
     "execution_count": 266,
     "metadata": {},
     "output_type": "execute_result"
    },
    {
     "data": {
      "text/plain": [
       "Text(-1.8214168986849055, -0.5135657467188645, '26')"
      ]
     },
     "execution_count": 266,
     "metadata": {},
     "output_type": "execute_result"
    },
    {
     "data": {
      "text/plain": [
       "[<matplotlib.lines.Line2D at 0x1a28d1f160>]"
      ]
     },
     "execution_count": 266,
     "metadata": {},
     "output_type": "execute_result"
    },
    {
     "data": {
      "text/plain": [
       "Text(-4.213230795696744, 0.0014195847781385829, '27')"
      ]
     },
     "execution_count": 266,
     "metadata": {},
     "output_type": "execute_result"
    },
    {
     "data": {
      "text/plain": [
       "[<matplotlib.lines.Line2D at 0x1a28d1f6d8>]"
      ]
     },
     "execution_count": 266,
     "metadata": {},
     "output_type": "execute_result"
    },
    {
     "data": {
      "text/plain": [
       "Text(-2.2987131256531836, 0.29540406372261746, '28')"
      ]
     },
     "execution_count": 266,
     "metadata": {},
     "output_type": "execute_result"
    },
    {
     "data": {
      "text/plain": [
       "[<matplotlib.lines.Line2D at 0x1a28d1fc50>]"
      ]
     },
     "execution_count": 266,
     "metadata": {},
     "output_type": "execute_result"
    },
    {
     "data": {
      "text/plain": [
       "Text(-5.80244920607923, -0.5376828274579096, '29')"
      ]
     },
     "execution_count": 266,
     "metadata": {},
     "output_type": "execute_result"
    },
    {
     "data": {
      "text/plain": [
       "[<matplotlib.lines.Line2D at 0x1a28d2b208>]"
      ]
     },
     "execution_count": 266,
     "metadata": {},
     "output_type": "execute_result"
    },
    {
     "data": {
      "text/plain": [
       "Text(-1.3345600849186436, -0.41299906670407055, '30')"
      ]
     },
     "execution_count": 266,
     "metadata": {},
     "output_type": "execute_result"
    },
    {
     "data": {
      "text/plain": [
       "[<matplotlib.lines.Line2D at 0x1a28d2b780>]"
      ]
     },
     "execution_count": 266,
     "metadata": {},
     "output_type": "execute_result"
    },
    {
     "data": {
      "text/plain": [
       "Text(-0.6585099282756507, 1.2270114104817094, '31')"
      ]
     },
     "execution_count": 266,
     "metadata": {},
     "output_type": "execute_result"
    },
    {
     "data": {
      "text/plain": [
       "[<matplotlib.lines.Line2D at 0x1a28d2bcf8>]"
      ]
     },
     "execution_count": 266,
     "metadata": {},
     "output_type": "execute_result"
    },
    {
     "data": {
      "text/plain": [
       "Text(-3.136344215618591, -0.4794108963260003, '32')"
      ]
     },
     "execution_count": 266,
     "metadata": {},
     "output_type": "execute_result"
    },
    {
     "data": {
      "text/plain": [
       "[<matplotlib.lines.Line2D at 0x1a28d312b0>]"
      ]
     },
     "execution_count": 266,
     "metadata": {},
     "output_type": "execute_result"
    },
    {
     "data": {
      "text/plain": [
       "Text(-4.367011462157904, -0.19465963577300094, '33')"
      ]
     },
     "execution_count": 266,
     "metadata": {},
     "output_type": "execute_result"
    },
    {
     "data": {
      "text/plain": [
       "[<matplotlib.lines.Line2D at 0x1a28d31828>]"
      ]
     },
     "execution_count": 266,
     "metadata": {},
     "output_type": "execute_result"
    },
    {
     "data": {
      "text/plain": [
       "Text(8.332670566923703, 0.3964518372683334, '34')"
      ]
     },
     "execution_count": 266,
     "metadata": {},
     "output_type": "execute_result"
    },
    {
     "data": {
      "text/plain": [
       "[<matplotlib.lines.Line2D at 0x1a28d31da0>]"
      ]
     },
     "execution_count": 266,
     "metadata": {},
     "output_type": "execute_result"
    },
    {
     "data": {
      "text/plain": [
       "Text(-2.4595338418537445, 1.4318560210967208, '35')"
      ]
     },
     "execution_count": 266,
     "metadata": {},
     "output_type": "execute_result"
    },
    {
     "data": {
      "text/plain": [
       "[<matplotlib.lines.Line2D at 0x1a28cd90b8>]"
      ]
     },
     "execution_count": 266,
     "metadata": {},
     "output_type": "execute_result"
    },
    {
     "data": {
      "text/plain": [
       "Text(-1.464973563085506, -0.6383094043600825, '36')"
      ]
     },
     "execution_count": 266,
     "metadata": {},
     "output_type": "execute_result"
    },
    {
     "data": {
      "text/plain": [
       "[<matplotlib.lines.Line2D at 0x1a28d468d0>]"
      ]
     },
     "execution_count": 266,
     "metadata": {},
     "output_type": "execute_result"
    },
    {
     "data": {
      "text/plain": [
       "Text(-0.8741089667805594, -1.0976692524440024, '37')"
      ]
     },
     "execution_count": 266,
     "metadata": {},
     "output_type": "execute_result"
    },
    {
     "data": {
      "text/plain": [
       "[<matplotlib.lines.Line2D at 0x1a28d46e48>]"
      ]
     },
     "execution_count": 266,
     "metadata": {},
     "output_type": "execute_result"
    },
    {
     "data": {
      "text/plain": [
       "Text(2.5574466666057853, 1.139548834356876, '38')"
      ]
     },
     "execution_count": 266,
     "metadata": {},
     "output_type": "execute_result"
    },
    {
     "data": {
      "text/plain": [
       "[<matplotlib.lines.Line2D at 0x1a28d47400>]"
      ]
     },
     "execution_count": 266,
     "metadata": {},
     "output_type": "execute_result"
    },
    {
     "data": {
      "text/plain": [
       "Text(-1.6414214910579352, 1.3205266539139437, '39')"
      ]
     },
     "execution_count": 266,
     "metadata": {},
     "output_type": "execute_result"
    },
    {
     "data": {
      "text/plain": [
       "[<matplotlib.lines.Line2D at 0x1a28d479b0>]"
      ]
     },
     "execution_count": 266,
     "metadata": {},
     "output_type": "execute_result"
    },
    {
     "data": {
      "text/plain": [
       "Text(3.1429958164494036, 2.3122748260849275, '40')"
      ]
     },
     "execution_count": 266,
     "metadata": {},
     "output_type": "execute_result"
    },
    {
     "data": {
      "text/plain": [
       "[<matplotlib.lines.Line2D at 0x1a28d47ef0>]"
      ]
     },
     "execution_count": 266,
     "metadata": {},
     "output_type": "execute_result"
    },
    {
     "data": {
      "text/plain": [
       "Text(-1.7763214154259428, -0.6673392653251097, '41')"
      ]
     },
     "execution_count": 266,
     "metadata": {},
     "output_type": "execute_result"
    },
    {
     "data": {
      "text/plain": [
       "[<matplotlib.lines.Line2D at 0x1a28d47780>]"
      ]
     },
     "execution_count": 266,
     "metadata": {},
     "output_type": "execute_result"
    },
    {
     "data": {
      "text/plain": [
       "Text(1.1118083775376415, 1.7289257996568344, '42')"
      ]
     },
     "execution_count": 266,
     "metadata": {},
     "output_type": "execute_result"
    },
    {
     "data": {
      "image/png": "[encoded data removed]",
      "text/plain": [
       "<Figure size 432x288 with 1 Axes>"
      ]
     },
     "metadata": {
      "needs_background": "light"
     },
     "output_type": "display_data"
    }
   ],
   "source": [
    "for i in range(len(xvector)):\n",
    "# arrows project features (ie columns from csv) as vectors onto PC axes\n",
    "    plt.arrow(0, 0, xvector[i]*max(xs), yvector[i]*max(ys),\n",
    "              color='r', width=0.0005, head_width=0.0025)\n",
    "    plt.text(xvector[i]*max(xs)*1.2, yvector[i]*max(ys)*1.2,\n",
    "             list(X_z.columns.values)[i], color='r')\n",
    "\n",
    "for i in range(len(xs)):\n",
    "# circles project documents (ie rows from csv) as points onto PC axes\n",
    "    plt.plot(xs[i], ys[i], 'bo')\n",
    "    plt.text(xs[i]*1.2, ys[i]*1.2, list(X_z.index)[i], color='b')\n",
    "\n",
    "plt.show()"
   ]
  },
  {
   "cell_type": "markdown",
   "metadata": {},
   "source": [
    "# Question 3"
   ]
  },
  {
   "cell_type": "markdown",
   "metadata": {},
   "source": [
    "Based on the matrix, PC 1 is highly correlated with predictors relative to other components This also supports the stated variance, as PC 1 can explain approximately 85 percent of the variance in the dataset."
   ]
  },
  {
   "cell_type": "code",
   "execution_count": 267,
   "metadata": {},
   "outputs": [
    {
     "data": {
      "text/plain": [
       "Index(['CONT', 'INTG', 'DMNR', 'DILG', 'CFMG', 'DECI', 'PREP', 'FAMI', 'ORAL',\n",
       "       'WRIT', 'PHYS', 'RTEN'],\n",
       "      dtype='object')"
      ]
     },
     "execution_count": 267,
     "metadata": {},
     "output_type": "execute_result"
    }
   ],
   "source": [
    "X.columns"
   ]
  },
  {
   "cell_type": "code",
   "execution_count": 268,
   "metadata": {},
   "outputs": [
    {
     "data": {
      "text/plain": [
       "-0.8735418203296375"
      ]
     },
     "execution_count": 268,
     "metadata": {},
     "output_type": "execute_result"
    }
   ],
   "source": [
    "X['INTG'].skew()"
   ]
  },
  {
   "cell_type": "code",
   "execution_count": 269,
   "metadata": {},
   "outputs": [],
   "source": [
    "import numpy as np\n",
    "X_log = pd.DataFrame()\n",
    "for column in X.columns:\n",
    "    X_log[column] = np.log(X[column])"
   ]
  },
  {
   "cell_type": "code",
   "execution_count": 270,
   "metadata": {},
   "outputs": [
    {
     "data": {
      "text/plain": [
       "-1.4151787318391762"
      ]
     },
     "execution_count": 270,
     "metadata": {},
     "output_type": "execute_result"
    }
   ],
   "source": [
    "X_log['DMNR'].skew()"
   ]
  },
  {
   "cell_type": "code",
   "execution_count": 271,
   "metadata": {},
   "outputs": [
    {
     "data": {
      "text/plain": [
       "-0.9821593532596288"
      ]
     },
     "execution_count": 271,
     "metadata": {},
     "output_type": "execute_result"
    }
   ],
   "source": [
    "X['DMNR'].skew()"
   ]
  },
  {
   "cell_type": "code",
   "execution_count": 272,
   "metadata": {},
   "outputs": [],
   "source": [
    "from sklearn.decomposition import PCA\n",
    "from scipy.stats import zscore\n",
    "pca1 = PCA()\n",
    "X_log_z=X_log.apply(zscore) # standardize features\n",
    "X_log_pca=pca1.fit_transform(X_log_z) # fit PCs"
   ]
  },
  {
   "cell_type": "code",
   "execution_count": 273,
   "metadata": {},
   "outputs": [
    {
     "data": {
      "text/plain": [
       "<Figure size 432x288 with 0 Axes>"
      ]
     },
     "execution_count": 273,
     "metadata": {},
     "output_type": "execute_result"
    },
    {
     "data": {
      "text/plain": [
       "[<matplotlib.lines.Line2D at 0x1a28e3dc88>]"
      ]
     },
     "execution_count": 273,
     "metadata": {},
     "output_type": "execute_result"
    },
    {
     "data": {
      "text/plain": [
       "Text(0.5, 0, 'Number of Components')"
      ]
     },
     "execution_count": 273,
     "metadata": {},
     "output_type": "execute_result"
    },
    {
     "data": {
      "text/plain": [
       "Text(0, 0.5, 'Variance (%)')"
      ]
     },
     "execution_count": 273,
     "metadata": {},
     "output_type": "execute_result"
    },
    {
     "data": {
      "text/plain": [
       "Text(0.5, 1.0, 'JudgeRatings Dataset Explained Variance')"
      ]
     },
     "execution_count": 273,
     "metadata": {},
     "output_type": "execute_result"
    },
    {
     "data": {
      "image/png": "[encoded data removed]",
      "text/plain": [
       "<Figure size 432x288 with 1 Axes>"
      ]
     },
     "metadata": {
      "needs_background": "light"
     },
     "output_type": "display_data"
    }
   ],
   "source": [
    "plt.figure()\n",
    "plt.plot(range(1,pca1.n_components_+1),np.cumsum(pca1.explained_variance_ratio_),marker='o')\n",
    "plt.xlabel('Number of Components')\n",
    "plt.ylabel('Variance (%)') #for each component\n",
    "plt.title('JudgeRatings Dataset Explained Variance')\n",
    "plt.show()"
   ]
  },
  {
   "cell_type": "code",
   "execution_count": 274,
   "metadata": {},
   "outputs": [
    {
     "data": {
      "text/plain": [
       "<Figure size 432x288 with 0 Axes>"
      ]
     },
     "execution_count": 274,
     "metadata": {},
     "output_type": "execute_result"
    },
    {
     "data": {
      "text/plain": [
       "[<matplotlib.lines.Line2D at 0x1a285d2cc0>]"
      ]
     },
     "execution_count": 274,
     "metadata": {},
     "output_type": "execute_result"
    },
    {
     "data": {
      "text/plain": [
       "Text(0.5, 0, 'Component')"
      ]
     },
     "execution_count": 274,
     "metadata": {},
     "output_type": "execute_result"
    },
    {
     "data": {
      "text/plain": [
       "Text(0, 0.5, 'Eigenvalue')"
      ]
     },
     "execution_count": 274,
     "metadata": {},
     "output_type": "execute_result"
    },
    {
     "data": {
      "text/plain": [
       "Text(0.5, 1.0, 'JudgeRatings Dataset Eigenvalues')"
      ]
     },
     "execution_count": 274,
     "metadata": {},
     "output_type": "execute_result"
    },
    {
     "data": {
      "image/png": "[encoded data removed]",
      "text/plain": [
       "<Figure size 432x288 with 1 Axes>"
      ]
     },
     "metadata": {
      "needs_background": "light"
     },
     "output_type": "display_data"
    }
   ],
   "source": [
    "plt.figure()\n",
    "plt.plot(range(1,pca1.n_components_+1),pca1.explained_variance_,marker='o')\n",
    "plt.xlabel(\"Component\")\n",
    "plt.ylabel(\"Eigenvalue\")\n",
    "plt.title('JudgeRatings Dataset Eigenvalues')\n",
    "plt.show()"
   ]
  },
  {
   "cell_type": "code",
   "execution_count": 275,
   "metadata": {},
   "outputs": [
    {
     "data": {
      "text/html": [
       "<div>\n",
       "<style scoped>\n",
       "    .dataframe tbody tr th:only-of-type {\n",
       "        vertical-align: middle;\n",
       "    }\n",
       "\n",
       "    .dataframe tbody tr th {\n",
       "        vertical-align: top;\n",
       "    }\n",
       "\n",
       "    .dataframe thead th {\n",
       "        text-align: right;\n",
       "    }\n",
       "</style>\n",
       "<table border=\"1\" class=\"dataframe\">\n",
       "  <thead>\n",
       "    <tr style=\"text-align: right;\">\n",
       "      <th></th>\n",
       "      <th>PC_1</th>\n",
       "      <th>PC_2</th>\n",
       "      <th>PC_3</th>\n",
       "      <th>PC_4</th>\n",
       "      <th>PC_5</th>\n",
       "      <th>PC_6</th>\n",
       "      <th>PC_7</th>\n",
       "      <th>PC_8</th>\n",
       "      <th>PC_9</th>\n",
       "      <th>PC_10</th>\n",
       "      <th>PC_11</th>\n",
       "      <th>PC_12</th>\n",
       "    </tr>\n",
       "  </thead>\n",
       "  <tbody>\n",
       "    <tr>\n",
       "      <th>CONT</th>\n",
       "      <td>0.005149</td>\n",
       "      <td>0.928280</td>\n",
       "      <td>0.328326</td>\n",
       "      <td>-0.142511</td>\n",
       "      <td>-0.073911</td>\n",
       "      <td>-0.009113</td>\n",
       "      <td>-0.003331</td>\n",
       "      <td>-0.055287</td>\n",
       "      <td>-0.027131</td>\n",
       "      <td>0.028037</td>\n",
       "      <td>-0.004799</td>\n",
       "      <td>0.001683</td>\n",
       "    </tr>\n",
       "    <tr>\n",
       "      <th>INTG</th>\n",
       "      <td>-0.289511</td>\n",
       "      <td>-0.187264</td>\n",
       "      <td>0.526167</td>\n",
       "      <td>-0.157155</td>\n",
       "      <td>0.103353</td>\n",
       "      <td>0.403208</td>\n",
       "      <td>-0.549108</td>\n",
       "      <td>0.219298</td>\n",
       "      <td>-0.189012</td>\n",
       "      <td>-0.100438</td>\n",
       "      <td>0.096217</td>\n",
       "      <td>-0.040325</td>\n",
       "    </tr>\n",
       "    <tr>\n",
       "      <th>DMNR</th>\n",
       "      <td>-0.287526</td>\n",
       "      <td>-0.200887</td>\n",
       "      <td>0.371069</td>\n",
       "      <td>-0.445726</td>\n",
       "      <td>0.222706</td>\n",
       "      <td>-0.415894</td>\n",
       "      <td>0.453074</td>\n",
       "      <td>-0.118261</td>\n",
       "      <td>-0.277098</td>\n",
       "      <td>0.078631</td>\n",
       "      <td>-0.074220</td>\n",
       "      <td>0.101523</td>\n",
       "    </tr>\n",
       "    <tr>\n",
       "      <th>DILG</th>\n",
       "      <td>-0.303826</td>\n",
       "      <td>0.035625</td>\n",
       "      <td>0.055166</td>\n",
       "      <td>0.384229</td>\n",
       "      <td>0.309864</td>\n",
       "      <td>0.515372</td>\n",
       "      <td>0.277922</td>\n",
       "      <td>-0.416385</td>\n",
       "      <td>0.001209</td>\n",
       "      <td>0.365923</td>\n",
       "      <td>-0.059399</td>\n",
       "      <td>0.077936</td>\n",
       "    </tr>\n",
       "    <tr>\n",
       "      <th>CFMG</th>\n",
       "      <td>-0.303665</td>\n",
       "      <td>0.168277</td>\n",
       "      <td>-0.180538</td>\n",
       "      <td>0.134270</td>\n",
       "      <td>0.420078</td>\n",
       "      <td>-0.017090</td>\n",
       "      <td>0.182148</td>\n",
       "      <td>0.746067</td>\n",
       "      <td>0.125697</td>\n",
       "      <td>-0.039343</td>\n",
       "      <td>-0.211940</td>\n",
       "      <td>0.005608</td>\n",
       "    </tr>\n",
       "    <tr>\n",
       "      <th>DECI</th>\n",
       "      <td>-0.301563</td>\n",
       "      <td>0.131563</td>\n",
       "      <td>-0.254149</td>\n",
       "      <td>0.210421</td>\n",
       "      <td>0.414831</td>\n",
       "      <td>-0.468924</td>\n",
       "      <td>-0.483763</td>\n",
       "      <td>-0.311677</td>\n",
       "      <td>-0.147199</td>\n",
       "      <td>-0.101122</td>\n",
       "      <td>0.165487</td>\n",
       "      <td>0.021450</td>\n",
       "    </tr>\n",
       "    <tr>\n",
       "      <th>PREP</th>\n",
       "      <td>-0.310073</td>\n",
       "      <td>0.031660</td>\n",
       "      <td>0.021805</td>\n",
       "      <td>0.255980</td>\n",
       "      <td>-0.221372</td>\n",
       "      <td>0.082272</td>\n",
       "      <td>0.343787</td>\n",
       "      <td>-0.065062</td>\n",
       "      <td>-0.168188</td>\n",
       "      <td>-0.691162</td>\n",
       "      <td>0.254743</td>\n",
       "      <td>-0.296257</td>\n",
       "    </tr>\n",
       "    <tr>\n",
       "      <th>FAMI</th>\n",
       "      <td>-0.308134</td>\n",
       "      <td>-0.003781</td>\n",
       "      <td>-0.018652</td>\n",
       "      <td>0.259113</td>\n",
       "      <td>-0.510175</td>\n",
       "      <td>-0.105451</td>\n",
       "      <td>-0.119711</td>\n",
       "      <td>0.032168</td>\n",
       "      <td>-0.275384</td>\n",
       "      <td>0.004021</td>\n",
       "      <td>-0.526100</td>\n",
       "      <td>0.445144</td>\n",
       "    </tr>\n",
       "    <tr>\n",
       "      <th>ORAL</th>\n",
       "      <td>-0.313579</td>\n",
       "      <td>-0.004809</td>\n",
       "      <td>-0.003062</td>\n",
       "      <td>-0.017160</td>\n",
       "      <td>-0.248804</td>\n",
       "      <td>-0.066036</td>\n",
       "      <td>0.058444</td>\n",
       "      <td>0.135276</td>\n",
       "      <td>0.340015</td>\n",
       "      <td>0.174357</td>\n",
       "      <td>0.657918</td>\n",
       "      <td>0.484246</td>\n",
       "    </tr>\n",
       "    <tr>\n",
       "      <th>WRIT</th>\n",
       "      <td>-0.311841</td>\n",
       "      <td>-0.034566</td>\n",
       "      <td>0.056034</td>\n",
       "      <td>0.120350</td>\n",
       "      <td>-0.326877</td>\n",
       "      <td>-0.228488</td>\n",
       "      <td>-0.058570</td>\n",
       "      <td>0.092681</td>\n",
       "      <td>0.065775</td>\n",
       "      <td>0.504873</td>\n",
       "      <td>0.021798</td>\n",
       "      <td>-0.673173</td>\n",
       "    </tr>\n",
       "    <tr>\n",
       "      <th>PHYS</th>\n",
       "      <td>-0.274023</td>\n",
       "      <td>0.111061</td>\n",
       "      <td>-0.610672</td>\n",
       "      <td>-0.573134</td>\n",
       "      <td>-0.106041</td>\n",
       "      <td>0.322502</td>\n",
       "      <td>-0.020343</td>\n",
       "      <td>-0.046851</td>\n",
       "      <td>-0.286941</td>\n",
       "      <td>0.073792</td>\n",
       "      <td>0.033671</td>\n",
       "      <td>-0.066316</td>\n",
       "    </tr>\n",
       "    <tr>\n",
       "      <th>RTEN</th>\n",
       "      <td>-0.310267</td>\n",
       "      <td>-0.037519</td>\n",
       "      <td>0.023150</td>\n",
       "      <td>-0.265437</td>\n",
       "      <td>-0.020262</td>\n",
       "      <td>0.010911</td>\n",
       "      <td>-0.094699</td>\n",
       "      <td>-0.270887</td>\n",
       "      <td>0.736811</td>\n",
       "      <td>-0.262310</td>\n",
       "      <td>-0.365016</td>\n",
       "      <td>-0.059350</td>\n",
       "    </tr>\n",
       "  </tbody>\n",
       "</table>\n",
       "</div>"
      ],
      "text/plain": [
       "          PC_1      PC_2      PC_3      PC_4      PC_5      PC_6      PC_7  \\\n",
       "CONT  0.005149  0.928280  0.328326 -0.142511 -0.073911 -0.009113 -0.003331   \n",
       "INTG -0.289511 -0.187264  0.526167 -0.157155  0.103353  0.403208 -0.549108   \n",
       "DMNR -0.287526 -0.200887  0.371069 -0.445726  0.222706 -0.415894  0.453074   \n",
       "DILG -0.303826  0.035625  0.055166  0.384229  0.309864  0.515372  0.277922   \n",
       "CFMG -0.303665  0.168277 -0.180538  0.134270  0.420078 -0.017090  0.182148   \n",
       "DECI -0.301563  0.131563 -0.254149  0.210421  0.414831 -0.468924 -0.483763   \n",
       "PREP -0.310073  0.031660  0.021805  0.255980 -0.221372  0.082272  0.343787   \n",
       "FAMI -0.308134 -0.003781 -0.018652  0.259113 -0.510175 -0.105451 -0.119711   \n",
       "ORAL -0.313579 -0.004809 -0.003062 -0.017160 -0.248804 -0.066036  0.058444   \n",
       "WRIT -0.311841 -0.034566  0.056034  0.120350 -0.326877 -0.228488 -0.058570   \n",
       "PHYS -0.274023  0.111061 -0.610672 -0.573134 -0.106041  0.322502 -0.020343   \n",
       "RTEN -0.310267 -0.037519  0.023150 -0.265437 -0.020262  0.010911 -0.094699   \n",
       "\n",
       "          PC_8      PC_9     PC_10     PC_11     PC_12  \n",
       "CONT -0.055287 -0.027131  0.028037 -0.004799  0.001683  \n",
       "INTG  0.219298 -0.189012 -0.100438  0.096217 -0.040325  \n",
       "DMNR -0.118261 -0.277098  0.078631 -0.074220  0.101523  \n",
       "DILG -0.416385  0.001209  0.365923 -0.059399  0.077936  \n",
       "CFMG  0.746067  0.125697 -0.039343 -0.211940  0.005608  \n",
       "DECI -0.311677 -0.147199 -0.101122  0.165487  0.021450  \n",
       "PREP -0.065062 -0.168188 -0.691162  0.254743 -0.296257  \n",
       "FAMI  0.032168 -0.275384  0.004021 -0.526100  0.445144  \n",
       "ORAL  0.135276  0.340015  0.174357  0.657918  0.484246  \n",
       "WRIT  0.092681  0.065775  0.504873  0.021798 -0.673173  \n",
       "PHYS -0.046851 -0.286941  0.073792  0.033671 -0.066316  \n",
       "RTEN -0.270887  0.736811 -0.262310 -0.365016 -0.059350  "
      ]
     },
     "execution_count": 275,
     "metadata": {},
     "output_type": "execute_result"
    }
   ],
   "source": [
    "weight_pca=pd.DataFrame(pca1.components_.T,columns=['PC_{}'.format(i) for i in range(1, pca1.n_components_+1)],index=X.columns)\n",
    "weight_pca"
   ]
  },
  {
   "cell_type": "code",
   "execution_count": 276,
   "metadata": {},
   "outputs": [
    {
     "data": {
      "text/html": [
       "<div>\n",
       "<style scoped>\n",
       "    .dataframe tbody tr th:only-of-type {\n",
       "        vertical-align: middle;\n",
       "    }\n",
       "\n",
       "    .dataframe tbody tr th {\n",
       "        vertical-align: top;\n",
       "    }\n",
       "\n",
       "    .dataframe thead th {\n",
       "        text-align: right;\n",
       "    }\n",
       "</style>\n",
       "<table border=\"1\" class=\"dataframe\">\n",
       "  <thead>\n",
       "    <tr style=\"text-align: right;\">\n",
       "      <th></th>\n",
       "      <th>PC_1</th>\n",
       "      <th>PC_2</th>\n",
       "      <th>PC_3</th>\n",
       "      <th>PC_4</th>\n",
       "      <th>PC_5</th>\n",
       "      <th>PC_6</th>\n",
       "      <th>PC_7</th>\n",
       "      <th>PC_8</th>\n",
       "      <th>PC_9</th>\n",
       "      <th>PC_10</th>\n",
       "      <th>PC_11</th>\n",
       "      <th>PC_12</th>\n",
       "    </tr>\n",
       "  </thead>\n",
       "  <tbody>\n",
       "    <tr>\n",
       "      <th>CONT</th>\n",
       "      <td>0.02</td>\n",
       "      <td>0.98</td>\n",
       "      <td>0.19</td>\n",
       "      <td>-0.08</td>\n",
       "      <td>-0.02</td>\n",
       "      <td>-0.00</td>\n",
       "      <td>-0.00</td>\n",
       "      <td>-0.01</td>\n",
       "      <td>-0.00</td>\n",
       "      <td>0.00</td>\n",
       "      <td>-0.00</td>\n",
       "      <td>0.00</td>\n",
       "    </tr>\n",
       "    <tr>\n",
       "      <th>INTG</th>\n",
       "      <td>-0.92</td>\n",
       "      <td>-0.20</td>\n",
       "      <td>0.31</td>\n",
       "      <td>-0.09</td>\n",
       "      <td>0.03</td>\n",
       "      <td>0.08</td>\n",
       "      <td>-0.08</td>\n",
       "      <td>0.03</td>\n",
       "      <td>-0.02</td>\n",
       "      <td>-0.01</td>\n",
       "      <td>0.01</td>\n",
       "      <td>-0.00</td>\n",
       "    </tr>\n",
       "    <tr>\n",
       "      <th>DMNR</th>\n",
       "      <td>-0.91</td>\n",
       "      <td>-0.21</td>\n",
       "      <td>0.22</td>\n",
       "      <td>-0.24</td>\n",
       "      <td>0.06</td>\n",
       "      <td>-0.08</td>\n",
       "      <td>0.07</td>\n",
       "      <td>-0.01</td>\n",
       "      <td>-0.03</td>\n",
       "      <td>0.01</td>\n",
       "      <td>-0.00</td>\n",
       "      <td>0.00</td>\n",
       "    </tr>\n",
       "    <tr>\n",
       "      <th>DILG</th>\n",
       "      <td>-0.96</td>\n",
       "      <td>0.04</td>\n",
       "      <td>0.03</td>\n",
       "      <td>0.21</td>\n",
       "      <td>0.09</td>\n",
       "      <td>0.10</td>\n",
       "      <td>0.04</td>\n",
       "      <td>-0.05</td>\n",
       "      <td>0.00</td>\n",
       "      <td>0.03</td>\n",
       "      <td>-0.00</td>\n",
       "      <td>0.00</td>\n",
       "    </tr>\n",
       "    <tr>\n",
       "      <th>CFMG</th>\n",
       "      <td>-0.96</td>\n",
       "      <td>0.18</td>\n",
       "      <td>-0.10</td>\n",
       "      <td>0.07</td>\n",
       "      <td>0.12</td>\n",
       "      <td>-0.00</td>\n",
       "      <td>0.03</td>\n",
       "      <td>0.09</td>\n",
       "      <td>0.01</td>\n",
       "      <td>-0.00</td>\n",
       "      <td>-0.01</td>\n",
       "      <td>0.00</td>\n",
       "    </tr>\n",
       "    <tr>\n",
       "      <th>DECI</th>\n",
       "      <td>-0.96</td>\n",
       "      <td>0.14</td>\n",
       "      <td>-0.15</td>\n",
       "      <td>0.11</td>\n",
       "      <td>0.11</td>\n",
       "      <td>-0.09</td>\n",
       "      <td>-0.07</td>\n",
       "      <td>-0.04</td>\n",
       "      <td>-0.01</td>\n",
       "      <td>-0.01</td>\n",
       "      <td>0.01</td>\n",
       "      <td>0.00</td>\n",
       "    </tr>\n",
       "    <tr>\n",
       "      <th>PREP</th>\n",
       "      <td>-0.98</td>\n",
       "      <td>0.03</td>\n",
       "      <td>0.01</td>\n",
       "      <td>0.14</td>\n",
       "      <td>-0.06</td>\n",
       "      <td>0.02</td>\n",
       "      <td>0.05</td>\n",
       "      <td>-0.01</td>\n",
       "      <td>-0.02</td>\n",
       "      <td>-0.05</td>\n",
       "      <td>0.01</td>\n",
       "      <td>-0.01</td>\n",
       "    </tr>\n",
       "    <tr>\n",
       "      <th>FAMI</th>\n",
       "      <td>-0.98</td>\n",
       "      <td>-0.00</td>\n",
       "      <td>-0.01</td>\n",
       "      <td>0.14</td>\n",
       "      <td>-0.14</td>\n",
       "      <td>-0.02</td>\n",
       "      <td>-0.02</td>\n",
       "      <td>0.00</td>\n",
       "      <td>-0.03</td>\n",
       "      <td>0.00</td>\n",
       "      <td>-0.03</td>\n",
       "      <td>0.02</td>\n",
       "    </tr>\n",
       "    <tr>\n",
       "      <th>ORAL</th>\n",
       "      <td>-1.00</td>\n",
       "      <td>-0.01</td>\n",
       "      <td>-0.00</td>\n",
       "      <td>-0.01</td>\n",
       "      <td>-0.07</td>\n",
       "      <td>-0.01</td>\n",
       "      <td>0.01</td>\n",
       "      <td>0.02</td>\n",
       "      <td>0.03</td>\n",
       "      <td>0.01</td>\n",
       "      <td>0.04</td>\n",
       "      <td>0.02</td>\n",
       "    </tr>\n",
       "    <tr>\n",
       "      <th>WRIT</th>\n",
       "      <td>-0.99</td>\n",
       "      <td>-0.04</td>\n",
       "      <td>0.03</td>\n",
       "      <td>0.07</td>\n",
       "      <td>-0.09</td>\n",
       "      <td>-0.05</td>\n",
       "      <td>-0.01</td>\n",
       "      <td>0.01</td>\n",
       "      <td>0.01</td>\n",
       "      <td>0.04</td>\n",
       "      <td>0.00</td>\n",
       "      <td>-0.03</td>\n",
       "    </tr>\n",
       "    <tr>\n",
       "      <th>PHYS</th>\n",
       "      <td>-0.87</td>\n",
       "      <td>0.12</td>\n",
       "      <td>-0.35</td>\n",
       "      <td>-0.31</td>\n",
       "      <td>-0.03</td>\n",
       "      <td>0.06</td>\n",
       "      <td>-0.00</td>\n",
       "      <td>-0.01</td>\n",
       "      <td>-0.03</td>\n",
       "      <td>0.01</td>\n",
       "      <td>0.00</td>\n",
       "      <td>-0.00</td>\n",
       "    </tr>\n",
       "    <tr>\n",
       "      <th>RTEN</th>\n",
       "      <td>-0.99</td>\n",
       "      <td>-0.04</td>\n",
       "      <td>0.01</td>\n",
       "      <td>-0.14</td>\n",
       "      <td>-0.01</td>\n",
       "      <td>0.00</td>\n",
       "      <td>-0.01</td>\n",
       "      <td>-0.03</td>\n",
       "      <td>0.07</td>\n",
       "      <td>-0.02</td>\n",
       "      <td>-0.02</td>\n",
       "      <td>-0.00</td>\n",
       "    </tr>\n",
       "  </tbody>\n",
       "</table>\n",
       "</div>"
      ],
      "text/plain": [
       "      PC_1  PC_2  PC_3  PC_4  PC_5  PC_6  PC_7  PC_8  PC_9  PC_10  PC_11  \\\n",
       "CONT  0.02  0.98  0.19 -0.08 -0.02 -0.00 -0.00 -0.01 -0.00   0.00  -0.00   \n",
       "INTG -0.92 -0.20  0.31 -0.09  0.03  0.08 -0.08  0.03 -0.02  -0.01   0.01   \n",
       "DMNR -0.91 -0.21  0.22 -0.24  0.06 -0.08  0.07 -0.01 -0.03   0.01  -0.00   \n",
       "DILG -0.96  0.04  0.03  0.21  0.09  0.10  0.04 -0.05  0.00   0.03  -0.00   \n",
       "CFMG -0.96  0.18 -0.10  0.07  0.12 -0.00  0.03  0.09  0.01  -0.00  -0.01   \n",
       "DECI -0.96  0.14 -0.15  0.11  0.11 -0.09 -0.07 -0.04 -0.01  -0.01   0.01   \n",
       "PREP -0.98  0.03  0.01  0.14 -0.06  0.02  0.05 -0.01 -0.02  -0.05   0.01   \n",
       "FAMI -0.98 -0.00 -0.01  0.14 -0.14 -0.02 -0.02  0.00 -0.03   0.00  -0.03   \n",
       "ORAL -1.00 -0.01 -0.00 -0.01 -0.07 -0.01  0.01  0.02  0.03   0.01   0.04   \n",
       "WRIT -0.99 -0.04  0.03  0.07 -0.09 -0.05 -0.01  0.01  0.01   0.04   0.00   \n",
       "PHYS -0.87  0.12 -0.35 -0.31 -0.03  0.06 -0.00 -0.01 -0.03   0.01   0.00   \n",
       "RTEN -0.99 -0.04  0.01 -0.14 -0.01  0.00 -0.01 -0.03  0.07  -0.02  -0.02   \n",
       "\n",
       "      PC_12  \n",
       "CONT   0.00  \n",
       "INTG  -0.00  \n",
       "DMNR   0.00  \n",
       "DILG   0.00  \n",
       "CFMG   0.00  \n",
       "DECI   0.00  \n",
       "PREP  -0.01  \n",
       "FAMI   0.02  \n",
       "ORAL   0.02  \n",
       "WRIT  -0.03  \n",
       "PHYS  -0.00  \n",
       "RTEN  -0.00  "
      ]
     },
     "execution_count": 276,
     "metadata": {},
     "output_type": "execute_result"
    }
   ],
   "source": [
    "X_log_pca=pd.DataFrame(X_log_pca,columns=['PC_{}'.format(i) for i in range(1, pca1.n_components_+1)])\n",
    "# covariance matrix and rounded for presentation convenience\n",
    "ComMatrix=X_log_z.join(X_log_pca).corr().filter(X_log_pca.columns).drop(X_log_pca.columns).round(2)\n",
    "ComMatrix"
   ]
  },
  {
   "cell_type": "code",
   "execution_count": 277,
   "metadata": {},
   "outputs": [],
   "source": [
    "xvector = pca1.components_[0]\n",
    "yvector = pca1.components_[1]"
   ]
  },
  {
   "cell_type": "code",
   "execution_count": 278,
   "metadata": {},
   "outputs": [
    {
     "data": {
      "text/plain": [
       "array([ 0.00514937, -0.28951106, -0.28752583, -0.30382638, -0.30366479,\n",
       "       -0.30156304, -0.31007251, -0.30813398, -0.31357929, -0.31184142,\n",
       "       -0.27402291, -0.31026694])"
      ]
     },
     "execution_count": 278,
     "metadata": {},
     "output_type": "execute_result"
    }
   ],
   "source": [
    "xvector"
   ]
  },
  {
   "cell_type": "code",
   "execution_count": 279,
   "metadata": {},
   "outputs": [
    {
     "data": {
      "text/plain": [
       "array([ 0.92828047, -0.18726434, -0.20088712,  0.03562526,  0.16827669,\n",
       "        0.1315632 ,  0.03166003, -0.00378091, -0.00480911, -0.03456579,\n",
       "        0.11106079, -0.03751866])"
      ]
     },
     "execution_count": 279,
     "metadata": {},
     "output_type": "execute_result"
    }
   ],
   "source": [
    "yvector"
   ]
  },
  {
   "cell_type": "code",
   "execution_count": 227,
   "metadata": {},
   "outputs": [],
   "source": [
    "xs = pca1.transform(X_log_z)[:,0]\n",
    "ys = pca1.transform(X_log_z)[:,1]"
   ]
  },
  {
   "cell_type": "code",
   "execution_count": 280,
   "metadata": {},
   "outputs": [
    {
     "data": {
      "text/plain": [
       "array([ 0.59268305, -2.40817832, -0.22780349, -3.66071616,  6.95244952,\n",
       "       -2.47442074, -3.93743704,  8.09307094, -3.70295623, -1.06028925,\n",
       "        0.34108279,  1.45772527,  0.67688211,  3.26409534, -1.36896588,\n",
       "        0.45009339,  2.93209773,  0.72643742, -0.64887947,  4.4075758 ,\n",
       "        1.84009523,  3.15606059,  6.42980257,  0.08315548, -3.39121775,\n",
       "       -4.60271493, -1.51784742, -3.51102566, -1.91559427, -4.83537434,\n",
       "       -1.1121334 , -0.54875827, -2.61362018, -3.63917622,  6.94389214,\n",
       "       -2.04961153, -1.2208113 , -0.72842414,  2.13120556, -1.36785124,\n",
       "        2.61916318, -1.48026785,  0.92650698])"
      ]
     },
     "execution_count": 280,
     "metadata": {},
     "output_type": "execute_result"
    }
   ],
   "source": [
    "xs"
   ]
  },
  {
   "cell_type": "code",
   "execution_count": 281,
   "metadata": {},
   "outputs": [
    {
     "data": {
      "text/plain": [
       "array([-1.83455704e+00, -8.78164524e-01, -3.02316250e-01, -5.96342199e-01,\n",
       "        1.37356050e-01, -1.42242289e+00,  3.14771114e+00, -2.71058974e-01,\n",
       "       -1.46659161e-01,  1.14904617e+00, -4.70502584e-01, -1.23279475e+00,\n",
       "       -1.29785581e+00, -5.66023927e-01, -8.48756359e-01, -1.82461748e-01,\n",
       "        3.83887639e-01,  4.63364335e-01,  9.04423859e-01,  2.44455833e+00,\n",
       "       -8.01922043e-01,  1.18968056e-01, -1.45277036e+00, -1.48330799e+00,\n",
       "        1.32351096e-01,  4.79764153e-01, -4.27971456e-01,  1.18298732e-03,\n",
       "        2.46170053e-01, -4.48069023e-01, -3.44165889e-01,  1.02250951e+00,\n",
       "       -3.99509080e-01, -1.62216363e-01,  3.30376531e-01,  1.19321335e+00,\n",
       "       -5.31924504e-01, -9.14724377e-01,  9.49624029e-01,  1.10043888e+00,\n",
       "        1.92689569e+00, -5.56116054e-01,  1.44077150e+00])"
      ]
     },
     "execution_count": 281,
     "metadata": {},
     "output_type": "execute_result"
    }
   ],
   "source": [
    "ys"
   ]
  },
  {
   "cell_type": "code",
   "execution_count": 282,
   "metadata": {},
   "outputs": [
    {
     "data": {
      "text/plain": [
       "<matplotlib.patches.FancyArrow at 0x1a28fedb38>"
      ]
     },
     "execution_count": 282,
     "metadata": {},
     "output_type": "execute_result"
    },
    {
     "data": {
      "text/plain": [
       "Text(0.050009030730370295, 3.5063505348236714, 'CONT')"
      ]
     },
     "execution_count": 282,
     "metadata": {},
     "output_type": "execute_result"
    },
    {
     "data": {
      "text/plain": [
       "<matplotlib.patches.FancyArrow at 0x1a28fede10>"
      ]
     },
     "execution_count": 282,
     "metadata": {},
     "output_type": "execute_result"
    },
    {
     "data": {
      "text/plain": [
       "Text(-2.811640258373301, -0.7073448438175803, 'INTG')"
      ]
     },
     "execution_count": 282,
     "metadata": {},
     "output_type": "execute_result"
    },
    {
     "data": {
      "text/plain": [
       "<matplotlib.patches.FancyArrow at 0x1a28ffd358>"
      ]
     },
     "execution_count": 282,
     "metadata": {},
     "output_type": "execute_result"
    },
    {
     "data": {
      "text/plain": [
       "Text(-2.792360350481902, -0.7588015698962035, 'DMNR')"
      ]
     },
     "execution_count": 282,
     "metadata": {},
     "output_type": "execute_result"
    },
    {
     "data": {
      "text/plain": [
       "<matplotlib.patches.FancyArrow at 0x1a28ffd940>"
      ]
     },
     "execution_count": 282,
     "metadata": {},
     "output_type": "execute_result"
    },
    {
     "data": {
      "text/plain": [
       "Text(-2.9506661648712367, 0.1345656482632207, 'DILG')"
      ]
     },
     "execution_count": 282,
     "metadata": {},
     "output_type": "execute_result"
    },
    {
     "data": {
      "text/plain": [
       "<matplotlib.patches.FancyArrow at 0x1a28ffdbe0>"
      ]
     },
     "execution_count": 282,
     "metadata": {},
     "output_type": "execute_result"
    },
    {
     "data": {
      "text/plain": [
       "Text(-2.949096800238441, 0.6356236906774545, 'CFMG')"
      ]
     },
     "execution_count": 282,
     "metadata": {},
     "output_type": "execute_result"
    },
    {
     "data": {
      "text/plain": [
       "<matplotlib.patches.FancyArrow at 0x1a28ecf0f0>"
      ]
     },
     "execution_count": 282,
     "metadata": {},
     "output_type": "execute_result"
    },
    {
     "data": {
      "text/plain": [
       "Text(-2.9286852740080636, 0.4969475445713567, 'DECI')"
      ]
     },
     "execution_count": 282,
     "metadata": {},
     "output_type": "execute_result"
    },
    {
     "data": {
      "text/plain": [
       "<matplotlib.patches.FancyArrow at 0x1a28ecf780>"
      ]
     },
     "execution_count": 282,
     "metadata": {},
     "output_type": "execute_result"
    },
    {
     "data": {
      "text/plain": [
       "Text(-3.011326573986899, 0.11958795415784179, 'PREP')"
      ]
     },
     "execution_count": 282,
     "metadata": {},
     "output_type": "execute_result"
    },
    {
     "data": {
      "text/plain": [
       "<matplotlib.patches.FancyArrow at 0x1a28ecfbe0>"
      ]
     },
     "execution_count": 282,
     "metadata": {},
     "output_type": "execute_result"
    },
    {
     "data": {
      "text/plain": [
       "Text(-2.9925001787040153, -0.014281473911530798, 'FAMI')"
      ]
     },
     "execution_count": 282,
     "metadata": {},
     "output_type": "execute_result"
    },
    {
     "data": {
      "text/plain": [
       "<matplotlib.patches.FancyArrow at 0x1a28ecd0b8>"
      ]
     },
     "execution_count": 282,
     "metadata": {},
     "output_type": "execute_result"
    },
    {
     "data": {
      "text/plain": [
       "Text(-3.0453833684972196, -0.01816523943722214, 'ORAL')"
      ]
     },
     "execution_count": 282,
     "metadata": {},
     "output_type": "execute_result"
    },
    {
     "data": {
      "text/plain": [
       "<matplotlib.patches.FancyArrow at 0x1a28ecd550>"
      ]
     },
     "execution_count": 282,
     "metadata": {},
     "output_type": "execute_result"
    },
    {
     "data": {
      "text/plain": [
       "Text(-3.028505675752505, -0.13056375920063754, 'WRIT')"
      ]
     },
     "execution_count": 282,
     "metadata": {},
     "output_type": "execute_result"
    },
    {
     "data": {
      "text/plain": [
       "<matplotlib.patches.FancyArrow at 0x1a28ecd588>"
      ]
     },
     "execution_count": 282,
     "metadata": {},
     "output_type": "execute_result"
    },
    {
     "data": {
      "text/plain": [
       "Text(-2.661224241170146, 0.419504729568765, 'PHYS')"
      ]
     },
     "execution_count": 282,
     "metadata": {},
     "output_type": "execute_result"
    },
    {
     "data": {
      "text/plain": [
       "<matplotlib.patches.FancyArrow at 0x1a28ecde80>"
      ]
     },
     "execution_count": 282,
     "metadata": {},
     "output_type": "execute_result"
    },
    {
     "data": {
      "text/plain": [
       "Text(-3.013214849611313, -0.14171748406370646, 'RTEN')"
      ]
     },
     "execution_count": 282,
     "metadata": {},
     "output_type": "execute_result"
    },
    {
     "data": {
      "text/plain": [
       "[<matplotlib.lines.Line2D at 0x1a28fdb400>]"
      ]
     },
     "execution_count": 282,
     "metadata": {},
     "output_type": "execute_result"
    },
    {
     "data": {
      "text/plain": [
       "Text(0.7112196597293469, -2.2014684494092935, '0')"
      ]
     },
     "execution_count": 282,
     "metadata": {},
     "output_type": "execute_result"
    },
    {
     "data": {
      "text/plain": [
       "[<matplotlib.lines.Line2D at 0x1a28ee28d0>]"
      ]
     },
     "execution_count": 282,
     "metadata": {},
     "output_type": "execute_result"
    },
    {
     "data": {
      "text/plain": [
       "Text(-2.8898139893862655, -1.053797428939235, '1')"
      ]
     },
     "execution_count": 282,
     "metadata": {},
     "output_type": "execute_result"
    },
    {
     "data": {
      "text/plain": [
       "[<matplotlib.lines.Line2D at 0x1a28ee2e10>]"
      ]
     },
     "execution_count": 282,
     "metadata": {},
     "output_type": "execute_result"
    },
    {
     "data": {
      "text/plain": [
       "Text(-0.27336419054532896, -0.36277950037867657, '2')"
      ]
     },
     "execution_count": 282,
     "metadata": {},
     "output_type": "execute_result"
    },
    {
     "data": {
      "text/plain": [
       "[<matplotlib.lines.Line2D at 0x1a28ee4390>]"
      ]
     },
     "execution_count": 282,
     "metadata": {},
     "output_type": "execute_result"
    },
    {
     "data": {
      "text/plain": [
       "Text(-4.392859391188457, -0.7156106382494037, '3')"
      ]
     },
     "execution_count": 282,
     "metadata": {},
     "output_type": "execute_result"
    },
    {
     "data": {
      "text/plain": [
       "[<matplotlib.lines.Line2D at 0x1a28ee48d0>]"
      ]
     },
     "execution_count": 282,
     "metadata": {},
     "output_type": "execute_result"
    },
    {
     "data": {
      "text/plain": [
       "Text(8.342939425312819, 0.16482725978851734, '4')"
      ]
     },
     "execution_count": 282,
     "metadata": {},
     "output_type": "execute_result"
    },
    {
     "data": {
      "text/plain": [
       "[<matplotlib.lines.Line2D at 0x1a28ee4eb8>]"
      ]
     },
     "execution_count": 282,
     "metadata": {},
     "output_type": "execute_result"
    },
    {
     "data": {
      "text/plain": [
       "Text(-2.969304886465158, -1.7069074629244063, '5')"
      ]
     },
     "execution_count": 282,
     "metadata": {},
     "output_type": "execute_result"
    },
    {
     "data": {
      "text/plain": [
       "[<matplotlib.lines.Line2D at 0x1a28ee4c88>]"
      ]
     },
     "execution_count": 282,
     "metadata": {},
     "output_type": "execute_result"
    },
    {
     "data": {
      "text/plain": [
       "Text(-4.724924444822004, 3.77725337372885, '6')"
      ]
     },
     "execution_count": 282,
     "metadata": {},
     "output_type": "execute_result"
    },
    {
     "data": {
      "text/plain": [
       "[<matplotlib.lines.Line2D at 0x1a28ef58d0>]"
      ]
     },
     "execution_count": 282,
     "metadata": {},
     "output_type": "execute_result"
    },
    {
     "data": {
      "text/plain": [
       "Text(9.711685131640408, -0.32527076825370277, '7')"
      ]
     },
     "execution_count": 282,
     "metadata": {},
     "output_type": "execute_result"
    },
    {
     "data": {
      "text/plain": [
       "[<matplotlib.lines.Line2D at 0x1a28ef5e48>]"
      ]
     },
     "execution_count": 282,
     "metadata": {},
     "output_type": "execute_result"
    },
    {
     "data": {
      "text/plain": [
       "Text(-4.443547470573579, -0.1759909930863545, '8')"
      ]
     },
     "execution_count": 282,
     "metadata": {},
     "output_type": "execute_result"
    },
    {
     "data": {
      "text/plain": [
       "[<matplotlib.lines.Line2D at 0x1a28efa390>]"
      ]
     },
     "execution_count": 282,
     "metadata": {},
     "output_type": "execute_result"
    },
    {
     "data": {
      "text/plain": [
       "Text(-1.2723470980188867, 1.3788554037951042, '9')"
      ]
     },
     "execution_count": 282,
     "metadata": {},
     "output_type": "execute_result"
    },
    {
     "data": {
      "text/plain": [
       "[<matplotlib.lines.Line2D at 0x1a28efa908>]"
      ]
     },
     "execution_count": 282,
     "metadata": {},
     "output_type": "execute_result"
    },
    {
     "data": {
      "text/plain": [
       "Text(0.4092993454556523, -0.5646031010869353, '10')"
      ]
     },
     "execution_count": 282,
     "metadata": {},
     "output_type": "execute_result"
    },
    {
     "data": {
      "text/plain": [
       "[<matplotlib.lines.Line2D at 0x1a28efae48>]"
      ]
     },
     "execution_count": 282,
     "metadata": {},
     "output_type": "execute_result"
    },
    {
     "data": {
      "text/plain": [
       "Text(1.7492703191237111, -1.4793537058674215, '11')"
      ]
     },
     "execution_count": 282,
     "metadata": {},
     "output_type": "execute_result"
    },
    {
     "data": {
      "text/plain": [
       "[<matplotlib.lines.Line2D at 0x1a28efae80>]"
      ]
     },
     "execution_count": 282,
     "metadata": {},
     "output_type": "execute_result"
    },
    {
     "data": {
      "text/plain": [
       "Text(0.8122585358275295, -1.557426969620419, '12')"
      ]
     },
     "execution_count": 282,
     "metadata": {},
     "output_type": "execute_result"
    },
    {
     "data": {
      "text/plain": [
       "[<matplotlib.lines.Line2D at 0x1a28f089b0>]"
      ]
     },
     "execution_count": 282,
     "metadata": {},
     "output_type": "execute_result"
    },
    {
     "data": {
      "text/plain": [
       "Text(3.9169144139273246, -0.6792287123290996, '13')"
      ]
     },
     "execution_count": 282,
     "metadata": {},
     "output_type": "execute_result"
    },
    {
     "data": {
      "text/plain": [
       "[<matplotlib.lines.Line2D at 0x1a28f08f28>]"
      ]
     },
     "execution_count": 282,
     "metadata": {},
     "output_type": "execute_result"
    },
    {
     "data": {
      "text/plain": [
       "Text(-1.6427590578827218, -1.0185076302643228, '14')"
      ]
     },
     "execution_count": 282,
     "metadata": {},
     "output_type": "execute_result"
    },
    {
     "data": {
      "text/plain": [
       "[<matplotlib.lines.Line2D at 0x1a290834e0>]"
      ]
     },
     "execution_count": 282,
     "metadata": {},
     "output_type": "execute_result"
    },
    {
     "data": {
      "text/plain": [
       "Text(0.5401120708784202, -0.2189540979615043, '15')"
      ]
     },
     "execution_count": 282,
     "metadata": {},
     "output_type": "execute_result"
    },
    {
     "data": {
      "text/plain": [
       "[<matplotlib.lines.Line2D at 0x1a29083a20>]"
      ]
     },
     "execution_count": 282,
     "metadata": {},
     "output_type": "execute_result"
    },
    {
     "data": {
      "text/plain": [
       "Text(3.5185172761067185, 0.46066516647329614, '16')"
      ]
     },
     "execution_count": 282,
     "metadata": {},
     "output_type": "execute_result"
    },
    {
     "data": {
      "text/plain": [
       "[<matplotlib.lines.Line2D at 0x1a29083eb8>]"
      ]
     },
     "execution_count": 282,
     "metadata": {},
     "output_type": "execute_result"
    },
    {
     "data": {
      "text/plain": [
       "Text(0.871724899510732, 0.5560372023657612, '17')"
      ]
     },
     "execution_count": 282,
     "metadata": {},
     "output_type": "execute_result"
    },
    {
     "data": {
      "text/plain": [
       "[<matplotlib.lines.Line2D at 0x1a29084550>]"
      ]
     },
     "execution_count": 282,
     "metadata": {},
     "output_type": "execute_result"
    },
    {
     "data": {
      "text/plain": [
       "Text(-0.7786553588801801, 1.0853086303095292, '18')"
      ]
     },
     "execution_count": 282,
     "metadata": {},
     "output_type": "execute_result"
    },
    {
     "data": {
      "text/plain": [
       "[<matplotlib.lines.Line2D at 0x1a290849e8>]"
      ]
     },
     "execution_count": 282,
     "metadata": {},
     "output_type": "execute_result"
    },
    {
     "data": {
      "text/plain": [
       "Text(5.289090960405441, 2.9334699942577247, '19')"
      ]
     },
     "execution_count": 282,
     "metadata": {},
     "output_type": "execute_result"
    },
    {
     "data": {
      "text/plain": [
       "[<matplotlib.lines.Line2D at 0x1a29084f60>]"
      ]
     },
     "execution_count": 282,
     "metadata": {},
     "output_type": "execute_result"
    },
    {
     "data": {
      "text/plain": [
       "Text(2.2081142753631804, -0.9623064521589854, '20')"
      ]
     },
     "execution_count": 282,
     "metadata": {},
     "output_type": "execute_result"
    },
    {
     "data": {
      "text/plain": [
       "[<matplotlib.lines.Line2D at 0x1a2908f5f8>]"
      ]
     },
     "execution_count": 282,
     "metadata": {},
     "output_type": "execute_result"
    },
    {
     "data": {
      "text/plain": [
       "Text(3.7872727045529535, 0.14276166687534037, '21')"
      ]
     },
     "execution_count": 282,
     "metadata": {},
     "output_type": "execute_result"
    },
    {
     "data": {
      "text/plain": [
       "[<matplotlib.lines.Line2D at 0x1a2908fba8>]"
      ]
     },
     "execution_count": 282,
     "metadata": {},
     "output_type": "execute_result"
    },
    {
     "data": {
      "text/plain": [
       "Text(7.715763079551492, -1.7433244350556076, '22')"
      ]
     },
     "execution_count": 282,
     "metadata": {},
     "output_type": "execute_result"
    },
    {
     "data": {
      "text/plain": [
       "[<matplotlib.lines.Line2D at 0x1a29093128>]"
      ]
     },
     "execution_count": 282,
     "metadata": {},
     "output_type": "execute_result"
    },
    {
     "data": {
      "text/plain": [
       "Text(0.09978657913103203, -1.7799695878869743, '23')"
      ]
     },
     "execution_count": 282,
     "metadata": {},
     "output_type": "execute_result"
    },
    {
     "data": {
      "text/plain": [
       "[<matplotlib.lines.Line2D at 0x1a290936a0>]"
      ]
     },
     "execution_count": 282,
     "metadata": {},
     "output_type": "execute_result"
    },
    {
     "data": {
      "text/plain": [
       "Text(-4.069461300137161, 0.15882131575392497, '24')"
      ]
     },
     "execution_count": 282,
     "metadata": {},
     "output_type": "execute_result"
    },
    {
     "data": {
      "text/plain": [
       "[<matplotlib.lines.Line2D at 0x1a29093a20>]"
      ]
     },
     "execution_count": 282,
     "metadata": {},
     "output_type": "execute_result"
    },
    {
     "data": {
      "text/plain": [
       "Text(-5.523257920845012, 0.5757169838732346, '25')"
      ]
     },
     "execution_count": 282,
     "metadata": {},
     "output_type": "execute_result"
    },
    {
     "data": {
      "text/plain": [
       "[<matplotlib.lines.Line2D at 0x1a290ac1d0>]"
      ]
     },
     "execution_count": 282,
     "metadata": {},
     "output_type": "execute_result"
    },
    {
     "data": {
      "text/plain": [
       "Text(-1.8214168986849055, -0.5135657467188645, '26')"
      ]
     },
     "execution_count": 282,
     "metadata": {},
     "output_type": "execute_result"
    },
    {
     "data": {
      "text/plain": [
       "[<matplotlib.lines.Line2D at 0x1a290ac748>]"
      ]
     },
     "execution_count": 282,
     "metadata": {},
     "output_type": "execute_result"
    },
    {
     "data": {
      "text/plain": [
       "Text(-4.213230795696744, 0.0014195847781385829, '27')"
      ]
     },
     "execution_count": 282,
     "metadata": {},
     "output_type": "execute_result"
    },
    {
     "data": {
      "text/plain": [
       "[<matplotlib.lines.Line2D at 0x1a290accc0>]"
      ]
     },
     "execution_count": 282,
     "metadata": {},
     "output_type": "execute_result"
    },
    {
     "data": {
      "text/plain": [
       "Text(-2.2987131256531836, 0.29540406372261746, '28')"
      ]
     },
     "execution_count": 282,
     "metadata": {},
     "output_type": "execute_result"
    },
    {
     "data": {
      "text/plain": [
       "[<matplotlib.lines.Line2D at 0x1a290ad278>]"
      ]
     },
     "execution_count": 282,
     "metadata": {},
     "output_type": "execute_result"
    },
    {
     "data": {
      "text/plain": [
       "Text(-5.80244920607923, -0.5376828274579096, '29')"
      ]
     },
     "execution_count": 282,
     "metadata": {},
     "output_type": "execute_result"
    },
    {
     "data": {
      "text/plain": [
       "[<matplotlib.lines.Line2D at 0x1a290ad7f0>]"
      ]
     },
     "execution_count": 282,
     "metadata": {},
     "output_type": "execute_result"
    },
    {
     "data": {
      "text/plain": [
       "Text(-1.3345600849186436, -0.41299906670407055, '30')"
      ]
     },
     "execution_count": 282,
     "metadata": {},
     "output_type": "execute_result"
    },
    {
     "data": {
      "text/plain": [
       "[<matplotlib.lines.Line2D at 0x1a290add68>]"
      ]
     },
     "execution_count": 282,
     "metadata": {},
     "output_type": "execute_result"
    },
    {
     "data": {
      "text/plain": [
       "Text(-0.6585099282756507, 1.2270114104817094, '31')"
      ]
     },
     "execution_count": 282,
     "metadata": {},
     "output_type": "execute_result"
    },
    {
     "data": {
      "text/plain": [
       "[<matplotlib.lines.Line2D at 0x1a290ba320>]"
      ]
     },
     "execution_count": 282,
     "metadata": {},
     "output_type": "execute_result"
    },
    {
     "data": {
      "text/plain": [
       "Text(-3.136344215618591, -0.4794108963260003, '32')"
      ]
     },
     "execution_count": 282,
     "metadata": {},
     "output_type": "execute_result"
    },
    {
     "data": {
      "text/plain": [
       "[<matplotlib.lines.Line2D at 0x1a290ba898>]"
      ]
     },
     "execution_count": 282,
     "metadata": {},
     "output_type": "execute_result"
    },
    {
     "data": {
      "text/plain": [
       "Text(-4.367011462157904, -0.19465963577300094, '33')"
      ]
     },
     "execution_count": 282,
     "metadata": {},
     "output_type": "execute_result"
    },
    {
     "data": {
      "text/plain": [
       "[<matplotlib.lines.Line2D at 0x1a290bae10>]"
      ]
     },
     "execution_count": 282,
     "metadata": {},
     "output_type": "execute_result"
    },
    {
     "data": {
      "text/plain": [
       "Text(8.332670566923703, 0.3964518372683334, '34')"
      ]
     },
     "execution_count": 282,
     "metadata": {},
     "output_type": "execute_result"
    },
    {
     "data": {
      "text/plain": [
       "[<matplotlib.lines.Line2D at 0x1a290c13c8>]"
      ]
     },
     "execution_count": 282,
     "metadata": {},
     "output_type": "execute_result"
    },
    {
     "data": {
      "text/plain": [
       "Text(-2.4595338418537445, 1.4318560210967208, '35')"
      ]
     },
     "execution_count": 282,
     "metadata": {},
     "output_type": "execute_result"
    },
    {
     "data": {
      "text/plain": [
       "[<matplotlib.lines.Line2D at 0x1a290c1940>]"
      ]
     },
     "execution_count": 282,
     "metadata": {},
     "output_type": "execute_result"
    },
    {
     "data": {
      "text/plain": [
       "Text(-1.464973563085506, -0.6383094043600825, '36')"
      ]
     },
     "execution_count": 282,
     "metadata": {},
     "output_type": "execute_result"
    },
    {
     "data": {
      "text/plain": [
       "[<matplotlib.lines.Line2D at 0x1a290c1eb8>]"
      ]
     },
     "execution_count": 282,
     "metadata": {},
     "output_type": "execute_result"
    },
    {
     "data": {
      "text/plain": [
       "Text(-0.8741089667805594, -1.0976692524440024, '37')"
      ]
     },
     "execution_count": 282,
     "metadata": {},
     "output_type": "execute_result"
    },
    {
     "data": {
      "text/plain": [
       "[<matplotlib.lines.Line2D at 0x1a290d1470>]"
      ]
     },
     "execution_count": 282,
     "metadata": {},
     "output_type": "execute_result"
    },
    {
     "data": {
      "text/plain": [
       "Text(2.5574466666057853, 1.139548834356876, '38')"
      ]
     },
     "execution_count": 282,
     "metadata": {},
     "output_type": "execute_result"
    },
    {
     "data": {
      "text/plain": [
       "[<matplotlib.lines.Line2D at 0x1a290c11d0>]"
      ]
     },
     "execution_count": 282,
     "metadata": {},
     "output_type": "execute_result"
    },
    {
     "data": {
      "text/plain": [
       "Text(-1.6414214910579352, 1.3205266539139437, '39')"
      ]
     },
     "execution_count": 282,
     "metadata": {},
     "output_type": "execute_result"
    },
    {
     "data": {
      "text/plain": [
       "[<matplotlib.lines.Line2D at 0x1a290d1f60>]"
      ]
     },
     "execution_count": 282,
     "metadata": {},
     "output_type": "execute_result"
    },
    {
     "data": {
      "text/plain": [
       "Text(3.1429958164494036, 2.3122748260849275, '40')"
      ]
     },
     "execution_count": 282,
     "metadata": {},
     "output_type": "execute_result"
    },
    {
     "data": {
      "text/plain": [
       "[<matplotlib.lines.Line2D at 0x1a290d4518>]"
      ]
     },
     "execution_count": 282,
     "metadata": {},
     "output_type": "execute_result"
    },
    {
     "data": {
      "text/plain": [
       "Text(-1.7763214154259428, -0.6673392653251097, '41')"
      ]
     },
     "execution_count": 282,
     "metadata": {},
     "output_type": "execute_result"
    },
    {
     "data": {
      "text/plain": [
       "[<matplotlib.lines.Line2D at 0x1a290d1a90>]"
      ]
     },
     "execution_count": 282,
     "metadata": {},
     "output_type": "execute_result"
    },
    {
     "data": {
      "text/plain": [
       "Text(1.1118083775376415, 1.7289257996568344, '42')"
      ]
     },
     "execution_count": 282,
     "metadata": {},
     "output_type": "execute_result"
    },
    {
     "data": {
      "image/png": "[encoded data removed]",
      "text/plain": [
       "<Figure size 432x288 with 1 Axes>"
      ]
     },
     "metadata": {
      "needs_background": "light"
     },
     "output_type": "display_data"
    }
   ],
   "source": [
    "for i in range(len(xvector)):\n",
    "# arrows project features (ie columns from csv) as vectors onto PC axes\n",
    "    plt.arrow(0, 0, xvector[i]*max(xs), yvector[i]*max(ys),\n",
    "              color='r', width=0.0005, head_width=0.0025)\n",
    "    plt.text(xvector[i]*max(xs)*1.2, yvector[i]*max(ys)*1.2,\n",
    "             list(X_log_z.columns.values)[i], color='r')\n",
    "\n",
    "for i in range(len(xs)):\n",
    "# circles project documents (ie rows from csv) as points onto PC axes\n",
    "    plt.plot(xs[i], ys[i], 'bo')\n",
    "    plt.text(xs[i]*1.2, ys[i]*1.2, list(X_log_z.index)[i], color='b')\n",
    "\n",
    "plt.show()"
   ]
  },
  {
   "cell_type": "code",
   "execution_count": null,
   "metadata": {},
   "outputs": [],
   "source": []
  }
 ],
 "metadata": {
  "kernelspec": {
   "display_name": "Python 3",
   "language": "python",
   "name": "python3"
  },
  "language_info": {
   "codemirror_mode": {
    "name": "ipython",
    "version": 3
   },
   "file_extension": ".py",
   "mimetype": "text/x-python",
   "name": "python",
   "nbconvert_exporter": "python",
   "pygments_lexer": "ipython3",
   "version": "3.7.3"
  }
 },
 "nbformat": 4,
 "nbformat_minor": 2
}
